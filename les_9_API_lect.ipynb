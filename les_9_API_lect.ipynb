{
 "cells": [
  {
   "cell_type": "markdown",
   "metadata": {
    "id": "Ct4oat4Mn7ei"
   },
   "source": [
    "# API (ВКонтакте, Google Documents, Яндекс.Метрика)"
   ]
  },
  {
   "cell_type": "markdown",
   "metadata": {
    "id": "kStIahM6n7eo"
   },
   "source": [
    "Работа с API имеет большое значение для аналитиков данных, поскольку она позволяет им получать доступ к различным источникам данных и автоматизировать процессы анализа.\n",
    "\n",
    "API позволяют аналитикам данных получать доступ к большим объемам данных из различных источников, таких как социальные сети, поисковые системы, базы данных и другие веб-сервисы. Это позволяет аналитикам собирать и обрабатывать данные быстрее и эффективнее, чем если бы они делали это вручную.\n",
    "\n",
    "Также работа с API позволяет не только взаимодействовать с различными источниками данных, но и создавать чат-ботов, а также передавать информацию напрямую из Jupyter-ноутбука в выбранные источники.\n",
    "\n",
    "В этом уроке мы познакомимся с наиболее распространенными API: ВКонтакте, Google Documents, Яндекс.Метрика."
   ]
  },
  {
   "cell_type": "markdown",
   "metadata": {
    "id": "6I582Vann7eq"
   },
   "source": [
    "### Работа с API ВКонтакте"
   ]
  },
  {
   "cell_type": "code",
   "execution_count": 1,
   "metadata": {
    "id": "3xKAlGq0n7er"
   },
   "outputs": [],
   "source": [
    "import pandas as pd\n",
    "import datetime\n",
    "import os\n",
    "import sys\n",
    "\n",
    "\n",
    "import matplotlib.pyplot as plt\n",
    "import seaborn as sns\n"
   ]
  },
  {
   "cell_type": "markdown",
   "metadata": {
    "id": "TwleKcqUn7et"
   },
   "source": [
    "В данном блоке вы научитесь поключаться к API ВКонтакте и создавать чат-ботов, от имени которых можно автоматически отправлять сообщения в ВКонтакте, используя язык программирования Python."
   ]
  },
  {
   "cell_type": "markdown",
   "metadata": {
    "id": "jDRFa42On7eu"
   },
   "source": [
    "**Подготовка автоматизации на сайте ВКонтакте:**"
   ]
  },
  {
   "cell_type": "markdown",
   "metadata": {
    "id": "0utbfRVDn7ev"
   },
   "source": [
    "Для начала работы по созданию чат-бота необходимо совершить следующие подготовительные действия на стороне сервиса ВКонтакте:\n",
    "\n",
    "* Перейти во вкладку `Сообщества` и выбрать опцию `Создать сообщество` (укажите цель, название, приватность и тематику)\n",
    "![](https://storage.yandexcloud.net/klms-public/production/learning-content/457/4167/37262/103311/490773/vk_1.PNG)\n",
    "\n",
    "* Перейти в сообщество и выбрать вкладку `Управление`\n",
    "![](https://storage.yandexcloud.net/klms-public/production/learning-content/457/4167/37262/103311/490773/vk_2.png)\n",
    "* В управлении сообществом необходимо выбрать вариант `Работа с API`\n",
    "* Выбрать опцию `Создать ключ`, отметить галочкой все необходимые права для нового ключа доступа (проставьте все)\n",
    "![](https://storage.yandexcloud.net/klms-public/production/learning-content/457/4167/37262/103311/490773/vk_3.png)\n",
    "* Зайти в раздел `Сообщения` и выбрать `Сообщения cообщества: Включены`. Сохранить результат!\n",
    "![](https://storage.yandexcloud.net/klms-public/production/learning-content/457/4167/37262/103311/490773/vk_4.png)\n",
    "* Во вкладке `Сообщения` перейти на вкладку `Настройки для бота`, выбрать `Возможности ботов:Включены` и поставить галочку напротив варианта `Разрешать добавлять сообщество в чаты`. Сохранить результат!\n",
    "![](https://storage.yandexcloud.net/klms-public/production/learning-content/457/4167/37262/103311/490773/vk_6_OR74ASx.jpg)\n",
    "* Зайти в сообщество\n",
    "* Выбрать `Разрешить сообщения` (находится на вкладке `Ещё`; если там стоит `Запретить сообщения`, то всё в порядке)\n",
    "![](https://storage.yandexcloud.net/klms-public/production/learning-content/457/4167/37262/103311/490773/vk_6.png)\n",
    "* Нажать кнопку `Добавить в чат` и в меню `Приглашение сообщества в чат` выберите своего бота, нажав `Пригласить`. **Другой вариант:** Нажать кнопку `Добавить в чат`, выбрать беседу(чат), нажать `Пригласить`."
   ]
  },
  {
   "cell_type": "markdown",
   "metadata": {
    "id": "TI1f3-Gdn7ey"
   },
   "source": [
    "**Работа с Python**:"
   ]
  },
  {
   "cell_type": "code",
   "execution_count": 2,
   "metadata": {
    "id": "GcYeJJx3n7ez"
   },
   "outputs": [],
   "source": [
    "# Импорт необходимых библиотек:\n",
    "# для работы с социальной сетью ВКонтакте\n",
    "import vk_api\n",
    "# для отправки HTTP-запросов к сервирам\n",
    "import requests\n",
    "# для работы с данными в формате JSON\n",
    "import json\n",
    "# для генерации случайных чисел\n",
    "import random"
   ]
  },
  {
   "cell_type": "markdown",
   "metadata": {
    "id": "A5_T2jysn7e0"
   },
   "source": [
    "В общем случае для идентификации в API используется специальный ключ доступа, который называется `access_token`.\n",
    "\n",
    "**Ключ доступа** — это строка из цифр и латинских букв, которую вы передаёте на сервер вместе с запросом. Из этой строки сервер получает всю нужную ему информацию. Есть разные способы получения токена, более того, он может быть выдан не только пользователю, но и сообществу, и сразу всему приложению."
   ]
  },
  {
   "cell_type": "markdown",
   "metadata": {
    "id": "e8HcTJk8n7e1"
   },
   "source": [
    "**Где найти ключ доступа (токен)?**\n",
    "\n",
    "В интерфейсе настроек сообщества. Для этого достаточно открыть раздел `Управление`, выбрать вкладку `Работа с API`, где будут расположены созданные ключи доступа."
   ]
  },
  {
   "cell_type": "code",
   "execution_count": null,
   "metadata": {
    "id": "33wZy2E5n7e2"
   },
   "outputs": [],
   "source": [
    "# Задаём токен\n",
    "token = 'your_token'"
   ]
  },
  {
   "cell_type": "code",
   "execution_count": null,
   "metadata": {
    "id": "Eh1oj9wnn7e3"
   },
   "outputs": [],
   "source": [
    "# Создаем сессию VK API с использованием токена и получаем объект API для взаимодействия с методами API ВКонтакте\n",
    "vk_session = vk_api.VkApi(token=token)\n",
    "vk = vk_session.get_api()"
   ]
  },
  {
   "cell_type": "markdown",
   "metadata": {
    "id": "5ddcjrOrn7e4"
   },
   "source": [
    "**1. Отправка текстового сообщения**"
   ]
  },
  {
   "cell_type": "code",
   "execution_count": null,
   "metadata": {
    "id": "OHAKLPR-n7e5",
    "outputId": "5081a1d2-fedd-4cbe-9414-4cd240fe2f13"
   },
   "outputs": [
    {
     "data": {
      "text/plain": [
       "0"
      ]
     },
     "execution_count": 14,
     "metadata": {},
     "output_type": "execute_result"
    }
   ],
   "source": [
    "# Используем метод vk.messages.send\n",
    "vk.messages.send(\n",
    "    chat_id=1, # указание идентификатора чата, в который будет отправлено сообщение\n",
    "    random_id=1, # указание случайного идентификатора сообщения\n",
    "    message='Wake up, Neo ...' # текст самого сообщения)"
   ]
  },
  {
   "cell_type": "markdown",
   "metadata": {
    "id": "r5s5AeLYn7e6"
   },
   "source": [
    "**Работа с данными для последующей отправки документа в чат в ВКонтакте:**"
   ]
  },
  {
   "cell_type": "code",
   "execution_count": null,
   "metadata": {
    "id": "vIO318Fbn7e6"
   },
   "outputs": [],
   "source": [
    "# Укажите ваш логин\n",
    "student_login = 'your_login'"
   ]
  },
  {
   "cell_type": "code",
   "execution_count": null,
   "metadata": {
    "id": "r1Te-KC8n7e7"
   },
   "outputs": [],
   "source": [
    "df = pd.read_csv(f'/mnt/HC_Volume_18315164/home-jupyter/jupyter-{student_login}/shared/ads_data.csv.zip', compression='zip')"
   ]
  },
  {
   "cell_type": "code",
   "execution_count": null,
   "metadata": {
    "id": "H9cRZHL4n7e7",
    "outputId": "8c4c5e02-5f92-4313-bc7f-3967f5c987d3"
   },
   "outputs": [
    {
     "data": {
      "text/html": [
       "<div>\n",
       "<style scoped>\n",
       "    .dataframe tbody tr th:only-of-type {\n",
       "        vertical-align: middle;\n",
       "    }\n",
       "\n",
       "    .dataframe tbody tr th {\n",
       "        vertical-align: top;\n",
       "    }\n",
       "\n",
       "    .dataframe thead th {\n",
       "        text-align: right;\n",
       "    }\n",
       "</style>\n",
       "<table border=\"1\" class=\"dataframe\">\n",
       "  <thead>\n",
       "    <tr style=\"text-align: right;\">\n",
       "      <th></th>\n",
       "      <th>ad_id</th>\n",
       "      <th>time</th>\n",
       "      <th>event</th>\n",
       "      <th>date</th>\n",
       "      <th>ad_cost_type</th>\n",
       "      <th>has_video</th>\n",
       "      <th>client_union_id</th>\n",
       "      <th>campaign_union_id</th>\n",
       "      <th>platform</th>\n",
       "      <th>ad_cost</th>\n",
       "      <th>target_audience_count</th>\n",
       "      <th>user_id</th>\n",
       "    </tr>\n",
       "  </thead>\n",
       "  <tbody>\n",
       "    <tr>\n",
       "      <th>0</th>\n",
       "      <td>23456</td>\n",
       "      <td>1554076848</td>\n",
       "      <td>view</td>\n",
       "      <td>2019-04-01</td>\n",
       "      <td>CPM</td>\n",
       "      <td>0</td>\n",
       "      <td>5681</td>\n",
       "      <td>23456</td>\n",
       "      <td>android</td>\n",
       "      <td>190.0</td>\n",
       "      <td>125560</td>\n",
       "      <td>793</td>\n",
       "    </tr>\n",
       "    <tr>\n",
       "      <th>1</th>\n",
       "      <td>111941</td>\n",
       "      <td>1554135866</td>\n",
       "      <td>view</td>\n",
       "      <td>2019-04-01</td>\n",
       "      <td>CPM</td>\n",
       "      <td>0</td>\n",
       "      <td>111793</td>\n",
       "      <td>111941</td>\n",
       "      <td>ios</td>\n",
       "      <td>215.2</td>\n",
       "      <td>32277</td>\n",
       "      <td>1041</td>\n",
       "    </tr>\n",
       "    <tr>\n",
       "      <th>2</th>\n",
       "      <td>111941</td>\n",
       "      <td>1554135866</td>\n",
       "      <td>view</td>\n",
       "      <td>2019-04-01</td>\n",
       "      <td>CPM</td>\n",
       "      <td>0</td>\n",
       "      <td>111793</td>\n",
       "      <td>111941</td>\n",
       "      <td>ios</td>\n",
       "      <td>215.2</td>\n",
       "      <td>32277</td>\n",
       "      <td>41</td>\n",
       "    </tr>\n",
       "    <tr>\n",
       "      <th>3</th>\n",
       "      <td>42987</td>\n",
       "      <td>1554135866</td>\n",
       "      <td>view</td>\n",
       "      <td>2019-04-01</td>\n",
       "      <td>CPM</td>\n",
       "      <td>0</td>\n",
       "      <td>28541</td>\n",
       "      <td>42985</td>\n",
       "      <td>ios</td>\n",
       "      <td>199.1</td>\n",
       "      <td>80160</td>\n",
       "      <td>898</td>\n",
       "    </tr>\n",
       "    <tr>\n",
       "      <th>4</th>\n",
       "      <td>23456</td>\n",
       "      <td>1554135866</td>\n",
       "      <td>view</td>\n",
       "      <td>2019-04-01</td>\n",
       "      <td>CPM</td>\n",
       "      <td>0</td>\n",
       "      <td>5681</td>\n",
       "      <td>23456</td>\n",
       "      <td>web</td>\n",
       "      <td>190.0</td>\n",
       "      <td>125560</td>\n",
       "      <td>29</td>\n",
       "    </tr>\n",
       "  </tbody>\n",
       "</table>\n",
       "</div>"
      ],
      "text/plain": [
       "    ad_id        time event        date ad_cost_type  has_video  \\\n",
       "0   23456  1554076848  view  2019-04-01          CPM          0   \n",
       "1  111941  1554135866  view  2019-04-01          CPM          0   \n",
       "2  111941  1554135866  view  2019-04-01          CPM          0   \n",
       "3   42987  1554135866  view  2019-04-01          CPM          0   \n",
       "4   23456  1554135866  view  2019-04-01          CPM          0   \n",
       "\n",
       "   client_union_id  campaign_union_id platform  ad_cost  \\\n",
       "0             5681              23456  android    190.0   \n",
       "1           111793             111941      ios    215.2   \n",
       "2           111793             111941      ios    215.2   \n",
       "3            28541              42985      ios    199.1   \n",
       "4             5681              23456      web    190.0   \n",
       "\n",
       "   target_audience_count  user_id  \n",
       "0                 125560      793  \n",
       "1                  32277     1041  \n",
       "2                  32277       41  \n",
       "3                  80160      898  \n",
       "4                 125560       29  "
      ]
     },
     "execution_count": 17,
     "metadata": {},
     "output_type": "execute_result"
    }
   ],
   "source": [
    "df.head()"
   ]
  },
  {
   "cell_type": "code",
   "execution_count": null,
   "metadata": {
    "id": "xg4HgY8hn7e7",
    "outputId": "edc2348a-dc37-45ff-e10a-f86855864ba8"
   },
   "outputs": [
    {
     "data": {
      "text/html": [
       "<div>\n",
       "<style scoped>\n",
       "    .dataframe tbody tr th:only-of-type {\n",
       "        vertical-align: middle;\n",
       "    }\n",
       "\n",
       "    .dataframe tbody tr th {\n",
       "        vertical-align: top;\n",
       "    }\n",
       "\n",
       "    .dataframe thead th {\n",
       "        text-align: right;\n",
       "    }\n",
       "</style>\n",
       "<table border=\"1\" class=\"dataframe\">\n",
       "  <thead>\n",
       "    <tr style=\"text-align: right;\">\n",
       "      <th></th>\n",
       "      <th>ad_id</th>\n",
       "      <th>event</th>\n",
       "      <th>user_id</th>\n",
       "    </tr>\n",
       "  </thead>\n",
       "  <tbody>\n",
       "    <tr>\n",
       "      <th>0</th>\n",
       "      <td>3</td>\n",
       "      <td>click</td>\n",
       "      <td>9</td>\n",
       "    </tr>\n",
       "    <tr>\n",
       "      <th>1</th>\n",
       "      <td>3</td>\n",
       "      <td>view</td>\n",
       "      <td>490</td>\n",
       "    </tr>\n",
       "    <tr>\n",
       "      <th>2</th>\n",
       "      <td>2132</td>\n",
       "      <td>click</td>\n",
       "      <td>1</td>\n",
       "    </tr>\n",
       "    <tr>\n",
       "      <th>3</th>\n",
       "      <td>2132</td>\n",
       "      <td>view</td>\n",
       "      <td>95</td>\n",
       "    </tr>\n",
       "    <tr>\n",
       "      <th>4</th>\n",
       "      <td>2276</td>\n",
       "      <td>click</td>\n",
       "      <td>2</td>\n",
       "    </tr>\n",
       "  </tbody>\n",
       "</table>\n",
       "</div>"
      ],
      "text/plain": [
       "   ad_id  event  user_id\n",
       "0      3  click        9\n",
       "1      3   view      490\n",
       "2   2132  click        1\n",
       "3   2132   view       95\n",
       "4   2276  click        2"
      ]
     },
     "execution_count": 19,
     "metadata": {},
     "output_type": "execute_result"
    }
   ],
   "source": [
    "ad_data = df.groupby(['ad_id', 'event'], as_index = False) \\\n",
    "            .agg({'user_id': 'count'})\n",
    "ad_data.head()"
   ]
  },
  {
   "cell_type": "code",
   "execution_count": null,
   "metadata": {
    "id": "QpmjrZ_Sn7e8",
    "outputId": "25875a60-da75-48d8-fd71-1252c9cd0fdd"
   },
   "outputs": [
    {
     "data": {
      "text/html": [
       "<div>\n",
       "<style scoped>\n",
       "    .dataframe tbody tr th:only-of-type {\n",
       "        vertical-align: middle;\n",
       "    }\n",
       "\n",
       "    .dataframe tbody tr th {\n",
       "        vertical-align: top;\n",
       "    }\n",
       "\n",
       "    .dataframe thead th {\n",
       "        text-align: right;\n",
       "    }\n",
       "</style>\n",
       "<table border=\"1\" class=\"dataframe\">\n",
       "  <thead>\n",
       "    <tr style=\"text-align: right;\">\n",
       "      <th>event</th>\n",
       "      <th>ad_id</th>\n",
       "      <th>click</th>\n",
       "      <th>view</th>\n",
       "    </tr>\n",
       "  </thead>\n",
       "  <tbody>\n",
       "    <tr>\n",
       "      <th>0</th>\n",
       "      <td>3</td>\n",
       "      <td>9.0</td>\n",
       "      <td>490.0</td>\n",
       "    </tr>\n",
       "    <tr>\n",
       "      <th>1</th>\n",
       "      <td>2132</td>\n",
       "      <td>1.0</td>\n",
       "      <td>95.0</td>\n",
       "    </tr>\n",
       "    <tr>\n",
       "      <th>2</th>\n",
       "      <td>2276</td>\n",
       "      <td>2.0</td>\n",
       "      <td>1454.0</td>\n",
       "    </tr>\n",
       "    <tr>\n",
       "      <th>3</th>\n",
       "      <td>2475</td>\n",
       "      <td>NaN</td>\n",
       "      <td>132.0</td>\n",
       "    </tr>\n",
       "    <tr>\n",
       "      <th>4</th>\n",
       "      <td>2643</td>\n",
       "      <td>3.0</td>\n",
       "      <td>286.0</td>\n",
       "    </tr>\n",
       "  </tbody>\n",
       "</table>\n",
       "</div>"
      ],
      "text/plain": [
       "event  ad_id  click    view\n",
       "0          3    9.0   490.0\n",
       "1       2132    1.0    95.0\n",
       "2       2276    2.0  1454.0\n",
       "3       2475    NaN   132.0\n",
       "4       2643    3.0   286.0"
      ]
     },
     "execution_count": 21,
     "metadata": {},
     "output_type": "execute_result"
    }
   ],
   "source": [
    "ad_data = ad_data.pivot(index='ad_id', columns='event', values='user_id').reset_index()\n",
    "ad_data.head()"
   ]
  },
  {
   "cell_type": "code",
   "execution_count": null,
   "metadata": {
    "id": "1vJbruiOn7e8",
    "outputId": "004dca43-5dca-4458-c5ba-a8bd68c2b1e4"
   },
   "outputs": [
    {
     "data": {
      "text/html": [
       "<div>\n",
       "<style scoped>\n",
       "    .dataframe tbody tr th:only-of-type {\n",
       "        vertical-align: middle;\n",
       "    }\n",
       "\n",
       "    .dataframe tbody tr th {\n",
       "        vertical-align: top;\n",
       "    }\n",
       "\n",
       "    .dataframe thead th {\n",
       "        text-align: right;\n",
       "    }\n",
       "</style>\n",
       "<table border=\"1\" class=\"dataframe\">\n",
       "  <thead>\n",
       "    <tr style=\"text-align: right;\">\n",
       "      <th>event</th>\n",
       "      <th>ad_id</th>\n",
       "      <th>click</th>\n",
       "      <th>view</th>\n",
       "      <th>ctr</th>\n",
       "    </tr>\n",
       "  </thead>\n",
       "  <tbody>\n",
       "    <tr>\n",
       "      <th>0</th>\n",
       "      <td>3</td>\n",
       "      <td>9.0</td>\n",
       "      <td>490.0</td>\n",
       "      <td>0.018367</td>\n",
       "    </tr>\n",
       "    <tr>\n",
       "      <th>1</th>\n",
       "      <td>2132</td>\n",
       "      <td>1.0</td>\n",
       "      <td>95.0</td>\n",
       "      <td>0.010526</td>\n",
       "    </tr>\n",
       "    <tr>\n",
       "      <th>2</th>\n",
       "      <td>2276</td>\n",
       "      <td>2.0</td>\n",
       "      <td>1454.0</td>\n",
       "      <td>0.001376</td>\n",
       "    </tr>\n",
       "    <tr>\n",
       "      <th>3</th>\n",
       "      <td>2475</td>\n",
       "      <td>0.0</td>\n",
       "      <td>132.0</td>\n",
       "      <td>NaN</td>\n",
       "    </tr>\n",
       "    <tr>\n",
       "      <th>4</th>\n",
       "      <td>2643</td>\n",
       "      <td>3.0</td>\n",
       "      <td>286.0</td>\n",
       "      <td>0.010490</td>\n",
       "    </tr>\n",
       "  </tbody>\n",
       "</table>\n",
       "</div>"
      ],
      "text/plain": [
       "event  ad_id  click    view       ctr\n",
       "0          3    9.0   490.0  0.018367\n",
       "1       2132    1.0    95.0  0.010526\n",
       "2       2276    2.0  1454.0  0.001376\n",
       "3       2475    0.0   132.0       NaN\n",
       "4       2643    3.0   286.0  0.010490"
      ]
     },
     "execution_count": 22,
     "metadata": {},
     "output_type": "execute_result"
    }
   ],
   "source": [
    "# Считаем CTR\n",
    "ad_data = ad_data.fillna(0).assign(ctr=ad_data.click / ad_data.view)\n",
    "ad_data.head()"
   ]
  },
  {
   "cell_type": "code",
   "execution_count": null,
   "metadata": {
    "id": "P0nf8Yr4n7e8"
   },
   "outputs": [],
   "source": [
    "# Отбираем нужный срез\n",
    "top_ctr = ad_data.query('click > 20 & view > 100').sort_values('ctr').tail(10)"
   ]
  },
  {
   "cell_type": "code",
   "execution_count": null,
   "metadata": {
    "id": "EwaUOHaHn7e9",
    "outputId": "d7452c01-58d4-4e24-8ca9-544acc3da223"
   },
   "outputs": [
    {
     "data": {
      "text/html": [
       "<div>\n",
       "<style scoped>\n",
       "    .dataframe tbody tr th:only-of-type {\n",
       "        vertical-align: middle;\n",
       "    }\n",
       "\n",
       "    .dataframe tbody tr th {\n",
       "        vertical-align: top;\n",
       "    }\n",
       "\n",
       "    .dataframe thead th {\n",
       "        text-align: right;\n",
       "    }\n",
       "</style>\n",
       "<table border=\"1\" class=\"dataframe\">\n",
       "  <thead>\n",
       "    <tr style=\"text-align: right;\">\n",
       "      <th>event</th>\n",
       "      <th>ad_id</th>\n",
       "      <th>click</th>\n",
       "      <th>view</th>\n",
       "      <th>ctr</th>\n",
       "    </tr>\n",
       "  </thead>\n",
       "  <tbody>\n",
       "    <tr>\n",
       "      <th>15</th>\n",
       "      <td>12904</td>\n",
       "      <td>32.0</td>\n",
       "      <td>399.0</td>\n",
       "      <td>0.080201</td>\n",
       "    </tr>\n",
       "    <tr>\n",
       "      <th>328</th>\n",
       "      <td>120347</td>\n",
       "      <td>236.0</td>\n",
       "      <td>2168.0</td>\n",
       "      <td>0.108856</td>\n",
       "    </tr>\n",
       "    <tr>\n",
       "      <th>5</th>\n",
       "      <td>4585</td>\n",
       "      <td>53.0</td>\n",
       "      <td>476.0</td>\n",
       "      <td>0.111345</td>\n",
       "    </tr>\n",
       "    <tr>\n",
       "      <th>96</th>\n",
       "      <td>35034</td>\n",
       "      <td>112.0</td>\n",
       "      <td>997.0</td>\n",
       "      <td>0.112337</td>\n",
       "    </tr>\n",
       "    <tr>\n",
       "      <th>194</th>\n",
       "      <td>45043</td>\n",
       "      <td>28.0</td>\n",
       "      <td>245.0</td>\n",
       "      <td>0.114286</td>\n",
       "    </tr>\n",
       "    <tr>\n",
       "      <th>207</th>\n",
       "      <td>45642</td>\n",
       "      <td>42.0</td>\n",
       "      <td>344.0</td>\n",
       "      <td>0.122093</td>\n",
       "    </tr>\n",
       "    <tr>\n",
       "      <th>144</th>\n",
       "      <td>40968</td>\n",
       "      <td>29.0</td>\n",
       "      <td>217.0</td>\n",
       "      <td>0.133641</td>\n",
       "    </tr>\n",
       "    <tr>\n",
       "      <th>125</th>\n",
       "      <td>38575</td>\n",
       "      <td>43.0</td>\n",
       "      <td>257.0</td>\n",
       "      <td>0.167315</td>\n",
       "    </tr>\n",
       "    <tr>\n",
       "      <th>324</th>\n",
       "      <td>119450</td>\n",
       "      <td>258.0</td>\n",
       "      <td>1254.0</td>\n",
       "      <td>0.205742</td>\n",
       "    </tr>\n",
       "    <tr>\n",
       "      <th>289</th>\n",
       "      <td>112583</td>\n",
       "      <td>580436.0</td>\n",
       "      <td>1934788.0</td>\n",
       "      <td>0.300000</td>\n",
       "    </tr>\n",
       "  </tbody>\n",
       "</table>\n",
       "</div>"
      ],
      "text/plain": [
       "event   ad_id     click       view       ctr\n",
       "15      12904      32.0      399.0  0.080201\n",
       "328    120347     236.0     2168.0  0.108856\n",
       "5        4585      53.0      476.0  0.111345\n",
       "96      35034     112.0      997.0  0.112337\n",
       "194     45043      28.0      245.0  0.114286\n",
       "207     45642      42.0      344.0  0.122093\n",
       "144     40968      29.0      217.0  0.133641\n",
       "125     38575      43.0      257.0  0.167315\n",
       "324    119450     258.0     1254.0  0.205742\n",
       "289    112583  580436.0  1934788.0  0.300000"
      ]
     },
     "execution_count": 24,
     "metadata": {},
     "output_type": "execute_result"
    }
   ],
   "source": [
    "# Итоговый датафрейм\n",
    "top_ctr"
   ]
  },
  {
   "cell_type": "code",
   "execution_count": null,
   "metadata": {
    "id": "INKBrT-qn7e9"
   },
   "outputs": [],
   "source": [
    "# Сохраняем в CSV-файл\n",
    "top_ctr.to_csv('top_ctr_data.csv', index=False)"
   ]
  },
  {
   "cell_type": "markdown",
   "metadata": {
    "id": "IGoqNsMGn7e9"
   },
   "source": [
    "**2. Отправка документа сообщением в чат в ВКонтакте**"
   ]
  },
  {
   "cell_type": "code",
   "execution_count": null,
   "metadata": {
    "id": "kH21t0b1n7e9"
   },
   "outputs": [],
   "source": [
    "# В переменную path задаём путь к файлу top_ctr_data.csv\n",
    "path = 'your_path'\n",
    "# В переменную file_name - имя файла\n",
    "file_name = 'top_ctr_data.csv'"
   ]
  },
  {
   "cell_type": "code",
   "execution_count": null,
   "metadata": {
    "id": "tHZdcdvjn7e9"
   },
   "outputs": [],
   "source": [
    "# Присваиваем переменной path_to_file значения переменной path\n",
    "path_to_file = path\n",
    "# Получаем URL для загрузки файла в сообщения ВКонтакте для беседы с идентификатором 2000000001\n",
    "upload_url = vk.docs.getMessagesUploadServer(peer_id=2000000001)[\"upload_url\"]\n",
    "# Создаём словарь file с ключом 'file' и значением, содержащим имя файла и его содержимое в бинарном режиме\n",
    "file = {'file': (file_name, open(path_to_file, 'rb'))}"
   ]
  },
  {
   "cell_type": "code",
   "execution_count": null,
   "metadata": {
    "id": "jq7NtpMTn7e-"
   },
   "outputs": [],
   "source": [
    "# Отправлем POST-запрос на URL для загрузки файла с использованием библиотеки requests\n",
    "response = requests.post(upload_url, files=file)"
   ]
  },
  {
   "cell_type": "code",
   "execution_count": null,
   "metadata": {
    "id": "D1EqQkr6n7e-"
   },
   "outputs": [],
   "source": [
    "# Загружаем JSON-данные из текстового ответа на запрос — получаем по сути ссылку на файл\n",
    "json_data = json.loads(response.text)"
   ]
  },
  {
   "cell_type": "code",
   "execution_count": null,
   "metadata": {
    "id": "BpT2g20On7e-"
   },
   "outputs": [],
   "source": [
    "# С помощью метода vk.docs.save сохраняем файл в документах ВКонтакте с указанным названием (title) и содержанием(file)\n",
    "saved_file = vk.docs.save(file = json_data['file'], title = file_name)"
   ]
  },
  {
   "cell_type": "code",
   "execution_count": null,
   "metadata": {
    "id": "2onaGvlHn7e-"
   },
   "outputs": [],
   "source": [
    "# Смотрим на данные\n",
    "saved_file"
   ]
  },
  {
   "cell_type": "code",
   "execution_count": null,
   "metadata": {
    "id": "p_hu_WJzn7e-"
   },
   "outputs": [],
   "source": [
    "# Создаем вложение (attachment) для отправки документа сообщением в ВКонтакте\n",
    "attachment = 'doc{}_{}'.format(saved_file['doc']['owner_id'], saved_file['doc']['id'])"
   ]
  },
  {
   "cell_type": "code",
   "execution_count": null,
   "metadata": {
    "id": "NcgcUhTMn7e_",
    "outputId": "2ba63ff6-81f5-46cf-ad10-e8f32196dc32"
   },
   "outputs": [
    {
     "data": {
      "text/plain": [
       "0"
      ]
     },
     "execution_count": 39,
     "metadata": {},
     "output_type": "execute_result"
    }
   ],
   "source": [
    "# Отправляем сообщение с вложенным документом\n",
    "vk.messages.send(\n",
    "    chat_id=1,\n",
    "    random_id=7,\n",
    "    message='Топ объявлений по CTR',\n",
    "    # Добавляем параметр attachment, который используется для прикрепления к сообщению медиа-вложений, таких как фотографии, видео, аудиозаписи и документы\n",
    "    attachment=attachment\n",
    ")"
   ]
  },
  {
   "cell_type": "markdown",
   "metadata": {
    "id": "EyQ70Q18n7e_"
   },
   "source": [
    "**3. Отправка фотографии сообщением в чат в ВКонтакте**"
   ]
  },
  {
   "cell_type": "markdown",
   "metadata": {
    "id": "yalNwJIHn7e_"
   },
   "source": [
    "Для отправки фотографии из jupyter-ноутбука в чат в ВКонтакте, рекомендуем загрузить её в JupyterHub."
   ]
  },
  {
   "cell_type": "code",
   "execution_count": null,
   "metadata": {
    "id": "dHc59xyyn7e_"
   },
   "outputs": [],
   "source": [
    "# В переменную path задаём путь к фотографии\n",
    "path = 'IMG_123.JPG'\n",
    "# В переменную file_name - имя файла\n",
    "file_name = 'IMG_123.JPG'"
   ]
  },
  {
   "cell_type": "code",
   "execution_count": null,
   "metadata": {
    "id": "ULs06zyYn7fA"
   },
   "outputs": [],
   "source": [
    "# Присваиваем переменной path_to_file значения переменной path.\n",
    "path_to_file = path\n",
    "# Получаем URL для загрузки файла в сообщения ВКонтакте для беседы с идентификатором 2000000001\n",
    "upload_url = vk.photos.getMessagesUploadServer(peer_id=2000000001)[\"upload_url\"]\n",
    "# создание словаря file с ключом 'file' и значением, содержащим имя файла и его содержимое в бинарном режиме\n",
    "file = {'file': (file_name, open(path_to_file, 'rb'))}"
   ]
  },
  {
   "cell_type": "code",
   "execution_count": null,
   "metadata": {
    "id": "fNY6ocC9n7fA"
   },
   "outputs": [],
   "source": [
    "# Отправлем POST-запрос на URL для загрузки файла с использованием библиотеки requests\n",
    "response = requests.post(upload_url, files=file)"
   ]
  },
  {
   "cell_type": "code",
   "execution_count": null,
   "metadata": {
    "id": "VwvaJrvpn7fL"
   },
   "outputs": [],
   "source": [
    "# Загружаем JSON-данные из текстового ответа на запрос — получаем по сути ссылку на файл\n",
    "json_data = json.loads(response.text)"
   ]
  },
  {
   "cell_type": "code",
   "execution_count": null,
   "metadata": {
    "id": "OYVJWfU2n7fM"
   },
   "outputs": [],
   "source": [
    "# Используем метод vk.photos.saveMessagesPhoto() для сохранения фотографии с указанными параметрами\n",
    "saved_file = vk.photos.saveMessagesPhoto(photo = json_data['photo'], server = json_data['server'], hash = json_data['hash'])"
   ]
  },
  {
   "cell_type": "code",
   "execution_count": null,
   "metadata": {
    "id": "ezMr1Fb8n7fM"
   },
   "outputs": [],
   "source": [
    "# Создаем вложение (attachment) для отправки фотограции сообщением в ВКонтакте\n",
    "attachment_photo = f\"photo{saved_file[0]['owner_id']}_{saved_file[0]['id']}\""
   ]
  },
  {
   "cell_type": "code",
   "execution_count": null,
   "metadata": {
    "id": "GXAAXAChn7fN",
    "outputId": "954b4c13-9eb1-4867-bd39-3ad7868509fc"
   },
   "outputs": [
    {
     "data": {
      "text/plain": [
       "0"
      ]
     },
     "execution_count": 59,
     "metadata": {},
     "output_type": "execute_result"
    }
   ],
   "source": [
    "# Отправляем сообщение с вложенной фотографией\n",
    "vk.messages.send(\n",
    "    chat_id=1,\n",
    "    random_id=10,\n",
    "    message='Photo',\n",
    "    attachment = attachment_photo\n",
    ")"
   ]
  },
  {
   "cell_type": "code",
   "execution_count": null,
   "metadata": {
    "id": "T22Frmipn7fN"
   },
   "outputs": [],
   "source": [
    "# Отправка фото в чат ещё один способ\n",
    "\n",
    "file_name = 'IMG_123.JPG'\n",
    "# Созданием объект upload для загрузки фотографии в ВКонтакте\n",
    "upload = vk_api.VkUpload(vk)\n",
    "# Загрузка фотографии в сообщения ВКонтакте\n",
    "photo = upload.photo_messages(file_name)\n",
    "# Идентификатор владельца фотографии\n",
    "owner_id = photo[0]['owner_id']\n",
    "# Идентификатор фотографии\n",
    "photo_id = photo[0]['id']\n",
    "# Получение ключа доступа к фотографии из информации о загруженной фотографии\n",
    "access_key = photo[0]['access_key']\n",
    "# Создаем вложение (attachment) для отправки фотографии сообщением в ВКонтакте\n",
    "attachment_photo_2 = f'photo{owner_id}_{photo_id}_{access_key}'"
   ]
  },
  {
   "cell_type": "code",
   "execution_count": null,
   "metadata": {
    "id": "UMftn-iSn7fO",
    "outputId": "6b5d7664-ea45-4be7-ad48-a5a059c1da4e"
   },
   "outputs": [
    {
     "data": {
      "text/plain": [
       "0"
      ]
     },
     "execution_count": 70,
     "metadata": {},
     "output_type": "execute_result"
    }
   ],
   "source": [
    "vk.messages.send(\n",
    "    chat_id=1,\n",
    "    random_id=15,\n",
    "    message='Photo №2',\n",
    "    attachment = attachment_photo_2\n",
    ")"
   ]
  },
  {
   "cell_type": "markdown",
   "metadata": {
    "id": "xHkMyDV7n7fO"
   },
   "source": [
    "### Работа с Google Documents API"
   ]
  },
  {
   "cell_type": "markdown",
   "metadata": {
    "id": "9pi9mDrbn7fO"
   },
   "source": [
    "Перейдите на сайт [Google Developer Console](https://console.cloud.google.com/apis/dashboard?project=magnetic-market-376318)"
   ]
  },
  {
   "cell_type": "markdown",
   "metadata": {
    "id": "Vb5162eKn7fO"
   },
   "source": [
    "* Нажмите `Select a project`\n",
    "![](https://ucarecdn.com/bd942d25-1c54-43e8-a269-87a1f64f785c/)\n",
    "* Выберите `NEW PROJECT`\n",
    "![](https://ucarecdn.com/1675c9fe-e6f6-462c-b266-4633639dd7b8/)\n",
    "* Введите имя и нажмите `Create`\n",
    "![](https://storage.yandexcloud.net/klms-public/production/learning-content/457/4167/37262/103311/490774/image%20%281%29%20%281%29.png)\n",
    "* Перейдите на вкладку `Enable Apps and Services`\n",
    "![](https://storage.yandexcloud.net/klms-public/production/learning-content/457/4167/37262/103311/490774/%D0%B3%D1%83%D0%B3%D0%BB.PNG)\n",
    "* Выберите из предложенных `Google Drive API` и `Google Sheets API` (они находятся ниже в списке) и для каждого из них нажмите `ENABLE` (нужно для их подключения). Для выбора следующего API, выберите `APIs & Services` слева, а затем перейти в `Library` (или просто нажмите в браузере на стрелку назад).\n",
    "![](https://storage.yandexcloud.net/klms-public/production/learning-content/457/4167/37262/103311/490774/4.png)\n",
    "![](https://storage.yandexcloud.net/klms-public/production/learning-content/457/4167/37262/103311/490774/%D0%B3%D1%83%D0%B3%D0%BB%200.PNG)\n",
    "![](https://storage.yandexcloud.net/klms-public/production/learning-content/457/4167/37262/103311/490774/%D0%B3%D1%83%D0%B3%D0%BB%200.1.PNG)\n",
    "* Снова нажмите  `APIs & Services` слева и перейдите во вкладку `Credentials`\n",
    "![](https://storage.yandexcloud.net/klms-public/production/learning-content/457/4167/37262/103311/490774/%D0%B3%D1%83%D0%B3%D0%BB_1.PNG)\n",
    "* Нажмите `Create credentials` и выберите `Service account`\n",
    "![](https://storage.yandexcloud.net/klms-public/production/learning-content/457/4167/37262/103311/490774/%D0%B3%D1%83%D0%B3%D0%BB_2.jpg)\n",
    "* Введите имя в окошке `Service account name` и нажмите `CREATE и CONTINUE` (**Service Account ID** — не трогаем, поскольку Google генерирует уникальный идентификатор для этого аккаунта самостоятельно)\n",
    "![](https://storage.yandexcloud.net/klms-public/production/learning-content/457/4167/37262/103311/490774/%D0%B3%D1%83%D0%B3%D0%BB_3.PNG)\n",
    "* Во вкладке `Grant this service account access to project` выберите роль `Owner` и нажмите `Continue`\n",
    "![](https://storage.yandexcloud.net/klms-public/production/learning-content/457/4167/37262/103311/490774/%D0%B3%D1%83%D0%B3%D0%BB_4.PNG)\n",
    "![](https://storage.yandexcloud.net/klms-public/production/learning-content/457/4167/37262/103311/490774/%D0%B3%D1%83%D0%B3%D0%BB_5.png)\n",
    "* Нажмите `DONE`\n",
    "![](https://storage.yandexcloud.net/klms-public/production/learning-content/457/4167/37262/103311/490774/%D0%B3%D1%83%D0%B3%D0%BB_6.PNG)\n",
    "* Нажмите на ссылку с названием почты, для которой создаётся ключ: она во вкладке `Credentials` в разделе `Service Accounts`\n",
    "![](https://storage.yandexcloud.net/klms-public/production/learning-content/457/4167/37262/103311/490774/%D0%B3%D1%83%D0%B3%D0%BB_7.png)\n",
    "* Выберите вкладку `Keys` и нажмите `ADD KEY → Create new key`\n",
    "![](https://storage.yandexcloud.net/klms-public/production/learning-content/457/4167/37262/103311/490774/%D0%B3%D1%83%D0%B3%D0%BB_8.png)\n",
    "* Выберите формат `json` и нажмите `CREATE`\n",
    "![](https://storage.yandexcloud.net/klms-public/production/learning-content/457/4167/37262/103311/490774/image%20%283%29.png)\n",
    "* Сохраните созданный json файл и загрузите его в ваш jupyter-ноутбук в папку с кодом\n",
    "* Откройте файл ключа в текстовом просмотрщике и скопируйте почту в разделе `client_email` (это действие можно выполнить через библиотеку json из питона)\n",
    "*  Для проверки, что всё работает, откройте какую-нибудь таблицу в `Google Docs`, выберите `Настройки доступа`, введите скопированную почту в поле или выберите из списка, проверьте, что выбрана роль `Редактор`, и нажмите `Отправить`\n",
    "![](https://storage.yandexcloud.net/klms-public/production/learning-content/457/4167/37262/103311/490774/%D0%B3%D1%83%D0%B3%D0%BB_9.PNG)"
   ]
  },
  {
   "cell_type": "markdown",
   "metadata": {
    "id": "epXgftAJn7fP"
   },
   "source": [
    "**Настройка доступов**"
   ]
  },
  {
   "cell_type": "code",
   "execution_count": null,
   "metadata": {
    "id": "j1V7r5QWn7fP"
   },
   "outputs": [],
   "source": [
    "# Импортируем необходимые библиотеки:\n",
    "\n",
    "# gspread, которая предоставляет простой способ взаимодействия с Google Sheets с использованием Python\n",
    "import gspread\n",
    "# df2gspread предоставляет функциональность для загрузки данных из DataFrame в Google Sheets\n",
    "from df2gspread import df2gspread as d2g\n",
    "# ServiceAccountCredentials используется для аутентификации при доступе к Google Sheets с использованием учетных данных служебного аккаунта\n",
    "from oauth2client.service_account import ServiceAccountCredentials"
   ]
  },
  {
   "cell_type": "code",
   "execution_count": null,
   "metadata": {
    "id": "uEvNHCMMn7fP"
   },
   "outputs": [],
   "source": [
    "# В этой строке определяется переменная scope, которая содержит список разрешений (permissions) для доступа к Google Sheets и Google Drive\n",
    "scope = ['https://spreadsheets.google.com/feeds',\n",
    "         'https://www.googleapis.com/auth/drive']\n",
    "\n",
    "# Переменная my_mail, которая содержит вашу личную электронную почту, к которой прикреплен Google-аккаунт\n",
    "# Не путайте с сервисной почтой, указанной в json файле и на вкладе Credentials в разделе Service Accounts!\n",
    "my_mail = 'your_mail'\n",
    "\n",
    "# Авторизация — создаются учетные данные служебного аккаунта из JSON-файла с указанным списком разрешений scope\n",
    "credentials = ServiceAccountCredentials.from_json_keyfile_name('you_file.json', scope)\n",
    "gs = gspread.authorize(credentials)"
   ]
  },
  {
   "cell_type": "markdown",
   "metadata": {
    "id": "DyGIDFHHn7fP"
   },
   "source": [
    "**Загрузка таблицы из Google документов**"
   ]
  },
  {
   "cell_type": "code",
   "execution_count": null,
   "metadata": {
    "id": "DKSVrI0Yn7fQ"
   },
   "outputs": [],
   "source": [
    "# Название таблицы в Google Sheets, к которой вы хотите получить доступ\n",
    "# Или можно ввести и id таблицы — часть ссылки на неё\n",
    "table_name = 'to_sequence'\n",
    "# Открываем таблицу с помощью метода gs.open\n",
    "work_sheet = gs.open(table_name)"
   ]
  },
  {
   "cell_type": "code",
   "execution_count": null,
   "metadata": {
    "id": "ecQPTTckn7fQ"
   },
   "outputs": [],
   "source": [
    "# Выбираем первый лист (sheet) из открытой таблицы work_sheet\n",
    "sheet1 = work_sheet.sheet1\n",
    "\n",
    "# С помощью метода get_all_values() получаем данные с выбранного листа (sheet1) в формате списка Python\n",
    "data = sheet1.get_all_values()"
   ]
  },
  {
   "cell_type": "code",
   "execution_count": null,
   "metadata": {
    "id": "WFCERzmnn7fR",
    "outputId": "bf512930-514e-43f5-a384-31146280b226"
   },
   "outputs": [
    {
     "data": {
      "text/plain": [
       "[['price', 'group'], ['110', 'Group_1'], ['20', 'Group_2'], ['500', 'group_4']]"
      ]
     },
     "execution_count": 5,
     "metadata": {},
     "output_type": "execute_result"
    }
   ],
   "source": [
    "data"
   ]
  },
  {
   "cell_type": "code",
   "execution_count": null,
   "metadata": {
    "id": "csg-Yubjn7fR"
   },
   "outputs": [],
   "source": [
    "# Получаем название колонок\n",
    "headers = data.pop(0)"
   ]
  },
  {
   "cell_type": "code",
   "execution_count": null,
   "metadata": {
    "id": "ca66dJ4Pn7fR",
    "outputId": "db43607d-bc54-4ec4-af67-e2694a0ab1fe"
   },
   "outputs": [
    {
     "data": {
      "text/plain": [
       "['price', 'group']"
      ]
     },
     "execution_count": 7,
     "metadata": {},
     "output_type": "execute_result"
    }
   ],
   "source": [
    "headers"
   ]
  },
  {
   "cell_type": "code",
   "execution_count": null,
   "metadata": {
    "id": "kBC0wqpMn7fS"
   },
   "outputs": [],
   "source": [
    "# Конвертируем в датафрейм\n",
    "df = pd.DataFrame(data, columns=headers)"
   ]
  },
  {
   "cell_type": "code",
   "execution_count": null,
   "metadata": {
    "id": "8ICID7u1n7fS",
    "outputId": "ba2cdfa7-d464-4445-a183-77f7087c2349"
   },
   "outputs": [
    {
     "data": {
      "text/html": [
       "<div>\n",
       "<style scoped>\n",
       "    .dataframe tbody tr th:only-of-type {\n",
       "        vertical-align: middle;\n",
       "    }\n",
       "\n",
       "    .dataframe tbody tr th {\n",
       "        vertical-align: top;\n",
       "    }\n",
       "\n",
       "    .dataframe thead th {\n",
       "        text-align: right;\n",
       "    }\n",
       "</style>\n",
       "<table border=\"1\" class=\"dataframe\">\n",
       "  <thead>\n",
       "    <tr style=\"text-align: right;\">\n",
       "      <th></th>\n",
       "      <th>price</th>\n",
       "      <th>group</th>\n",
       "    </tr>\n",
       "  </thead>\n",
       "  <tbody>\n",
       "    <tr>\n",
       "      <th>0</th>\n",
       "      <td>110</td>\n",
       "      <td>Group_1</td>\n",
       "    </tr>\n",
       "    <tr>\n",
       "      <th>1</th>\n",
       "      <td>20</td>\n",
       "      <td>Group_2</td>\n",
       "    </tr>\n",
       "    <tr>\n",
       "      <th>2</th>\n",
       "      <td>500</td>\n",
       "      <td>group_4</td>\n",
       "    </tr>\n",
       "  </tbody>\n",
       "</table>\n",
       "</div>"
      ],
      "text/plain": [
       "  price    group\n",
       "0   110  Group_1\n",
       "1    20  Group_2\n",
       "2   500  group_4"
      ]
     },
     "execution_count": 15,
     "metadata": {},
     "output_type": "execute_result"
    }
   ],
   "source": [
    "df"
   ]
  },
  {
   "cell_type": "code",
   "execution_count": null,
   "metadata": {
    "id": "COwAHZ7An7fS",
    "outputId": "c3c9dd29-4b28-45e9-8a75-c51830afff64",
    "scrolled": true
   },
   "outputs": [
    {
     "data": {
      "text/html": [
       "<div>\n",
       "<style scoped>\n",
       "    .dataframe tbody tr th:only-of-type {\n",
       "        vertical-align: middle;\n",
       "    }\n",
       "\n",
       "    .dataframe tbody tr th {\n",
       "        vertical-align: top;\n",
       "    }\n",
       "\n",
       "    .dataframe thead th {\n",
       "        text-align: right;\n",
       "    }\n",
       "</style>\n",
       "<table border=\"1\" class=\"dataframe\">\n",
       "  <thead>\n",
       "    <tr style=\"text-align: right;\">\n",
       "      <th></th>\n",
       "      <th>price</th>\n",
       "      <th>group</th>\n",
       "    </tr>\n",
       "  </thead>\n",
       "  <tbody>\n",
       "    <tr>\n",
       "      <th>2</th>\n",
       "      <td>500</td>\n",
       "      <td>group_4</td>\n",
       "    </tr>\n",
       "    <tr>\n",
       "      <th>1</th>\n",
       "      <td>20</td>\n",
       "      <td>Group_2</td>\n",
       "    </tr>\n",
       "    <tr>\n",
       "      <th>0</th>\n",
       "      <td>110</td>\n",
       "      <td>Group_1</td>\n",
       "    </tr>\n",
       "  </tbody>\n",
       "</table>\n",
       "</div>"
      ],
      "text/plain": [
       "  price    group\n",
       "2   500  group_4\n",
       "1    20  Group_2\n",
       "0   110  Group_1"
      ]
     },
     "execution_count": 16,
     "metadata": {},
     "output_type": "execute_result"
    }
   ],
   "source": [
    "df.sort_values('price', ascending=False)"
   ]
  },
  {
   "cell_type": "code",
   "execution_count": null,
   "metadata": {
    "id": "o9K4-acJn7fT"
   },
   "outputs": [],
   "source": [
    "# Добавляем новые данные в таблицу Google Sheets на лист sheet1\n",
    "sheet1.append_row([500, 'group_4'])"
   ]
  },
  {
   "cell_type": "markdown",
   "metadata": {
    "id": "r4W5cgR6n7fT"
   },
   "source": [
    "**Обратите внимание!**\n",
    "\n",
    "Зачастую доступ к Google таблицам по их названию не срабатывает, чтобы решить эту проблему используйте **ID таблицы**.\n",
    "\n",
    "Чтобы узнать **ID таблицы в Google Sheets**, воспользуйтесь следующими шагами:\n",
    "1. Откройте Google Sheets в браузере и перейдите к нужной таблице.\n",
    "2. URL из адресной строки браузера будет иметь примерно следующий формат:\n",
    "\n",
    "`https://docs.google.com/spreadsheets/d/тут_идентификатор_таблицы/edit#gid=0`\n",
    "\n",
    "Идентификатор таблицы находится между `/d/` и `/edit` в URL, скопируйте его."
   ]
  },
  {
   "cell_type": "code",
   "execution_count": null,
   "metadata": {
    "id": "7DHeGaQnn7fT"
   },
   "outputs": [],
   "source": [
    "# Можно использовать и такой код\n",
    "spreadsheet = gs.open('to_sequence')\n",
    "spreadsheet_id = spreadsheet.id"
   ]
  },
  {
   "cell_type": "code",
   "execution_count": null,
   "metadata": {
    "id": "oi6a5a9An7fT"
   },
   "outputs": [],
   "source": [
    "# ID таблицы в Google Sheets, к которой вы хотите получить доступ\n",
    "table_name = 'id_таблицы_из_ссылки'\n",
    "# Название листа (sheet) в таблице 'to_sequence', которая уже создана в Google Sheets и туда хотим записать данные\n",
    "sheet_name = 'KarpovCourses2'\n",
    "# Используем функцию upload для загрузки данных из DataFrame df в указанную таблицу и лист\n",
    "d2g.upload(df, table_name, sheet_name, credentials=credentials, row_names=True)"
   ]
  },
  {
   "cell_type": "markdown",
   "metadata": {
    "id": "qqdiTUtqn7fU"
   },
   "source": [
    "**Создание своей таблицы**"
   ]
  },
  {
   "cell_type": "code",
   "execution_count": null,
   "metadata": {
    "id": "HeClXL_Hn7fU"
   },
   "outputs": [],
   "source": [
    "# Создаём пустую таблицу\n",
    "table_name = 'New Table'\n",
    "sheet = gs.create(table_name)\n",
    "\n",
    "# Предоставляем доступ к конкретному листу (sheet) в Google Sheets другому пользователю\n",
    "sheet.share(my_mail, perm_type='user', role='writer')"
   ]
  },
  {
   "cell_type": "code",
   "execution_count": null,
   "metadata": {
    "id": "1IwN26Dqn7fU"
   },
   "outputs": [],
   "source": [
    "# Создаем данные для двух колонок\n",
    "data = {'Колонка1': [1, 2, 3, 4, 5],\n",
    "        'Колонка2': ['А', 'Б', 'В', 'Г', 'Д']}\n",
    "# Создаем DataFrame из данных\n",
    "df = pd.DataFrame(data)"
   ]
  },
  {
   "cell_type": "code",
   "execution_count": null,
   "metadata": {
    "id": "T-8nfc5Nn7fV",
    "outputId": "fd2f977e-1f4d-4d13-fdac-fdacbee25444"
   },
   "outputs": [
    {
     "data": {
      "text/html": [
       "<div>\n",
       "<style scoped>\n",
       "    .dataframe tbody tr th:only-of-type {\n",
       "        vertical-align: middle;\n",
       "    }\n",
       "\n",
       "    .dataframe tbody tr th {\n",
       "        vertical-align: top;\n",
       "    }\n",
       "\n",
       "    .dataframe thead th {\n",
       "        text-align: right;\n",
       "    }\n",
       "</style>\n",
       "<table border=\"1\" class=\"dataframe\">\n",
       "  <thead>\n",
       "    <tr style=\"text-align: right;\">\n",
       "      <th></th>\n",
       "      <th>Колонка1</th>\n",
       "      <th>Колонка2</th>\n",
       "    </tr>\n",
       "  </thead>\n",
       "  <tbody>\n",
       "    <tr>\n",
       "      <th>0</th>\n",
       "      <td>1</td>\n",
       "      <td>А</td>\n",
       "    </tr>\n",
       "    <tr>\n",
       "      <th>1</th>\n",
       "      <td>2</td>\n",
       "      <td>Б</td>\n",
       "    </tr>\n",
       "    <tr>\n",
       "      <th>2</th>\n",
       "      <td>3</td>\n",
       "      <td>В</td>\n",
       "    </tr>\n",
       "    <tr>\n",
       "      <th>3</th>\n",
       "      <td>4</td>\n",
       "      <td>Г</td>\n",
       "    </tr>\n",
       "    <tr>\n",
       "      <th>4</th>\n",
       "      <td>5</td>\n",
       "      <td>Д</td>\n",
       "    </tr>\n",
       "  </tbody>\n",
       "</table>\n",
       "</div>"
      ],
      "text/plain": [
       "   Колонка1 Колонка2\n",
       "0         1        А\n",
       "1         2        Б\n",
       "2         3        В\n",
       "3         4        Г\n",
       "4         5        Д"
      ]
     },
     "execution_count": 61,
     "metadata": {},
     "output_type": "execute_result"
    }
   ],
   "source": [
    "df"
   ]
  },
  {
   "cell_type": "code",
   "execution_count": null,
   "metadata": {
    "id": "Jzu7BUacn7fV",
    "outputId": "fdfa766d-c2a5-49ed-d21d-946010040ca4"
   },
   "outputs": [
    {
     "data": {
      "text/plain": [
       "<Worksheet 'Sheet1' id:0>"
      ]
     },
     "execution_count": 62,
     "metadata": {},
     "output_type": "execute_result"
    }
   ],
   "source": [
    "# Название листа (sheet) в Google Sheets, который уже создан там и доступ настроен, куда будет загружен датафрейм\n",
    "sheet_name = 'Sheet1'\n",
    "d2g.upload(df, table_name, sheet_name, credentials=credentials, row_names=True)"
   ]
  },
  {
   "cell_type": "code",
   "execution_count": null,
   "metadata": {
    "id": "AbQvjT75n7fW"
   },
   "outputs": [],
   "source": []
  },
  {
   "cell_type": "markdown",
   "metadata": {
    "id": "3u-GuDs8n7fW"
   },
   "source": [
    "### Работа с API Яндекс.Метрики"
   ]
  },
  {
   "cell_type": "code",
   "execution_count": null,
   "metadata": {
    "id": "GfNJIVBbn7fW"
   },
   "outputs": [],
   "source": [
    "# Формируем URL для запроса к API Яндекс.Метрики с указанными параметрами\n",
    "url = 'https://api-metrika.yandex.net/stat/v1/data?'\n",
    "visits = 'metrics=ym:s:visits&dimensions=ym:s:date&id=44147844'"
   ]
  },
  {
   "cell_type": "code",
   "execution_count": null,
   "metadata": {
    "id": "diFTTsOin7fX"
   },
   "outputs": [],
   "source": [
    "vistis_url = url + visits"
   ]
  },
  {
   "cell_type": "code",
   "execution_count": null,
   "metadata": {
    "id": "ExIRZXNZn7fX"
   },
   "outputs": [],
   "source": [
    "# GET-запрос к API Яндекс.Метрики с использованием библиотеки requests в Python для получения данных о посещениях\n",
    "vistis_request = requests.get(vistis_url)"
   ]
  },
  {
   "cell_type": "code",
   "execution_count": null,
   "metadata": {
    "id": "Tk6_fZAun7f6"
   },
   "outputs": [],
   "source": [
    "# Преобразуем текстовый ответ на запрос к API Яндекс.Метрики, содержащий данные о посещениях, в формат JSON\n",
    "json_data = json.loads(vistis_request.text)"
   ]
  },
  {
   "cell_type": "code",
   "execution_count": null,
   "metadata": {
    "id": "YYWaMJY6n7f7"
   },
   "outputs": [],
   "source": [
    "# Смотрим на данные\n",
    "json_data['data']"
   ]
  },
  {
   "cell_type": "code",
   "execution_count": null,
   "metadata": {
    "id": "_2b-ovUyn7f8"
   },
   "outputs": [],
   "source": [
    "# Формируем датафрейм\n",
    "y_df = pd.DataFrame([(i['dimensions'][0]['name'],\n",
    "i['metrics'][0]) for i in json_data['data']], columns=['date','visits'])"
   ]
  },
  {
   "cell_type": "code",
   "execution_count": null,
   "metadata": {
    "id": "VlWTdZVXn7f-"
   },
   "outputs": [],
   "source": [
    "# Отправляем данные в таблицу Google Sheets по ID таблицы\n",
    "spreadsheet_name = 'id_таблицы_из_ссылки'\n",
    "# Название листа, который уже создан в Google таблице, куда отправляем данные\n",
    "sheet = 'Yandex_visits'\n",
    "d2g.upload(y_df, spreadsheet_name, sheet, credentials=credentials, row_names=True)"
   ]
  },
  {
   "cell_type": "markdown",
   "metadata": {
    "id": "-oAr-uzDn7f_"
   },
   "source": [
    "### Дополнительный материал: создание Telegram-бота"
   ]
  },
  {
   "cell_type": "markdown",
   "metadata": {
    "id": "TVkGCVcMn7f_"
   },
   "source": [
    "**Получение токена**\n",
    "\n",
    "Чтобы автоматизировать работу в телеграме необходимо создать бота и получить токен. Для этого:\n",
    "\n",
    "1. В телеграме найдите [@Botfather](https://t.me/botfather)\n",
    "2. Нажмите `start` (или напишите `/start`) в диалоговом окне — появится сообщение с информацией о создании ботов\n",
    "3. Отправьте ему сообщение `/newbot` или выберите данную команду из списка предложенных\n",
    "4. Введите имя для бота\n",
    "5. Введите `username` бота, он должен заканчиваться на `bot`\n",
    "6. Появится сообщение, содержащее `токен`, сохраните его!\n",
    "\n",
    "\n",
    "[Перечень команд](https://core.telegram.org/bots#6-botfather) доступных для общения с Отцом всех ботов.\n",
    "\n",
    "Ещё один вариант [инструкции](https://chatlabs.ru/botfather-instrukcziya-komandy-nastrojki/) для создания бота."
   ]
  },
  {
   "cell_type": "markdown",
   "metadata": {
    "id": "1AZD6nTCn7gA"
   },
   "source": [
    "**Диалог с ботом**\n",
    "\n",
    "1. Воспользуйтесь `username` бота (или ссылкой на него), полученным от `Botfather`, начните диалог(нажмите на `start`) и отправьте ему какое-нибудь сообщение. **Не пропустите этот шаг!**\n",
    "\n",
    "\n",
    "2. Затем введите в браузере ссылку вида:\n",
    "\n",
    "```python\n",
    "https://api.telegram.org/bot{token}/getUpdates\n",
    "```\n",
    "Где вместо `<token>` будет ваш токен: в открывшемся окне вы увидите содержание json файла, где будет содержаться `id чата` (`result > 0 > chat > id`). Сохраните его.\n",
    "\n",
    "**Обратите внимание:** фигурные скобочки в ссылке не нужны!\n",
    "\n",
    "Например:\n",
    "\n",
    "```python\n",
    "Токен: 437597492FHFGJIJGRT-DSJCND\n",
    "Ссылка в браузере: https://api.telegram.org/bot437597492FHFGJIJGRT-DSJCND/getUpdates\n",
    "```\n",
    "\n",
    "**Примечание!** Порой бывает, что использование такого метода приводит к пустому результату. В таком случае отправьте в телеграмме еще пару сообщений боту и обновите страницу в браузере. Также вы можете использовать в диалоге с ботом команду `@userinfobot`, которая позволит узнать основную информацию о боте, в том числе и `id чата`.\n",
    "\n",
    "После этого вы можете посылать сообщения через бота с помощью модуля `request`.\n",
    "\n",
    "Чтобы отправлять сообщения кому-нибудь другому, попросите его начать диалог с ботом, и повторите операцию с просмотром страницы, чтобы выяснить `id чата`."
   ]
  },
  {
   "cell_type": "markdown",
   "metadata": {
    "id": "6PwYbZLqn7gB"
   },
   "source": [
    "**Отправка сообщений**"
   ]
  },
  {
   "cell_type": "code",
   "execution_count": null,
   "metadata": {
    "id": "0wbgMFwMn7gB"
   },
   "outputs": [],
   "source": [
    "import requests\n",
    "import json\n",
    "from urllib.parse import urlencode\n",
    "\n",
    "\n",
    "token = 'your_token' # Вставьте ваш токен\n",
    "chat_id = 123  # Укажите id-чата\n",
    "\n",
    "message = 'test'  # Сообщение\n",
    "\n",
    "\n",
    "# Создание словаря params с параметрами запроса, включая идентификатор чата и текст сообщения\n",
    "params = {'chat_id': chat_id, 'text': message}\n",
    "\n",
    "# Формирование базового URL для доступа к API Telegram с использованием вашего токена\n",
    "base_url = f'https://api.telegram.org/bot{token}/'\n",
    "\n",
    "# Формирование конечного URL для отправки сообщения в чат с использованием функции urlencode для кодирования параметров запроса\n",
    "url = base_url + 'sendMessage?' + urlencode(params)\n",
    "\n",
    "# Только если вам необходимо использовать прокси-сервер для отправки HTTP-запросов\n",
    "# proxy = {'https': 'https://77.48.23.199:57842'}\n",
    "# resp = requests.get(url, proxies=proxy)\n",
    "\n",
    "# Отправка GET-запроса по сформированному URL\n",
    "resp = requests.get(url)"
   ]
  },
  {
   "cell_type": "markdown",
   "metadata": {
    "id": "lw__yr94n7gC"
   },
   "source": [
    "**Отправка документов**"
   ]
  },
  {
   "cell_type": "code",
   "execution_count": null,
   "metadata": {
    "id": "tPLGgMTvn7gC"
   },
   "outputs": [],
   "source": [
    "# Путь к файлу\n",
    "filepath = 'your_path'\n",
    "\n",
    "# Формирование URL для отправки документа в чат с использованием функции urlencode для кодирования параметров запроса\n",
    "url = base_url + 'sendDocument?' + urlencode(params)\n",
    "\n",
    "# Создание словаря files, в котором ключом является 'document' (имя параметра, ожидаемого API Telegram для отправки документа), а значением - открытый файл для чтения в бинарном режиме\n",
    "files = {'document': open(filepath, 'rb')}\n",
    "\n",
    "# Отправка GET-запроса по сформированному URL для отправки документа в чат\n",
    "resp = requests.get(url, files=files)"
   ]
  },
  {
   "cell_type": "markdown",
   "metadata": {
    "id": "TxQITMOGn7gC"
   },
   "source": [
    "**Примечание:** Поместите файл для отправки в ту же папку, где расположен jupyter-ноутбук с кодом."
   ]
  },
  {
   "cell_type": "code",
   "execution_count": null,
   "metadata": {
    "id": "fGA9yfAMn7gD"
   },
   "outputs": [],
   "source": []
  }
 ],
 "metadata": {
  "colab": {
   "provenance": []
  },
  "kernelspec": {
   "display_name": "Python 3",
   "language": "python",
   "name": "python3"
  },
  "language_info": {
   "codemirror_mode": {
    "name": "ipython",
    "version": 3
   },
   "file_extension": ".py",
   "mimetype": "text/x-python",
   "name": "python",
   "nbconvert_exporter": "python",
   "pygments_lexer": "ipython3",
   "version": "3.7.3"
  }
 },
 "nbformat": 4,
 "nbformat_minor": 1
}
