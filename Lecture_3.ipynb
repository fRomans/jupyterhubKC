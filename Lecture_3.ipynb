{
 "cells": [
  {
   "cell_type": "markdown",
   "metadata": {},
   "source": [
    "# Занятие 3: Пользовательские функции"
   ]
  },
  {
   "cell_type": "markdown",
   "metadata": {},
   "source": [
    "## Работа с файлами"
   ]
  },
  {
   "cell_type": "code",
   "execution_count": 34,
   "metadata": {},
   "outputs": [
    {
     "name": "stdout",
     "output_type": "stream",
     "text": [
      "Хорошо бы снизить цены\r",
      "\r\n",
      "Нужно снизить цены\r",
      "\r\n",
      "Меня все устраивает\r",
      "\r\n",
      "У конкурентов цены лучше"
     ]
    }
   ],
   "source": [
    "# cat – консольная команда чтения файлов \n",
    "!cat responses.txt"
   ]
  },
  {
   "cell_type": "code",
   "execution_count": 13,
   "metadata": {},
   "outputs": [],
   "source": [
    "# передаем путь\n",
    "with open('responses.txt') as f:\n",
    "    text = f.read()"
   ]
  },
  {
   "cell_type": "code",
   "execution_count": 14,
   "metadata": {},
   "outputs": [
    {
     "name": "stdout",
     "output_type": "stream",
     "text": [
      "Хорошо бы снизить цены\n",
      "Нужно снизить цены\n",
      "Меня все устраивает\n",
      "У конкурентов цены лучше\n"
     ]
    }
   ],
   "source": [
    "print(text)"
   ]
  },
  {
   "cell_type": "code",
   "execution_count": 15,
   "metadata": {},
   "outputs": [
    {
     "data": {
      "text/plain": [
       "'Хорошо бы снизить цены\\nНужно снизить цены\\nМеня все устраивает\\nУ конкурентов цены лучше'"
      ]
     },
     "execution_count": 15,
     "metadata": {},
     "output_type": "execute_result"
    }
   ],
   "source": [
    "# text.split('\\n')\n",
    "text"
   ]
  },
  {
   "cell_type": "code",
   "execution_count": 16,
   "metadata": {},
   "outputs": [
    {
     "name": "stdout",
     "output_type": "stream",
     "text": [
      "Хорошо бы снизить цены\n",
      "\n",
      "Нужно снизить цены\n",
      "\n",
      "Меня все устраивает\n",
      "\n",
      "У конкурентов цены лучше\n"
     ]
    }
   ],
   "source": [
    "with open('responses.txt') as f:\n",
    "    for line in f:\n",
    "        print(line)"
   ]
  },
  {
   "cell_type": "code",
   "execution_count": 17,
   "metadata": {},
   "outputs": [
    {
     "name": "stdout",
     "output_type": "stream",
     "text": [
      "Хорошо бы снизить цены\n",
      "Нужно снизить цены\n",
      "Меня все устраивает\n",
      "У конкурентов цены лучше\n"
     ]
    }
   ],
   "source": [
    "with open('responses.txt') as f:\n",
    "    for line in f:\n",
    "        print(line.strip())"
   ]
  },
  {
   "cell_type": "code",
   "execution_count": 18,
   "metadata": {},
   "outputs": [],
   "source": [
    "# словарь, где будут храниться кол-ва элементов\n",
    "word_counter = {}\n",
    "\n",
    "# открываем файл\n",
    "with open('responses.txt') as f:\n",
    "    \n",
    "    # идем итеративно по строкам\n",
    "    for line in f:\n",
    "        \n",
    "        # удалим пробельные символы с концов\n",
    "        strip_line = line.strip()\n",
    "        \n",
    "        # разделим по пробелам\n",
    "        words = strip_line.split()\n",
    "        \n",
    "        # для каждого слова предложения\n",
    "        for word in words:\n",
    "            \n",
    "            # если оно уже есть в словаре\n",
    "            if word in word_counter:\n",
    "                word_counter[word] += 1\n",
    "            \n",
    "            # иначе\n",
    "            else:\n",
    "                word_counter[word] = 1"
   ]
  },
  {
   "cell_type": "code",
   "execution_count": 19,
   "metadata": {},
   "outputs": [
    {
     "data": {
      "text/plain": [
       "{'Хорошо': 1,\n",
       " 'бы': 1,\n",
       " 'снизить': 2,\n",
       " 'цены': 3,\n",
       " 'Нужно': 1,\n",
       " 'Меня': 1,\n",
       " 'все': 1,\n",
       " 'устраивает': 1,\n",
       " 'У': 1,\n",
       " 'конкурентов': 1,\n",
       " 'лучше': 1}"
      ]
     },
     "execution_count": 19,
     "metadata": {},
     "output_type": "execute_result"
    }
   ],
   "source": [
    "word_counter"
   ]
  },
  {
   "cell_type": "code",
   "execution_count": 20,
   "metadata": {},
   "outputs": [],
   "source": [
    "# обязательно строковый тип\n",
    "with open('result.txt', 'w') as f:\n",
    "    f.write(str(word_counter))"
   ]
  },
  {
   "cell_type": "code",
   "execution_count": 21,
   "metadata": {},
   "outputs": [
    {
     "name": "stdout",
     "output_type": "stream",
     "text": [
      "{'Хорошо': 1, 'бы': 1, 'снизить': 2, 'цены': 3, 'Нужно': 1, 'Меня': 1, 'все': 1, 'устраивает': 1, 'У': 1, 'конкурентов': 1, 'лучше': 1}"
     ]
    }
   ],
   "source": [
    "!cat result.txt"
   ]
  },
  {
   "cell_type": "markdown",
   "metadata": {},
   "source": [
    "## Функции"
   ]
  },
  {
   "cell_type": "code",
   "execution_count": 22,
   "metadata": {},
   "outputs": [
    {
     "name": "stdout",
     "output_type": "stream",
     "text": [
      "Любой текст или пустота\n"
     ]
    }
   ],
   "source": [
    "print('Любой текст или пустота')"
   ]
  },
  {
   "cell_type": "markdown",
   "metadata": {},
   "source": [
    "Зачем нужны **функции**?\n",
    "* Переиспользование кода\n",
    "* Уменьшение вероятности ошибки\n",
    "* Структурирование кода"
   ]
  },
  {
   "cell_type": "markdown",
   "metadata": {},
   "source": [
    "![func_desc](images/function.png)"
   ]
  },
  {
   "cell_type": "code",
   "execution_count": 23,
   "metadata": {},
   "outputs": [],
   "source": [
    "def simple():\n",
    "    print('Hi there!')"
   ]
  },
  {
   "cell_type": "code",
   "execution_count": 24,
   "metadata": {},
   "outputs": [
    {
     "name": "stdout",
     "output_type": "stream",
     "text": [
      "Hi there!\n"
     ]
    }
   ],
   "source": [
    "simple()"
   ]
  },
  {
   "cell_type": "code",
   "execution_count": 25,
   "metadata": {},
   "outputs": [],
   "source": [
    "def file_processing():\n",
    "    # словарь, где будут храниться кол-ва элементов\n",
    "    word_counter = {}\n",
    "\n",
    "    # открываем файл\n",
    "    with open('responses.txt') as f:\n",
    "\n",
    "        # идем итеративно по строкам\n",
    "        for line in f:\n",
    "\n",
    "            # удалим пробельные символы с концов\n",
    "            strip_line = line.strip()\n",
    "\n",
    "            # разделим по пробелам\n",
    "            words = strip_line.split()\n",
    "\n",
    "            # для каждого слова предложения\n",
    "            for word in words:\n",
    "\n",
    "                # если оно уже есть в словаре\n",
    "                if word in word_counter:\n",
    "                    word_counter[word] += 1\n",
    "\n",
    "                # иначе\n",
    "                else:\n",
    "                    word_counter[word] = 1\n",
    "                    \n",
    "    # обязательно строковый тип\n",
    "    with open('result.txt', 'w') as f:\n",
    "        f.write(str(word_counter))"
   ]
  },
  {
   "cell_type": "code",
   "execution_count": 26,
   "metadata": {},
   "outputs": [],
   "source": [
    "file_processing()"
   ]
  },
  {
   "cell_type": "markdown",
   "metadata": {},
   "source": [
    "## Аргументы"
   ]
  },
  {
   "cell_type": "markdown",
   "metadata": {},
   "source": [
    "* Каждый аргумент должен быть инициализирован\n",
    "* Никакой аргумент не может быть инициализирован дважды\n",
    "* Именованные аргументы только после позиционных (неименованных)\n",
    "* Можно создавать дефолтные значения"
   ]
  },
  {
   "cell_type": "markdown",
   "metadata": {},
   "source": [
    "``` python\n",
    "def function_name( [ позиционные_аргументы,\n",
    "                   [ *дополнительные_поз_арг,\n",
    "                   [ именованные_аргументы,\n",
    "                   [ **доп_имен_арг]]]]):\n",
    "```"
   ]
  },
  {
   "cell_type": "code",
   "execution_count": 27,
   "metadata": {},
   "outputs": [],
   "source": [
    "def simple_args(phrase):\n",
    "    print(phrase)"
   ]
  },
  {
   "cell_type": "code",
   "execution_count": 28,
   "metadata": {},
   "outputs": [
    {
     "ename": "TypeError",
     "evalue": "simple_args() missing 1 required positional argument: 'phrase'",
     "output_type": "error",
     "traceback": [
      "\u001b[0;31m---------------------------------------------------------------------------\u001b[0m",
      "\u001b[0;31mTypeError\u001b[0m                                 Traceback (most recent call last)",
      "\u001b[0;32m<ipython-input-28-5aa3112bc8f6>\u001b[0m in \u001b[0;36m<module>\u001b[0;34m\u001b[0m\n\u001b[0;32m----> 1\u001b[0;31m \u001b[0msimple_args\u001b[0m\u001b[0;34m(\u001b[0m\u001b[0;34m)\u001b[0m\u001b[0;34m\u001b[0m\u001b[0;34m\u001b[0m\u001b[0m\n\u001b[0m",
      "\u001b[0;31mTypeError\u001b[0m: simple_args() missing 1 required positional argument: 'phrase'"
     ]
    }
   ],
   "source": [
    "simple_args()"
   ]
  },
  {
   "cell_type": "code",
   "execution_count": 29,
   "metadata": {},
   "outputs": [],
   "source": [
    "def simple_args(phrase='Hi there'):\n",
    "    print(phrase)"
   ]
  },
  {
   "cell_type": "code",
   "execution_count": 30,
   "metadata": {},
   "outputs": [
    {
     "name": "stdout",
     "output_type": "stream",
     "text": [
      "Hi there\n"
     ]
    }
   ],
   "source": [
    "simple_args()"
   ]
  },
  {
   "cell_type": "code",
   "execution_count": 31,
   "metadata": {},
   "outputs": [
    {
     "name": "stdout",
     "output_type": "stream",
     "text": [
      "Hello\n"
     ]
    }
   ],
   "source": [
    "simple_args(phrase='Hello')"
   ]
  },
  {
   "cell_type": "code",
   "execution_count": 32,
   "metadata": {},
   "outputs": [],
   "source": [
    "def file_processing(input_file, output_file):\n",
    "    # словарь, где будут храниться кол-ва элементов\n",
    "    word_counter = {}\n",
    "    print(f'Работаю с файлом {input_file}')\n",
    "\n",
    "    # открываем файл\n",
    "    with open(input_file) as f:\n",
    "\n",
    "        # идем итеративно по строкам\n",
    "        for line in f:\n",
    "\n",
    "            # удалим пробельные символы с концов\n",
    "            strip_line = line.strip()\n",
    "\n",
    "            # разделим по пробелам\n",
    "            words = strip_line.split()\n",
    "\n",
    "            # для каждого слова предложения\n",
    "            for word in words:\n",
    "\n",
    "                # если оно уже есть в словаре\n",
    "                if word in word_counter:\n",
    "                    word_counter[word] += 1\n",
    "\n",
    "                # иначе\n",
    "                else:\n",
    "                    word_counter[word] = 1\n",
    "                    \n",
    "    # обязательно строковый тип\n",
    "    with open(output_file, 'w') as f:\n",
    "        f.write(str(word_counter))\n",
    "        \n",
    "    print(f'Данные сохранены в {output_file}')"
   ]
  },
  {
   "cell_type": "code",
   "execution_count": 33,
   "metadata": {},
   "outputs": [
    {
     "name": "stdout",
     "output_type": "stream",
     "text": [
      "Работаю с файлом responses.txt\n",
      "Данные сохранены в result.txt\n"
     ]
    }
   ],
   "source": [
    "file_processing('responses.txt', 'result.txt')"
   ]
  },
  {
   "cell_type": "markdown",
   "metadata": {},
   "source": [
    "## Ключевое слово return"
   ]
  },
  {
   "cell_type": "markdown",
   "metadata": {},
   "source": [
    "* После `return` функция далее не выполняется\n",
    "* Не обязательно возвращать что-то (эквивалентно «пустому» `return`). В таком случае возвращаемое значение – `None`\n"
   ]
  },
  {
   "cell_type": "code",
   "execution_count": 35,
   "metadata": {},
   "outputs": [],
   "source": [
    "def simple_args(phrase):\n",
    "    print(phrase)\n",
    "    return 'Успех'"
   ]
  },
  {
   "cell_type": "code",
   "execution_count": 36,
   "metadata": {},
   "outputs": [
    {
     "name": "stdout",
     "output_type": "stream",
     "text": [
      "Тест\n"
     ]
    },
    {
     "data": {
      "text/plain": [
       "'Успех'"
      ]
     },
     "execution_count": 36,
     "metadata": {},
     "output_type": "execute_result"
    }
   ],
   "source": [
    "simple_args('Тест')"
   ]
  },
  {
   "cell_type": "code",
   "execution_count": 37,
   "metadata": {},
   "outputs": [
    {
     "name": "stdout",
     "output_type": "stream",
     "text": [
      "Тест\n"
     ]
    }
   ],
   "source": [
    "simple_result = simple_args('Тест')"
   ]
  },
  {
   "cell_type": "code",
   "execution_count": 38,
   "metadata": {},
   "outputs": [
    {
     "data": {
      "text/plain": [
       "'Успех'"
      ]
     },
     "execution_count": 38,
     "metadata": {},
     "output_type": "execute_result"
    }
   ],
   "source": [
    "simple_result"
   ]
  },
  {
   "cell_type": "markdown",
   "metadata": {},
   "source": [
    "## Пространство имен и область видимости"
   ]
  },
  {
   "cell_type": "markdown",
   "metadata": {},
   "source": [
    "![func_desc](images/prostr_vo.png)"
   ]
  },
  {
   "cell_type": "code",
   "execution_count": 39,
   "metadata": {},
   "outputs": [],
   "source": [
    "def simple_access():\n",
    "    access_test = 10\n",
    "    print(access_test)"
   ]
  },
  {
   "cell_type": "code",
   "execution_count": 40,
   "metadata": {},
   "outputs": [
    {
     "name": "stdout",
     "output_type": "stream",
     "text": [
      "10\n"
     ]
    }
   ],
   "source": [
    "simple_access()"
   ]
  },
  {
   "cell_type": "code",
   "execution_count": 41,
   "metadata": {},
   "outputs": [
    {
     "ename": "NameError",
     "evalue": "name 'access_test' is not defined",
     "output_type": "error",
     "traceback": [
      "\u001b[0;31m---------------------------------------------------------------------------\u001b[0m",
      "\u001b[0;31mNameError\u001b[0m                                 Traceback (most recent call last)",
      "\u001b[0;32m<ipython-input-41-26541ee0b68c>\u001b[0m in \u001b[0;36m<module>\u001b[0;34m\u001b[0m\n\u001b[0;32m----> 1\u001b[0;31m \u001b[0maccess_test\u001b[0m\u001b[0;34m\u001b[0m\u001b[0;34m\u001b[0m\u001b[0m\n\u001b[0m",
      "\u001b[0;31mNameError\u001b[0m: name 'access_test' is not defined"
     ]
    }
   ],
   "source": [
    "access_test"
   ]
  },
  {
   "cell_type": "code",
   "execution_count": 42,
   "metadata": {},
   "outputs": [],
   "source": [
    "username = 'Alex'"
   ]
  },
  {
   "cell_type": "code",
   "execution_count": 43,
   "metadata": {},
   "outputs": [],
   "source": [
    "def second_access():\n",
    "    print(username)"
   ]
  },
  {
   "cell_type": "code",
   "execution_count": 44,
   "metadata": {},
   "outputs": [
    {
     "name": "stdout",
     "output_type": "stream",
     "text": [
      "Alex\n"
     ]
    }
   ],
   "source": [
    "second_access()"
   ]
  },
  {
   "cell_type": "code",
   "execution_count": 45,
   "metadata": {},
   "outputs": [],
   "source": [
    "def simple_access():\n",
    "    print(access_test)"
   ]
  },
  {
   "cell_type": "code",
   "execution_count": 46,
   "metadata": {},
   "outputs": [
    {
     "ename": "NameError",
     "evalue": "name 'access_test' is not defined",
     "output_type": "error",
     "traceback": [
      "\u001b[0;31m---------------------------------------------------------------------------\u001b[0m",
      "\u001b[0;31mNameError\u001b[0m                                 Traceback (most recent call last)",
      "\u001b[0;32m<ipython-input-46-f80759da6676>\u001b[0m in \u001b[0;36m<module>\u001b[0;34m\u001b[0m\n\u001b[0;32m----> 1\u001b[0;31m \u001b[0msimple_access\u001b[0m\u001b[0;34m(\u001b[0m\u001b[0;34m)\u001b[0m\u001b[0;34m\u001b[0m\u001b[0;34m\u001b[0m\u001b[0m\n\u001b[0m",
      "\u001b[0;32m<ipython-input-45-5028c92eea52>\u001b[0m in \u001b[0;36msimple_access\u001b[0;34m()\u001b[0m\n\u001b[1;32m      1\u001b[0m \u001b[0;32mdef\u001b[0m \u001b[0msimple_access\u001b[0m\u001b[0;34m(\u001b[0m\u001b[0;34m)\u001b[0m\u001b[0;34m:\u001b[0m\u001b[0;34m\u001b[0m\u001b[0;34m\u001b[0m\u001b[0m\n\u001b[0;32m----> 2\u001b[0;31m     \u001b[0mprint\u001b[0m\u001b[0;34m(\u001b[0m\u001b[0maccess_test\u001b[0m\u001b[0;34m)\u001b[0m\u001b[0;34m\u001b[0m\u001b[0;34m\u001b[0m\u001b[0m\n\u001b[0m",
      "\u001b[0;31mNameError\u001b[0m: name 'access_test' is not defined"
     ]
    }
   ],
   "source": [
    "simple_access()"
   ]
  },
  {
   "cell_type": "code",
   "execution_count": 47,
   "metadata": {},
   "outputs": [],
   "source": [
    "def add2(a):\n",
    "    result = a + 2\n",
    "    return result"
   ]
  },
  {
   "cell_type": "code",
   "execution_count": 48,
   "metadata": {},
   "outputs": [
    {
     "data": {
      "text/plain": [
       "7"
      ]
     },
     "execution_count": 48,
     "metadata": {},
     "output_type": "execute_result"
    }
   ],
   "source": [
    "add2(5)"
   ]
  },
  {
   "cell_type": "code",
   "execution_count": 49,
   "metadata": {},
   "outputs": [],
   "source": [
    "def add_numbers(a, b=3):\n",
    "    result = a + b\n",
    "    return result"
   ]
  },
  {
   "cell_type": "code",
   "execution_count": 50,
   "metadata": {},
   "outputs": [
    {
     "data": {
      "text/plain": [
       "8"
      ]
     },
     "execution_count": 50,
     "metadata": {},
     "output_type": "execute_result"
    }
   ],
   "source": [
    "add_numbers(1, 7)"
   ]
  },
  {
   "cell_type": "code",
   "execution_count": 51,
   "metadata": {},
   "outputs": [
    {
     "data": {
      "text/plain": [
       "8"
      ]
     },
     "execution_count": 51,
     "metadata": {},
     "output_type": "execute_result"
    }
   ],
   "source": [
    "add_numbers(a=1, b=7)"
   ]
  },
  {
   "cell_type": "code",
   "execution_count": 52,
   "metadata": {},
   "outputs": [
    {
     "data": {
      "text/plain": [
       "4"
      ]
     },
     "execution_count": 52,
     "metadata": {},
     "output_type": "execute_result"
    }
   ],
   "source": [
    "add_numbers(1)"
   ]
  },
  {
   "cell_type": "code",
   "execution_count": 53,
   "metadata": {},
   "outputs": [],
   "source": [
    "def check_and_division(a, b):\n",
    "    checked = True if a % b == 0 else False\n",
    "    result = a // b\n",
    "    return checked, result"
   ]
  },
  {
   "cell_type": "code",
   "execution_count": 54,
   "metadata": {},
   "outputs": [
    {
     "data": {
      "text/plain": [
       "(True, 2)"
      ]
     },
     "execution_count": 54,
     "metadata": {},
     "output_type": "execute_result"
    }
   ],
   "source": [
    "check_and_division(4, 2)"
   ]
  },
  {
   "cell_type": "code",
   "execution_count": 55,
   "metadata": {},
   "outputs": [
    {
     "data": {
      "text/plain": [
       "tuple"
      ]
     },
     "execution_count": 55,
     "metadata": {},
     "output_type": "execute_result"
    }
   ],
   "source": [
    "result = check_and_division(4, 2)\n",
    "type(result)"
   ]
  },
  {
   "cell_type": "code",
   "execution_count": 56,
   "metadata": {},
   "outputs": [
    {
     "name": "stdout",
     "output_type": "stream",
     "text": [
      "Результат проверки: True\n",
      "Частное: 2\n"
     ]
    }
   ],
   "source": [
    "check_result, result = check_and_division(a=4, b=2)\n",
    "print('Результат проверки:', check_result)\n",
    "print('Частное:', result)"
   ]
  },
  {
   "cell_type": "code",
   "execution_count": 57,
   "metadata": {},
   "outputs": [
    {
     "name": "stdout",
     "output_type": "stream",
     "text": [
      "Результат проверки: False\n",
      "Частное: 0\n"
     ]
    }
   ],
   "source": [
    "_, result = check_and_division(b=4, a=2)\n",
    "print('Результат проверки:', _)\n",
    "print('Частное:', result)"
   ]
  },
  {
   "cell_type": "markdown",
   "metadata": {},
   "source": [
    "Так же можно использовать конструкции `*args` и `**kwargs`:\n",
    "\n",
    "`*args` – при перечаче в функцию списка аргументов. Python \"подставит\" элементы списка в аргументы функции по их порядку\n",
    "\n",
    "`**kwargs` – при передаче в функцию словаря аргументов. Python \"подставит\" элементы словаря в аргументы по их названию"
   ]
  },
  {
   "cell_type": "code",
   "execution_count": 58,
   "metadata": {},
   "outputs": [],
   "source": [
    "def sum_any(*args):\n",
    "    return sum(args)"
   ]
  },
  {
   "cell_type": "code",
   "execution_count": 59,
   "metadata": {},
   "outputs": [],
   "source": [
    "def sum_3_numbers(a, b, c):\n",
    "    return a + b + c"
   ]
  },
  {
   "cell_type": "code",
   "execution_count": 60,
   "metadata": {},
   "outputs": [
    {
     "name": "stdout",
     "output_type": "stream",
     "text": [
      "True\n"
     ]
    }
   ],
   "source": [
    "a = [1, 2, 3]\n",
    "print(sum_3_numbers(*a) == sum_3_numbers(1, 2, 3))"
   ]
  },
  {
   "cell_type": "code",
   "execution_count": 61,
   "metadata": {},
   "outputs": [
    {
     "data": {
      "text/plain": [
       "30"
      ]
     },
     "execution_count": 61,
     "metadata": {},
     "output_type": "execute_result"
    }
   ],
   "source": [
    "sum_any(1, 3, 4, 10, 12)"
   ]
  },
  {
   "cell_type": "code",
   "execution_count": 62,
   "metadata": {},
   "outputs": [
    {
     "name": "stdout",
     "output_type": "stream",
     "text": [
      "31\n"
     ]
    }
   ],
   "source": [
    "a = {\n",
    "    'b': 10,\n",
    "    'a': 1,\n",
    "    'c': 20\n",
    "}\n",
    "print(sum_3_numbers(**a))"
   ]
  },
  {
   "cell_type": "markdown",
   "metadata": {},
   "source": [
    "### Генераторы\n",
    "\n",
    "```python\n",
    "def generator_name(arg1, arg2,...):\n",
    "    некоторый цикл:\n",
    "        yield result\n",
    "```"
   ]
  },
  {
   "cell_type": "code",
   "execution_count": 63,
   "metadata": {},
   "outputs": [
    {
     "data": {
      "text/plain": [
       "[0, 1, 2, 3, 4, 5, 6, 7, 8, 9]"
      ]
     },
     "execution_count": 63,
     "metadata": {},
     "output_type": "execute_result"
    }
   ],
   "source": [
    "list(range(0, 10))"
   ]
  },
  {
   "cell_type": "code",
   "execution_count": 64,
   "metadata": {},
   "outputs": [],
   "source": [
    "def square_gen(n):\n",
    "    print('Start')\n",
    "    for e in range(n):\n",
    "        yield e ** 2"
   ]
  },
  {
   "cell_type": "code",
   "execution_count": 65,
   "metadata": {},
   "outputs": [],
   "source": [
    "gen = square_gen(10)"
   ]
  },
  {
   "cell_type": "code",
   "execution_count": 66,
   "metadata": {},
   "outputs": [
    {
     "name": "stdout",
     "output_type": "stream",
     "text": [
      "<generator object square_gen at 0x7f9cd336dcf0>\n"
     ]
    }
   ],
   "source": [
    "print(gen)"
   ]
  },
  {
   "cell_type": "code",
   "execution_count": 67,
   "metadata": {},
   "outputs": [
    {
     "name": "stdout",
     "output_type": "stream",
     "text": [
      "Start\n",
      "0\n"
     ]
    }
   ],
   "source": [
    "print(next(gen))"
   ]
  },
  {
   "cell_type": "code",
   "execution_count": 68,
   "metadata": {},
   "outputs": [
    {
     "name": "stdout",
     "output_type": "stream",
     "text": [
      "1\n",
      "4\n",
      "9\n",
      "16\n",
      "25\n",
      "36\n",
      "49\n",
      "64\n",
      "81\n"
     ]
    }
   ],
   "source": [
    "for e in gen:\n",
    "    print(e)"
   ]
  },
  {
   "cell_type": "code",
   "execution_count": 69,
   "metadata": {},
   "outputs": [
    {
     "name": "stdout",
     "output_type": "stream",
     "text": [
      "<generator object square_gen at 0x7f9cd336dcf0>\n"
     ]
    }
   ],
   "source": [
    "print(gen)"
   ]
  },
  {
   "cell_type": "code",
   "execution_count": 70,
   "metadata": {},
   "outputs": [
    {
     "ename": "StopIteration",
     "evalue": "",
     "output_type": "error",
     "traceback": [
      "\u001b[0;31m---------------------------------------------------------------------------\u001b[0m",
      "\u001b[0;31mStopIteration\u001b[0m                             Traceback (most recent call last)",
      "\u001b[0;32m<ipython-input-70-be0d7584d73f>\u001b[0m in \u001b[0;36m<module>\u001b[0;34m\u001b[0m\n\u001b[0;32m----> 1\u001b[0;31m \u001b[0mprint\u001b[0m\u001b[0;34m(\u001b[0m\u001b[0mnext\u001b[0m\u001b[0;34m(\u001b[0m\u001b[0mgen\u001b[0m\u001b[0;34m)\u001b[0m\u001b[0;34m)\u001b[0m\u001b[0;34m\u001b[0m\u001b[0;34m\u001b[0m\u001b[0m\n\u001b[0m",
      "\u001b[0;31mStopIteration\u001b[0m: "
     ]
    }
   ],
   "source": [
    "print(next(gen))"
   ]
  },
  {
   "cell_type": "code",
   "execution_count": 71,
   "metadata": {},
   "outputs": [
    {
     "name": "stdout",
     "output_type": "stream",
     "text": [
      "Start\n",
      "[0, 1, 4, 9, 16, 25, 36, 49, 64, 81]\n"
     ]
    }
   ],
   "source": [
    "gen = square_gen(10)\n",
    "print(list(gen))"
   ]
  },
  {
   "cell_type": "markdown",
   "metadata": {},
   "source": [
    "### lambda-функции\n",
    "\n",
    "* Анонимная функция\n",
    "* Принимает на вход аргументы и производит действия над ними\n",
    "* `x = lambda args: code`\n",
    "\n",
    "\n",
    "```python\n",
    "variable = lambda arg1, arg2,... : код\n",
    "\n",
    "```"
   ]
  },
  {
   "cell_type": "code",
   "execution_count": 72,
   "metadata": {},
   "outputs": [],
   "source": [
    "check_even = lambda x: 'Even' if x % 2 == 0 else 'Odd'"
   ]
  },
  {
   "cell_type": "code",
   "execution_count": 73,
   "metadata": {},
   "outputs": [
    {
     "name": "stdout",
     "output_type": "stream",
     "text": [
      "<class 'function'>\n"
     ]
    }
   ],
   "source": [
    "print(type(check_even))"
   ]
  },
  {
   "cell_type": "code",
   "execution_count": 74,
   "metadata": {},
   "outputs": [
    {
     "name": "stdout",
     "output_type": "stream",
     "text": [
      "Odd\n"
     ]
    }
   ],
   "source": [
    "print(check_even(5))"
   ]
  },
  {
   "cell_type": "markdown",
   "metadata": {},
   "source": [
    "### Функции map, filter\n",
    "\n",
    "```python\n",
    "map(func, iterable) – преобразование элементов iterable, которых может быть несколько\n",
    "filter(func, iterable) – фильтрация элементов iterable\n",
    "```"
   ]
  },
  {
   "cell_type": "markdown",
   "metadata": {},
   "source": [
    "* Принимают на вход функцию и итерируемый объект (тот, что можно последовательно перебрать)\n",
    "* Возвращают специальные объекты (итераторы)"
   ]
  },
  {
   "cell_type": "code",
   "execution_count": 75,
   "metadata": {},
   "outputs": [
    {
     "name": "stdout",
     "output_type": "stream",
     "text": [
      "[0, 1, 4, 9, 16, 25, 36, 49, 64, 81]\n"
     ]
    }
   ],
   "source": [
    "squared_list = []\n",
    "for element in range(10):\n",
    "    squared_list.append(element**2)\n",
    "print(squared_list)"
   ]
  },
  {
   "cell_type": "code",
   "execution_count": 76,
   "metadata": {},
   "outputs": [
    {
     "name": "stdout",
     "output_type": "stream",
     "text": [
      "<map object at 0x7f9cd3382c50>\n"
     ]
    }
   ],
   "source": [
    "squared_list = map(lambda to_square: to_square**2, range(10))\n",
    "print(squared_list)"
   ]
  },
  {
   "cell_type": "code",
   "execution_count": 77,
   "metadata": {},
   "outputs": [
    {
     "name": "stdout",
     "output_type": "stream",
     "text": [
      "[0, 1, 4, 9, 16, 25, 36, 49, 64, 81]\n"
     ]
    }
   ],
   "source": [
    "print(list(squared_list))"
   ]
  },
  {
   "cell_type": "code",
   "execution_count": 78,
   "metadata": {},
   "outputs": [
    {
     "name": "stdout",
     "output_type": "stream",
     "text": [
      "[1, 3, 5, 7, 9]\n"
     ]
    }
   ],
   "source": [
    "odd_list = []\n",
    "for element in range(10):\n",
    "    if element % 2 == 1:\n",
    "        odd_list.append(element)\n",
    "print(odd_list)"
   ]
  },
  {
   "cell_type": "code",
   "execution_count": 79,
   "metadata": {},
   "outputs": [
    {
     "name": "stdout",
     "output_type": "stream",
     "text": [
      "<filter object at 0x7f9cd33826d8>\n"
     ]
    }
   ],
   "source": [
    "odd_list = filter(lambda check_odd: check_odd % 2 == 1, range(10))\n",
    "print(odd_list)"
   ]
  },
  {
   "cell_type": "code",
   "execution_count": 80,
   "metadata": {},
   "outputs": [
    {
     "name": "stdout",
     "output_type": "stream",
     "text": [
      "[1, 3, 5, 7, 9]\n"
     ]
    }
   ],
   "source": [
    "print(list(odd_list))"
   ]
  },
  {
   "cell_type": "code",
   "execution_count": null,
   "metadata": {},
   "outputs": [],
   "source": []
  }
 ],
 "metadata": {
  "kernelspec": {
   "display_name": "Python 3",
   "language": "python",
   "name": "python3"
  },
  "language_info": {
   "codemirror_mode": {
    "name": "ipython",
    "version": 3
   },
   "file_extension": ".py",
   "mimetype": "text/x-python",
   "name": "python",
   "nbconvert_exporter": "python",
   "pygments_lexer": "ipython3",
   "version": "3.7.3"
  }
 },
 "nbformat": 4,
 "nbformat_minor": 4
}
