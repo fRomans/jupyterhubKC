{
 "cells": [
  {
   "cell_type": "code",
   "execution_count": null,
   "metadata": {},
   "outputs": [],
   "source": [
    "import pandas as pd\n",
    "import numpy as np\n",
    "\n",
    "path_to_file = '/mnt/HC_Volume_18315164/home-jupyter/jupyter-rom-fadeev/bookings.csv'\n",
    "bookings = pd.read_csv(path_to_file, encoding='windows-1251', sep=';')"
   ]
  },
  {
   "cell_type": "code",
   "execution_count": null,
   "metadata": {},
   "outputs": [],
   "source": [
    "booking_list = bookings.columns.to_list()\n",
    "new_list = []\n",
    "for elbook in booking_list:\n",
    "\n",
    "    strng = str(elbook)\n",
    "    #     strng.trim()\n",
    "    strng = strng.lower()\n",
    "    strng = strng.replace(' ', '_')\n",
    "    new_list.append(strng)"
   ]
  },
  {
   "cell_type": "code",
   "execution_count": null,
   "metadata": {},
   "outputs": [],
   "source": [
    "for new, boo in zip(new_list, booking_list):\n",
    "    bookings = bookings.rename(columns={boo : new})"
   ]
  },
  {
   "cell_type": "code",
   "execution_count": null,
   "metadata": {},
   "outputs": [],
   "source": [
    "bookings['total_kids'] = bookings['children'] + bookings['babies']"
   ]
  },
  {
   "cell_type": "code",
   "execution_count": null,
   "metadata": {},
   "outputs": [],
   "source": [
    "\n",
    "# bookings['has_kids'] = np.where(bookings['total_kids']>0, True, False)\n",
    "bookings['has_kids'] = bookings.total_kids > 0"
   ]
  },
  {
   "cell_type": "code",
   "execution_count": null,
   "metadata": {},
   "outputs": [],
   "source": [
    "bookings"
   ]
  },
  {
   "cell_type": "code",
   "execution_count": null,
   "metadata": {},
   "outputs": [],
   "source": [
    "yesChildNotCencel = bookings \\\n",
    "    .query(\"has_kids == True\") \\\n",
    "    .query(\"is_canceled == 0\") \\\n",
    "    .groupby(['is_canceled'], as_index=False) \\\n",
    "    .agg({'is_canceled': 'count'}) \\\n",
    "#     .sort_values('has_kids', ascending=False) \\"
   ]
  },
  {
   "cell_type": "code",
   "execution_count": null,
   "metadata": {},
   "outputs": [],
   "source": [
    "yesChildNotCencel"
   ]
  },
  {
   "cell_type": "code",
   "execution_count": null,
   "metadata": {},
   "outputs": [],
   "source": [
    "yesChildCencel = bookings \\\n",
    "    .query(\"has_kids == True\") \\\n",
    "    .query(\"is_canceled == 1\") \\\n",
    "    .groupby(['is_canceled'], as_index=False) \\\n",
    "    .agg({'is_canceled': 'count'}) \\"
   ]
  },
  {
   "cell_type": "code",
   "execution_count": null,
   "metadata": {},
   "outputs": [],
   "source": [
    "yesChildCencel"
   ]
  },
  {
   "cell_type": "code",
   "execution_count": null,
   "metadata": {},
   "outputs": [],
   "source": [
    "notChildCencel = bookings \\\n",
    "    .query(\"has_kids == False\") \\\n",
    "    .query(\"is_canceled == 1\") \\\n",
    "    .groupby(['is_canceled'], as_index=False) \\\n",
    "    .agg({'is_canceled': 'count'}) \\\n",
    "#     .sort_values('has_kids', ascending=False) \\"
   ]
  },
  {
   "cell_type": "code",
   "execution_count": null,
   "metadata": {},
   "outputs": [],
   "source": [
    "notChildCencel"
   ]
  },
  {
   "cell_type": "code",
   "execution_count": null,
   "metadata": {},
   "outputs": [],
   "source": [
    "noChildNotCencel = bookings \\\n",
    "    .query(\"has_kids == False\") \\\n",
    "    .query(\"is_canceled == 0\") \\\n",
    "    .groupby(['is_canceled'], as_index=False) \\\n",
    "    .agg({'is_canceled': 'count'}) \\"
   ]
  },
  {
   "cell_type": "code",
   "execution_count": null,
   "metadata": {},
   "outputs": [],
   "source": [
    "noChildNotCencel"
   ]
  },
  {
   "cell_type": "code",
   "execution_count": null,
   "metadata": {},
   "outputs": [],
   "source": [
    "summaD = yesChildNotCencel + yesChildCencel\n",
    "summaBez = noChildNotCencel + notChildCencel\n",
    "oneprocD = summaD/100\n",
    "oneprocBez = summaBez/100\n",
    "procD = (yesChildCencel/oneprocD)\n",
    "procBez = notChildCencel/oneprocBez"
   ]
  },
  {
   "cell_type": "code",
   "execution_count": null,
   "metadata": {},
   "outputs": [],
   "source": [
    "summaD"
   ]
  },
  {
   "cell_type": "code",
   "execution_count": null,
   "metadata": {},
   "outputs": [],
   "source": [
    "oneprocBez"
   ]
  },
  {
   "cell_type": "code",
   "execution_count": null,
   "metadata": {},
   "outputs": [],
   "source": [
    "oneprocD"
   ]
  },
  {
   "cell_type": "code",
   "execution_count": null,
   "metadata": {},
   "outputs": [],
   "source": [
    "oneprocBez"
   ]
  },
  {
   "cell_type": "code",
   "execution_count": null,
   "metadata": {},
   "outputs": [],
   "source": [
    "procD.round(2)"
   ]
  },
  {
   "cell_type": "code",
   "execution_count": null,
   "metadata": {},
   "outputs": [],
   "source": [
    "procBez.round(2)"
   ]
  }
 ],
 "metadata": {
  "kernelspec": {
   "display_name": "Python 3",
   "language": "python",
   "name": "python3"
  },
  "language_info": {
   "codemirror_mode": {
    "name": "ipython",
    "version": 3
   },
   "file_extension": ".py",
   "mimetype": "text/x-python",
   "name": "python",
   "nbconvert_exporter": "python",
   "pygments_lexer": "ipython3",
   "version": "3.7.3"
  }
 },
 "nbformat": 4,
 "nbformat_minor": 4
}
