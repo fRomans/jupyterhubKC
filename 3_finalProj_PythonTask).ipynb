{
 "cells": [
  {
   "cell_type": "code",
   "execution_count": 1,
   "metadata": {},
   "outputs": [],
   "source": [
    "import numpy as np\n",
    "import pandas as pd\n",
    "import scipy.stats as st\n",
    "from scipy.stats import chi2_contingency, chi2 \n",
    "import seaborn as sns\n",
    "import matplotlib.pyplot as plt\n",
    "import pingouin as pg"
   ]
  },
  {
   "cell_type": "code",
   "execution_count": null,
   "metadata": {},
   "outputs": [],
   "source": []
  },
  {
   "cell_type": "code",
   "execution_count": 2,
   "metadata": {},
   "outputs": [
    {
     "name": "stderr",
     "output_type": "stream",
     "text": [
      "/opt/tljh/user/lib/python3.7/site-packages/outdated/utils.py:18: OutdatedCacheFailedWarning: Failed to use cache while checking for outdated package.\n",
      "Set the environment variable OUTDATED_RAISE_EXCEPTION=1 for a full traceback.\n",
      "Set the environment variable OUTDATED_IGNORE=1 to disable these warnings.\n",
      "  **kwargs\n",
      "/opt/tljh/user/lib/python3.7/site-packages/outdated/utils.py:18: OutdatedPackageWarning: The package outdated is out of date. Your version is 0.2.1, the latest is 0.2.2.\n",
      "Set the environment variable OUTDATED_IGNORE=1 to disable these warnings.\n",
      "  **kwargs\n"
     ]
    },
    {
     "data": {
      "text/html": [
       "<div>\n",
       "<style scoped>\n",
       "    .dataframe tbody tr th:only-of-type {\n",
       "        vertical-align: middle;\n",
       "    }\n",
       "\n",
       "    .dataframe tbody tr th {\n",
       "        vertical-align: top;\n",
       "    }\n",
       "\n",
       "    .dataframe thead th {\n",
       "        text-align: right;\n",
       "    }\n",
       "</style>\n",
       "<table border=\"1\" class=\"dataframe\">\n",
       "  <thead>\n",
       "    <tr style=\"text-align: right;\">\n",
       "      <th></th>\n",
       "      <th>grp</th>\n",
       "      <th>ARPU</th>\n",
       "      <th>ARPAU</th>\n",
       "      <th>CR</th>\n",
       "    </tr>\n",
       "  </thead>\n",
       "  <tbody>\n",
       "    <tr>\n",
       "      <th>0</th>\n",
       "      <td>A</td>\n",
       "      <td>4.956102</td>\n",
       "      <td>47.347204</td>\n",
       "      <td>0.050715</td>\n",
       "    </tr>\n",
       "    <tr>\n",
       "      <th>1</th>\n",
       "      <td>B</td>\n",
       "      <td>6.595762</td>\n",
       "      <td>58.058798</td>\n",
       "      <td>0.046156</td>\n",
       "    </tr>\n",
       "  </tbody>\n",
       "</table>\n",
       "</div>"
      ],
      "text/plain": [
       "  grp      ARPU      ARPAU        CR\n",
       "0   A  4.956102  47.347204  0.050715\n",
       "1   B  6.595762  58.058798  0.046156"
      ]
     },
     "execution_count": 2,
     "metadata": {},
     "output_type": "execute_result"
    }
   ],
   "source": [
    "file_name = 'group_add.csv'\n",
    "\n",
    "def add_file(file_name ):\n",
    "    home_directory = '/mnt/HC_Volume_18315164/home-jupyter/jupyter-rom-fadeev/'\n",
    "    \n",
    "#     Предобработка DataFrame находящихся в домашней дирректории(эта часть кода должна быть вынесена во вне, но для удобства\n",
    "#     внесена в  решение)_____________________________________________________________________________________\n",
    "\n",
    "    groups = pd.read_csv(home_directory+'groups.csv', sep=\" \")\n",
    "    checks = pd.read_csv(home_directory+'checks.csv')\n",
    "    active_studs = pd.read_csv(home_directory+'active_studs.csv')\n",
    "\n",
    "    groups = groups.rename(columns={\"id;grp\": \"idgrp\"})\n",
    "    groups[['id','grp']] = groups.idgrp.str.split(\";\",expand=True)\n",
    "    groups.drop('idgrp', axis= 1 , inplace= True )\n",
    "    groups = groups.rename(columns={'id': \"student_id\"})\n",
    "\n",
    "    checks.columns\n",
    "    checks = checks.rename(columns={'student_id;\"rev\"': \"student_idrev\"})\n",
    "    checks[['student_id','rev']] = checks.student_idrev.str.split(\";\",expand=True)\n",
    "    checks.drop('student_idrev', axis= 1 , inplace= True ) \n",
    "    checks['student_id'] = checks['student_id'].astype(int)\n",
    "    checks_active_studs = active_studs.merge(checks, how='left', on='student_id')\n",
    "    checks_active_studs = checks_active_studs.fillna(0)\n",
    "    checks_active_studs['rev'] = checks_active_studs['rev'].astype(float)\n",
    "# ______________________________________________________________________________________________________________\n",
    "\n",
    "#   Получение и подготовка group_add.csv\n",
    "    group_add = pd.read_csv(home_directory+file_name)\n",
    "    group_add = group_add.rename(columns={'id': \"student_id\"})\n",
    "    group_add['student_id'] = group_add['student_id'].astype(int)\n",
    "    \n",
    "#    Добавление вновь полученных данных со старыми \n",
    "    all_group = pd.concat([groups,group_add])\n",
    "    all_group['student_id'] = all_group['student_id'].astype(int)\n",
    "\n",
    "    \n",
    "\n",
    "#     сводная таблица по всем пользователям \n",
    "    checks_active_studs_all_group1 = all_group.merge(checks_active_studs, how='left', on='student_id')\n",
    "    checks_active_studs_all_group1 = checks_active_studs_all_group1.fillna(0)\n",
    "    checks_active_studs_all_group1['rev'] = checks_active_studs_all_group1['rev'].astype(float)\n",
    "    checks_active_studs_all_group1['student_id'] = checks_active_studs_all_group1['student_id'].astype(int)\n",
    "#     все студенты по группам _____________________________________________________   \n",
    "    all_users_AB = checks_active_studs_all_group1.groupby(['grp'], as_index=False).agg({'rev' : 'count'})\n",
    "    \n",
    "    \n",
    "    \n",
    "    \n",
    "#      получаем всех купивших активных пользователей зашедших на платформу\n",
    "    checks_active_studs_all_group2 = all_group.merge(checks_active_studs, how='inner', on='student_id')\n",
    "#     Все активные студенты по группам__________________________________________ \n",
    "    all_active_users_AB = checks_active_studs_all_group2.groupby(['grp'], as_index=False).agg({'rev' : 'count'}) \n",
    "    \n",
    "    \n",
    "    \n",
    "    \n",
    "    \n",
    "#     Всего купили и на платформе и вне ее 541___________________________________________________________\n",
    "    checks_active_studs_all_group3 = checks_active_studs_all_group1.merge(checks, how='right', on='student_id')\n",
    "    checks_active_studs_all_group3 = checks_active_studs_all_group3.rename(columns={\"rev_x\": \"rev\"})\n",
    "    checks_active_studs_all_group3.drop('rev_y', axis= 1 , inplace= True )\n",
    "    all_checks = checks_active_studs_all_group3.shape[0]    \n",
    "#     Все купившие студенты группы АB _________________________________________  \n",
    "    all_checks_users_AB = checks_active_studs_all_group3.groupby(['grp'], as_index=False).agg({'rev' : 'count'}) \n",
    "    \n",
    "        \n",
    "    \n",
    "#     Всего активные и купили на платформе 392______________________________________________________\n",
    "    checks_active_studs_all_group4 =checks_active_studs_all_group2.query('rev != 0')\n",
    "    all_checks_active_by_groups = checks_active_studs_all_group2.query('rev != 0').shape[0]\n",
    "#   Все купившие активные студенты группы АB _______________________________  \n",
    "    all_active_checks_users_AB = checks_active_studs_all_group4.groupby(['grp'], as_index=False).agg({'rev' : 'count'}) \n",
    "     \n",
    "    \n",
    "    #     общий доход по всем покупкам по группам                                 \n",
    "    all_revenue_AB =checks_active_studs_all_group3.groupby(['grp'], as_index=False).agg({'rev' : 'sum'})\n",
    "\n",
    "    \n",
    "    #     общий доход по активным покупкам по группам                          \n",
    "    all_active_revenue_AB =checks_active_studs_all_group4.groupby(['grp'], as_index=False).agg({'rev' : 'sum'})\n",
    "    \n",
    "\n",
    "#     ВЫвод:\n",
    "#     all_revenue_AB = all_active_revenue_AB - это означает, что 541-392 = 149 - оплативших либо вернули деньги либо оплатили \n",
    "#     иным способом(не через платформу), либо данные о сумме полученой от 149 оплативших утеряны\n",
    "    \n",
    "\n",
    "    res1 = all_users_AB.merge(all_active_users_AB, how='outer', on='grp')\n",
    "    res1 = res1.rename(columns={'rev_x': \"all_st\", 'rev_y': \"all_active_st\"})\n",
    "    res2 = res1.merge(all_checks_users_AB, how='outer', on='grp')\n",
    "    res2 = res2.rename(columns={'rev': \"all_check_st\"})\n",
    "    res3 = res2.merge(all_active_checks_users_AB, how='outer', on='grp')\n",
    "    res3 = res3.rename(columns={'rev': \"all_active_check_st\"})\n",
    "    res4 = res3.merge(all_revenue_AB, how='outer', on='grp')\n",
    "    \n",
    " # ARPU считается относительно всех пользователей, попавших в группы.\n",
    "\n",
    " # ARPAU (Average Revenue Per Active User) - средний платеж на всех активных пользователей.\n",
    "\n",
    " # CR = (Количество совершивших целевое действие / Количество посетителей или пользователей) \n",
    " # Количество посетителей — это общее число посетителей или пользователей, которые видели маркетинговую кампанию или страницу.\n",
    "    res4['ARPU'] = res4['rev']/ res4['all_st']\n",
    "    res4['ARPAU'] = res4['rev']/ res4['all_active_st']\n",
    "    res4['CR'] = res4['all_active_check_st']/ res4['all_active_st']\n",
    "\n",
    "    return res4[['grp', 'ARPU', 'ARPAU', 'CR']]\n",
    "\n",
    "add_file(file_name)\n",
    "\n",
    "\n"
   ]
  },
  {
   "cell_type": "code",
   "execution_count": 3,
   "metadata": {},
   "outputs": [
    {
     "name": "stderr",
     "output_type": "stream",
     "text": [
      "/opt/tljh/user/lib/python3.7/site-packages/outdated/utils.py:18: OutdatedCacheFailedWarning: Failed to use cache while checking for outdated package.\n",
      "Set the environment variable OUTDATED_RAISE_EXCEPTION=1 for a full traceback.\n",
      "Set the environment variable OUTDATED_IGNORE=1 to disable these warnings.\n",
      "  **kwargs\n",
      "/opt/tljh/user/lib/python3.7/site-packages/outdated/utils.py:18: OutdatedPackageWarning: The package pingouin is out of date. Your version is 0.4.0, the latest is 0.5.5.\n",
      "Set the environment variable OUTDATED_IGNORE=1 to disable these warnings.\n",
      "  **kwargs\n"
     ]
    }
   ],
   "source": [
    "met = add_file(file_name)"
   ]
  },
  {
   "cell_type": "code",
   "execution_count": 4,
   "metadata": {},
   "outputs": [
    {
     "data": {
      "image/png": "[encoded data removed]",
      "text/plain": [
       "<Figure size 1080x360 with 3 Axes>"
      ]
     },
     "metadata": {
      "needs_background": "light"
     },
     "output_type": "display_data"
    }
   ],
   "source": [
    "def visual_by_metric(df):\n",
    "\n",
    "    fig, ax = plt.subplots(1, 3, figsize=[15, 5])\n",
    "    sns.barplot(ax=ax[0], data=df, x='grp', y='ARPU').set(xlabel='grpoups', ylabel='', title='ARPU'),\n",
    "    sns.barplot(ax=ax[1], data=df, x='grp', y='ARPAU').set(xlabel='grpoups', ylabel='', title='ARPAU'),\n",
    "    sns.barplot(ax=ax[2], data=df, x='grp', y='CR').set(xlabel='grpoups', ylabel='', title='CR')\n",
    "    \n",
    "    \n",
    "visual_by_metric(met)"
   ]
  },
  {
   "cell_type": "code",
   "execution_count": null,
   "metadata": {},
   "outputs": [],
   "source": []
  },
  {
   "cell_type": "code",
   "execution_count": null,
   "metadata": {},
   "outputs": [],
   "source": []
  }
 ],
 "metadata": {
  "kernelspec": {
   "display_name": "Python 3",
   "language": "python",
   "name": "python3"
  },
  "language_info": {
   "codemirror_mode": {
    "name": "ipython",
    "version": 3
   },
   "file_extension": ".py",
   "mimetype": "text/x-python",
   "name": "python",
   "nbconvert_exporter": "python",
   "pygments_lexer": "ipython3",
   "version": "3.7.3"
  }
 },
 "nbformat": 4,
 "nbformat_minor": 4
}
