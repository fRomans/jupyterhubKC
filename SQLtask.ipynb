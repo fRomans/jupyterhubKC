{
 "cells": [
  {
   "cell_type": "code",
   "execution_count": null,
   "metadata": {},
   "outputs": [],
   "source": [
    "# 1\n",
    "\n",
    "SELECT\n",
    "        st_id,\n",
    "        COUNT(correct)\n",
    "    FROM default.peas\n",
    "        \n",
    "    WHERE correct = '1' \n",
    "    \n",
    "    GROUP BY st_id\n",
    "    \n",
    "    LIMIT 100"
   ]
  },
  {
   "cell_type": "code",
   "execution_count": null,
   "metadata": {},
   "outputs": [],
   "source": []
  },
  {
   "cell_type": "code",
   "execution_count": null,
   "metadata": {},
   "outputs": [],
   "source": [
    "# подзапрос получение count\n",
    "SELECT\n",
    "        count(st_id)\n",
    "        \n",
    "   \n",
    " FROM\n",
    "    (SELECT\n",
    "        st_id,\n",
    "        COUNT(correct)\n",
    "    FROM default.peas\n",
    "        \n",
    "    WHERE correct = 1\n",
    "    \n",
    "    GROUP BY st_id)\n",
    "    \n",
    "\n",
    " \n",
    " LIMIT 100\n"
   ]
  },
  {
   "cell_type": "code",
   "execution_count": null,
   "metadata": {},
   "outputs": [],
   "source": []
  },
  {
   "cell_type": "code",
   "execution_count": null,
   "metadata": {},
   "outputs": [],
   "source": [
    "#                                              JOIN\n",
    "SELECT\n",
    "        peas.st_id,\n",
    "        peas.timest,\n",
    "        peas.correct,\n",
    "        peas.subject,\n",
    "        studs.test_grp\n",
    "        \n",
    "    FROM \n",
    "    default.peas AS peas\n",
    "    JOIN default.studs AS studs\n",
    "            ON peas.st_id = studs.st_id\n",
    "        \n",
    "    \n",
    "    \n",
    "LIMIT 100"
   ]
  },
  {
   "cell_type": "code",
   "execution_count": null,
   "metadata": {},
   "outputs": [],
   "source": [
    "#                          просто JOIN  = INNER"
   ]
  },
  {
   "cell_type": "code",
   "execution_count": null,
   "metadata": {},
   "outputs": [],
   "source": [
    "#                                      JOIN 2-х таблиц + ПОДЗАПРОСЫ\n",
    "SELECT\n",
    "        left. ....\n",
    "        left. .......\n",
    "        right. ...\n",
    "        right. ...\n",
    "        \n",
    "    FROM \n",
    "        (\n",
    "         SELECT\n",
    "            peas. ...,\n",
    "            peas. ...\n",
    "\n",
    "\n",
    "         FROM \n",
    "            default.peas\n",
    "        ) AS left\n",
    "        \n",
    "           JOIN \n",
    "            \n",
    "        (SELECT\n",
    "            peas. ...\n",
    "            peas. ...\n",
    "\n",
    "\n",
    "        FROM \n",
    "        default.peas\n",
    "        ) AS right\n",
    "            ON left. ..ID = right. ..ID  AND left. ..Source = right. ..Source\n",
    "\n",
    "    \n",
    "    \n",
    "LIMIT 100"
   ]
  },
  {
   "cell_type": "code",
   "execution_count": null,
   "metadata": {},
   "outputs": [],
   "source": []
  },
  {
   "cell_type": "code",
   "execution_count": null,
   "metadata": {},
   "outputs": [],
   "source": [
    "#                                      JOIN 3-х таблиц + ПОДЗАПРОСЫ\n",
    "SELECT\n",
    "        a. ....\n",
    "        a. .......\n",
    "        b. ...\n",
    "        c. ...\n",
    "        \n",
    "    FROM instals AS a\n",
    "    JOIN deviceID AS b\n",
    "            ON a.deviceID = b.deviceID\n",
    "    JOIN \n",
    "        (\n",
    "            SELECT\n",
    "               UserID,\n",
    "               SUM(Rub) AS sum_rub\n",
    "            FROM checks\n",
    "            GROUP BY UserID\n",
    "        ) AS c\n",
    "            ON b. ... = c. ... - (таблицы берутся в зависимоти от столбцов)\n",
    "       \n",
    "\n",
    "    \n",
    "    \n",
    "LIMIT 100"
   ]
  },
  {
   "cell_type": "code",
   "execution_count": null,
   "metadata": {},
   "outputs": [],
   "source": []
  },
  {
   "cell_type": "code",
   "execution_count": null,
   "metadata": {},
   "outputs": [],
   "source": [
    "#                                                         DATE   Date ⧸ Datetime ⧸ Datediff ⧸ Округление дат"
   ]
  },
  {
   "cell_type": "code",
   "execution_count": null,
   "metadata": {},
   "outputs": [],
   "source": []
  },
  {
   "cell_type": "code",
   "execution_count": null,
   "metadata": {},
   "outputs": [],
   "source": [
    "#            сколько дней прошло с 1-го сентября до сегодняшней даты\n",
    "SELECT\n",
    "        dateDiff(day, now( ), CAST('2024-09-01 00:00:00' AS DAte )) AS date_test"
   ]
  },
  {
   "cell_type": "code",
   "execution_count": null,
   "metadata": {},
   "outputs": [],
   "source": [
    "#   извлечение номера месяца\n",
    "\n",
    "SELECT\n",
    "        toMonth(now( ) ) AS date_test"
   ]
  },
  {
   "cell_type": "code",
   "execution_count": null,
   "metadata": {},
   "outputs": [],
   "source": []
  },
  {
   "cell_type": "code",
   "execution_count": null,
   "metadata": {},
   "outputs": [],
   "source": [
    "#                                          округление даты"
   ]
  },
  {
   "cell_type": "code",
   "execution_count": null,
   "metadata": {},
   "outputs": [],
   "source": [
    "#                                         от начала месяца\n",
    "SELECT\n",
    "        toStartOfMonth(now( ) ) AS date_test"
   ]
  },
  {
   "cell_type": "code",
   "execution_count": null,
   "metadata": {},
   "outputs": [],
   "source": []
  },
  {
   "cell_type": "code",
   "execution_count": null,
   "metadata": {},
   "outputs": [],
   "source": [
    "SELECT\n",
    "    BuyDate,\n",
    "    groupArray(UserId) AS all_users  - группировка данных в Group By(при группировке собрать все значения, которы попали в эту самую группировку)\n",
    "FROM check\n",
    "WHERE Rub >1000\n",
    "Group By BuyDate"
   ]
  },
  {
   "cell_type": "code",
   "execution_count": null,
   "metadata": {},
   "outputs": [],
   "source": []
  },
  {
   "cell_type": "code",
   "execution_count": null,
   "metadata": {},
   "outputs": [],
   "source": []
  },
  {
   "cell_type": "code",
   "execution_count": null,
   "metadata": {},
   "outputs": [],
   "source": []
  },
  {
   "cell_type": "code",
   "execution_count": null,
   "metadata": {},
   "outputs": [],
   "source": [
    "# ++++++++++++++++++++++++++++++++++++++++++++++++++++++++++++++++++++++++++++++++++++++++++++++++++++++ 1\n",
    "#                                                  просто горошин\n",
    "SELECT \n",
    "        toStartOfMonth(now( ) ) AS date_StartOfMonth,\n",
    "        correct,\n",
    "        st_id,\n",
    "        count(st_id) as pea\n",
    "\n",
    "FROM \n",
    "    default.peas\n",
    "\n",
    "WHERE correct = 1\n",
    "\n",
    "GROUP BY st_id,correct\n",
    "\n",
    "HAVING pea >= 20\n",
    "        \n",
    "      \n",
    "        \n",
    "        \n",
    " LIMIT 150 \n",
    "\n",
    "#                                  горошин по предметам\n",
    "\n",
    "SELECT \n",
    "        toStartOfMonth(now( ) ) AS date_StartOfMonth,\n",
    "        correct,\n",
    "        st_id,\n",
    "        count(st_id) as pea,\n",
    "        subject\n",
    "\n",
    "FROM \n",
    "    default.peas\n",
    "\n",
    "WHERE correct = 1\n",
    "\n",
    "GROUP BY st_id,correct,subject\n",
    "\n",
    "HAVING pea >= 20\n",
    "        \n",
    "      \n",
    "        \n",
    "        \n",
    " LIMIT 150\n",
    "        "
   ]
  },
  {
   "cell_type": "code",
   "execution_count": null,
   "metadata": {},
   "outputs": [],
   "source": []
  },
  {
   "cell_type": "code",
   "execution_count": null,
   "metadata": {},
   "outputs": [],
   "source": [
    "#  +++++++++++++++++++++++++++++++++++++++Первая проба++++++++++++++++++++++++++++++++++++++++++++++++\n",
    "SELECT\n",
    "            \n",
    "            peas.st_id as user_id,\n",
    "            -- peas.timest,\n",
    "            peas.correct as correct,\n",
    "            -- peas.subject,\n",
    "            studs.test_grp as group,\n",
    "            check_all.sale_time as sale_time,\n",
    "            check_all.money as price,\n",
    "            check_all.subject as subject\n",
    "            \n",
    "        FROM default.peas AS peas \n",
    "        LEFT JOIN default.studs AS studs\n",
    "                        ON peas.st_id = studs.st_id\n",
    "        JOIN (\n",
    "         \n",
    "                SELECT\n",
    "            studs.st_id,\n",
    "            check.sale_time,\n",
    "            check.money,\n",
    "            check.subject \n",
    "            \n",
    "            \n",
    "        FROM default.studs AS studs \n",
    "        INNER JOIN default.final_project_check AS check\n",
    "                        ON studs.st_id = check.st_id\n",
    "        \n",
    "        \n",
    "                ) as check_all\n",
    "                ON check_all.st_id = peas.st_id\n",
    "                        \n",
    "LIMIT 100\n",
    "\n",
    "\n",
    "\n",
    "\n",
    "-- count(peas.st_id)\n",
    "-- count(DISTINCT peas.st_id)"
   ]
  },
  {
   "cell_type": "code",
   "execution_count": null,
   "metadata": {},
   "outputs": [],
   "source": []
  },
  {
   "cell_type": "code",
   "execution_count": null,
   "metadata": {},
   "outputs": [],
   "source": [
    "# +++++++++++++++++++++++++++++     ARPU  +++++++++++++++++++++++++++++++++++\n",
    "\n",
    "SELECT\n",
    "        sum(check.money)/count(DISTINCT studs.st_id) AS ARPU\n",
    "        \n",
    "    FROM default.final_project_check as check    \n",
    "    RIGHT JOIN default.studs AS studs\n",
    "    \n",
    "            ON check.st_id = studs.st_id"
   ]
  },
  {
   "cell_type": "code",
   "execution_count": null,
   "metadata": {},
   "outputs": [],
   "source": []
  },
  {
   "cell_type": "code",
   "execution_count": null,
   "metadata": {},
   "outputs": [],
   "source": []
  },
  {
   "cell_type": "code",
   "execution_count": null,
   "metadata": {},
   "outputs": [],
   "source": [
    "# +++++++++++++++++++++++++++                All_stud  + 48_check\n",
    "SELECT \n",
    "                    \n",
    "                    count(DISTINCT studs.st_id) as students,\n",
    "                    count(DISTINCT check.st_id) as checks,\n",
    "                    \n",
    "                    \n",
    "                    \n",
    "                FROM default.studs AS studs \n",
    "                LEFT JOIN default.final_project_check AS check \n",
    "                                ON studs.st_id = check.st_id\n",
    "                      "
   ]
  },
  {
   "cell_type": "code",
   "execution_count": null,
   "metadata": {},
   "outputs": [],
   "source": [
    "# ++++++++++++++++++++++++++++++++         Allchecks61_summa\n",
    "SELECT \n",
    "                    \n",
    "                \n",
    "                    count(check.st_id) as all_checks,\n",
    "                    sum(check.money) as summa_checks\n",
    "                    \n",
    "                FROM default.studs AS studs \n",
    "                RIGHT JOIN default.final_project_check AS check \n",
    "                                ON studs.st_id = check.st_id"
   ]
  },
  {
   "cell_type": "code",
   "execution_count": null,
   "metadata": {},
   "outputs": [],
   "source": [
    "# +++++++++++++++++++++++++++++++++++++++++   223_Active_studs\n",
    "SELECT \n",
    "                    \n",
    "                    count(studs.st_id) as active_studs,\n",
    "                    studs.st_id\n",
    "                    \n",
    "                    \n",
    "                    \n",
    "                FROM default.peas AS peas \n",
    "                LEFT JOIN default.studs AS studs \n",
    "                                ON peas.st_id = studs.st_id\n",
    "                WHERE correct = 1\n",
    "                \n",
    "                \n",
    "                GROUP BY studs.st_id\n",
    "                HAVING active_studs > 10"
   ]
  },
  {
   "cell_type": "code",
   "execution_count": null,
   "metadata": {},
   "outputs": [],
   "source": [
    "# +++++++++++++++++++++++++++++++++++++++         ALL_check_MAth_active\n",
    "SELECT \n",
    "                    \n",
    "                count(st_id) as all_check_math,\n",
    "                studs.st_id\n",
    "                    \n",
    "                    \n",
    "               FROM default.peas AS peas \n",
    "                LEFT JOIN default.studs AS studs \n",
    "                                ON peas.st_id = studs.st_id\n",
    "                WHERE  subject = 'Math' and correct = 1\n",
    "               \n",
    "                \n",
    "                \n",
    "                GROUP BY studs.st_id\n",
    "                HAVING all_check_math > 2\n",
    "LIMIT 310                 \n",
    "                      "
   ]
  },
  {
   "cell_type": "code",
   "execution_count": null,
   "metadata": {},
   "outputs": [],
   "source": [
    "# +++++++++++++++++++++++++++++++++                ALL_ Math\n",
    "SELECT \n",
    "                    \n",
    "                count(peas.st_id) as actives\n",
    "                    \n",
    "                    \n",
    "                FROM default.peas AS peas \n",
    "                \n",
    "                WHERE  subject = 'Math' and correct = 1\n",
    "                \n",
    "                 \n",
    "LIMIT 100                 "
   ]
  },
  {
   "cell_type": "code",
   "execution_count": null,
   "metadata": {},
   "outputs": [],
   "source": [
    "# ++++++++++++++++++++++++++++++++++++++ ALL_check_Math\n",
    "SELECT \n",
    "                   \n",
    "                   \n",
    "                count(check.st_id) as all_check_math\n",
    "                    \n",
    "                    \n",
    "                FROM default.final_project_check AS check \n",
    "                \n",
    "                \n",
    "                WHERE  subject = 'Math'\n",
    "                \n",
    "                 \n",
    "LIMIT 100               "
   ]
  },
  {
   "cell_type": "code",
   "execution_count": null,
   "metadata": {},
   "outputs": [],
   "source": [
    "# ++++++++++++++++++++++++++++++++++++++++++++++++++   308 было на платформе\n",
    "SELECT \n",
    "                    \n",
    "                    count(DISTINCT studs.st_id) as active_studs\n",
    "                    \n",
    "                    \n",
    "                    \n",
    "                FROM default.peas AS peas \n",
    "                LEFT JOIN default.studs AS studs \n",
    "                                ON peas.st_id = studs.st_id\n",
    "                "
   ]
  },
  {
   "cell_type": "code",
   "execution_count": null,
   "metadata": {},
   "outputs": [],
   "source": []
  },
  {
   "cell_type": "code",
   "execution_count": null,
   "metadata": {},
   "outputs": [],
   "source": []
  },
  {
   "cell_type": "code",
   "execution_count": null,
   "metadata": {},
   "outputs": [],
   "source": []
  },
  {
   "cell_type": "code",
   "execution_count": null,
   "metadata": {},
   "outputs": [],
   "source": []
  },
  {
   "cell_type": "code",
   "execution_count": null,
   "metadata": {},
   "outputs": [],
   "source": [
    "# -- WHERE correct = '1' and timest = ...\n",
    "# -- WHERE correct = '1' or timest = ...\n",
    "# -- WHERE (correct = '1' and timest = ... ) or (correct = '0' or timest = ...)\n",
    "# -- -- WHERE correct = '1'  timest = '2021-11-30'\n",
    "# select distinct column1, column2 (все столбцы distinct)\n",
    "# select  column +3\n",
    "# unique(Distinct column) == uniqExact(column) - уникальные без повторов\n",
    "# uniq(column) -приблизительно считает\n",
    "#  USING(column) = ON   если столбцы называются одинаково(в множеств-х JOIN-ах не использ-ся)\n",
    "#  select DISTINCT column\n",
    "# ALL JOIN - по умолчанию включено декартово произведение(может собрать все данные - декартово произведение)\n",
    "# ANY JOIN - возмет (первое значение ,которое было встречено)\n",
    "# int(от - до +)       uint(от 0 до ....)\n",
    "# toTypeName(...)  - проверка типа\n",
    "#  NaN - то есть not a number(не число)\n",
    "# yesterday() - вчерашний день в Datetime\n",
    "\n",
    "\n",
    "# CAST(123 AS UInt64) - преобразование типов 123 в UInt64. В ClickHouse есть ф-ции типа toUInt64 и тд\n",
    "# toUInt64OrZero(OrZero)  или toUInt64OrNull(OrNull) если невозможно преобразовать то соответственно zero(0) или null\n",
    "# coalesce(toUInt64OrNull('text') , 999)  - coalesce увидит null и преобразует его в 999\n",
    "# coalesce(toUInt64OrZero('text') , 999)  - coalesce увидит 0 и преобразует его в 999\n",
    "\n",
    "# SELECT\n",
    "#     BuyDate,\n",
    "#     groupArray(UserId) AS all_users  - группировка данных в Group By(при группировке собрать все значения, которы попали в эту\n",
    "#                                       самую группировку. Т.е все UserId, которые совершали покупки в этот день -BuyDate)\n",
    "# FROM check\n",
    "# WHERE Rub >1000\n",
    "# Group By BuyDate\n",
    "\n",
    "\n",
    "# SELECT geoDistans(dolgota1, shorota1, dolgota2, shorota2)  - работа с геоданными\n",
    "# SELECT greatCircleDistans(dolgota1, shorota1, dolgota2, shorota2) - работа с геоданными\n",
    "\n",
    "\n",
    "#объявляем параметры подключения clickhouse к jupiter\n",
    "#   connection = dict(database='test',\n",
    "#                   host='https://clickhouse.lab.karpov.courses',\n",
    "#                   user='student-rw',\n",
    "#                   password='656e2b0c9c')"
   ]
  },
  {
   "cell_type": "code",
   "execution_count": null,
   "metadata": {},
   "outputs": [],
   "source": []
  }
 ],
 "metadata": {
  "kernelspec": {
   "display_name": "Python 3",
   "language": "python",
   "name": "python3"
  },
  "language_info": {
   "codemirror_mode": {
    "name": "ipython",
    "version": 3
   },
   "file_extension": ".py",
   "mimetype": "text/x-python",
   "name": "python",
   "nbconvert_exporter": "python",
   "pygments_lexer": "ipython3",
   "version": "3.7.3"
  }
 },
 "nbformat": 4,
 "nbformat_minor": 4
}
