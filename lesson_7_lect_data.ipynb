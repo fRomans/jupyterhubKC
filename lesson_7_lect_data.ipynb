{
 "cells": [
  {
   "cell_type": "markdown",
   "metadata": {},
   "source": [
    "## Ноутбук к уроку 7: Работа с грязными данными"
   ]
  },
  {
   "cell_type": "code",
   "execution_count": 1,
   "metadata": {},
   "outputs": [],
   "source": [
    "# Импорт необходимых библиотек \n",
    "import pandas as pd\n",
    "import os"
   ]
  },
  {
   "cell_type": "markdown",
   "metadata": {},
   "source": [
    "Обратите внимание, что вам необходимо построить свой путь до папки `Res_Tree`, находящийся в папке `shared`.\n",
    "\n",
    "Содержимое папки `shared` может отличаться от представленного в видео.\n",
    "\n",
    "Введите в переменную `student_login` вместо `'your_login'` ваш логин, который используется в LMS."
   ]
  },
  {
   "cell_type": "code",
   "execution_count": 3,
   "metadata": {},
   "outputs": [],
   "source": [
    "# Укажите ваш логин\n",
    "student_login = 'your_login'"
   ]
  },
  {
   "cell_type": "code",
   "execution_count": 3,
   "metadata": {},
   "outputs": [
    {
     "data": {
      "text/plain": [
       "['.ipynb_checkpoints',\n",
       " 'ads_data.csv.zip',\n",
       " 'analytics_interview',\n",
       " 'hall_of_fame',\n",
       " 'Res_Tree',\n",
       " 'image_2022-04-21_13-38-49.png',\n",
       " 'lesson_2_data.csv',\n",
       " 'lesson_3_data.csv',\n",
       " 'order_leads.csv',\n",
       " 'problem1-reg_data.csv',\n",
       " 'Untitled.ipynb',\n",
       " 'conspect',\n",
       " 'sales_team.csv',\n",
       " 'karpovcourse',\n",
       " 'problem2.csv',\n",
       " 'problem1-auth_data.csv',\n",
       " '__pycache__',\n",
       " 'dag_osilyutina_test.py',\n",
       " 'homeworks',\n",
       " 'invoices.csv']"
      ]
     },
     "execution_count": 3,
     "metadata": {},
     "output_type": "execute_result"
    }
   ],
   "source": [
    "# Для начала смотрим содержимое папки shared при помощи os.listdir\n",
    "os.listdir(f'/mnt/HC_Volume_18315164/home-jupyter/jupyter-{student_login}/shared/') "
   ]
  },
  {
   "cell_type": "code",
   "execution_count": 4,
   "metadata": {},
   "outputs": [
    {
     "data": {
      "text/plain": [
       "['F000545', 'M000547', 'F000570', '.DS_Store']"
      ]
     },
     "execution_count": 4,
     "metadata": {},
     "output_type": "execute_result"
    }
   ],
   "source": [
    "# Далее переходим к содержимому папки Res_Tree\n",
    "os.listdir(f'/mnt/HC_Volume_18315164/home-jupyter/jupyter-{student_login}/shared/Res_Tree/')"
   ]
  },
  {
   "cell_type": "code",
   "execution_count": 5,
   "metadata": {},
   "outputs": [
    {
     "name": "stdout",
     "output_type": "stream",
     "text": [
      "['F000545', 'M000547', 'F000570']\n"
     ]
    }
   ],
   "source": [
    "# Запускаем цикл по названиям директорий в папке Res_Tree с помощью List comprehension \n",
    "# Отбираем все папки, кроме системных, название которых начинается с точки\n",
    "folder_data = [i for i in os.listdir(f'/mnt/HC_Volume_18315164/home-jupyter/jupyter-{student_login}/shared/Res_Tree/') if not i.startswith('.')]\n",
    "print(folder_data)"
   ]
  },
  {
   "cell_type": "code",
   "execution_count": 6,
   "metadata": {},
   "outputs": [],
   "source": [
    "# Вариант с классическим циклом for\n",
    "# for i in folder_data:\n",
    "#     if not i.startswith('.'):\n",
    "#         print(i)"
   ]
  },
  {
   "cell_type": "code",
   "execution_count": null,
   "metadata": {},
   "outputs": [],
   "source": []
  },
  {
   "cell_type": "code",
   "execution_count": 7,
   "metadata": {},
   "outputs": [],
   "source": [
    "# Путь к файлу meals_list_2.txt - Вам нужно написать свой путь к этому файлу\n",
    "p = f'/mnt/HC_Volume_18315164/home-jupyter/jupyter-{student_login}/shared/Res_Tree/F000545/res_2019.09.11_0.0_6493B6_Container-dat_2125_91-105-165_F000545/meals_list_2.txt'"
   ]
  },
  {
   "cell_type": "code",
   "execution_count": 8,
   "metadata": {},
   "outputs": [],
   "source": [
    "# Открываем файл при помощи функции open() и метода readlines()\n",
    "all_data = open(p).readlines()"
   ]
  },
  {
   "cell_type": "code",
   "execution_count": 9,
   "metadata": {},
   "outputs": [
    {
     "data": {
      "text/plain": [
       "['-------------------------------------------------------\\n',\n",
       " '-------------------------------------------------------\\n',\n",
       " 'Data log format: Descent DB log\\n',\n",
       " '\\n',\n",
       " '    \\n',\n",
       " '  Intake Params check: INTAKE PARAMS DIFFER FROM THEIR DEFAULTS!!!\\n',\n",
       " '  Power cycle emulation: disabled\\n',\n",
       " '\\n',\n",
       " '  Build Mode:   HB_ITS_ONLY\\n',\n",
       " '-------------------------------------------------------\\n',\n",
       " '\\n',\n",
       " '\\n',\n",
       " '--- Non-deleted saved meals -----------------------\\n',\n",
       " ' Meal#;        Date; Start;   End; Flags;    E-IN;    Cbh;    Fat;    Pro;  S. tstamp; End tstamp; Minutes;  Recs; First;  Last;    Type; Frags;\\n',\n",
       " '     0;  09.01.2020; 10:54; 12:33;  0x84;  247.41;  18.85;  13.58;  12.45; 1578556469; 1578562439;     100;   100;     1;   100; F3-Meal;\\n',\n",
       " '     1;  09.01.2020; 12:42; 14:11;  0x84;  198.60;  17.00;  10.31;   9.45; 1578562921; 1578568288;      90;    94;   104;   197; F3-Meal;\\n',\n",
       " '     2;  09.01.2020; 14:31; 16:41;  0x84;  320.71;  23.09;  18.03;  16.53; 1578569494; 1578577272;     130;   130;   217;   346; F3-Meal;\\n',\n",
       " '     3;  09.01.2020; 16:57; 18:01;  0x84;  136.57;  12.71;   6.77;   6.20; 1578578237; 1578582096;      65;    65;   362;   426; F3-Meal;\\n',\n",
       " '     4;  09.01.2020; 18:09; 19:46;  0x84;  193.10;  16.25;  10.11;   9.27; 1578582579; 1578588367;      97;    97;   434;   530; F3-Meal;\\n',\n",
       " '     5;  09.01.2020; 20:43; 22:46;  0x84;  271.64;  19.42;  15.31;  14.04; 1578591804; 1578599161;     123;   103;   587;   689; F3-Meal;\\n',\n",
       " '     6;  09.01.2020; 22:46; 00:14;  0x84;  171.02;  15.29;   8.67;   7.95; 1578599161; 1578604467;      89;   101;   689;   789; F3-Meal;\\n',\n",
       " '-----------------------------------------------------\\n',\n",
       " '\\n',\n",
       " '--- All saved meals -------------------------------\\n',\n",
       " \"     there's no per-meal data\\n\",\n",
       " '-----------------------------------------------------\\n',\n",
       " '\\n',\n",
       " '--- Total per-file (0: by summaries, 1: by meals) -\\n',\n",
       " 'Tracking Start;      Last saved;             Idx.; Rec. ID;     Tstamp;     E-IN;  CBH_in;  FAT_in;  PRO_in;    E-OUT; CBH_out; FAT_out;   Steps; Distance; E-LOSS for phy\\n',\n",
       " '09.01.2020 10:54:29; 09.01.2020 23:59:23;       0;       0; 1578614363;  1511.09;  120.11;   81.37;   74.59;     0.00;    0.00;    0.00;       0;        0;           0.00\\n',\n",
       " '09.01.2020 10:54:29; 10.01.2020 00:14:27;       1;       0; 1578615267;  1511.09;  120.11;   81.37;   74.59;     0.00;    0.00;    0.00;       0;        0;           0.00\\n',\n",
       " '-----------------------------------------------------\\n',\n",
       " '\\n',\n",
       " '--- Summary change history --------------------------\\n',\n",
       " 'Tracking Start;      Last saved;             Idx.; Rec. ID;     Tstamp;     E-IN;  CBH_in;  FAT_in;  PRO_in;    E-OUT; CBH_out; FAT_out;   Steps; Distance; E-LOSS for phy\\n',\n",
       " '09.01.2020 10:54:29; 09.01.2020 23:59:23;       0;       0; 1578614363;  1511.09;  120.11;   81.37;   74.59;     0.00;    0.00;    0.00;       0;        0;           0.00\\n',\n",
       " '-----------------------------------------------------\\n',\n",
       " '-------------------------------------------------------\\n',\n",
       " '-------------------------------------------------------\\n',\n",
       " 'Data log format: Descent DB log\\n',\n",
       " '\\n',\n",
       " '   \\n',\n",
       " '\\n',\n",
       " '  Intake Params check: INTAKE PARAMS DIFFER FROM THEIR DEFAULTS!!!\\n',\n",
       " '  Power cycle emulation: disabled\\n',\n",
       " '\\n',\n",
       " '  Build Mode:   HB_ITS_ONLY\\n',\n",
       " '-------------------------------------------------------\\n',\n",
       " '\\n',\n",
       " '--- Non-deleted saved meals -----------------------\\n',\n",
       " ' Meal#;        Date; Start;   End; Flags;    E-IN;    Cbh;    Fat;    Pro;  S. tstamp; End tstamp; Minutes;  Recs; First;  Last;    Type; Frags;\\n',\n",
       " '     0;  09.01.2020; 22:46; 00:14;  0x84;  171.02;  15.29;   8.67;   7.95; 1578599161; 1578604467;      89;   101;   689;   789; F3-Meal;\\n',\n",
       " '     1;  10.01.2020; 01:22; 04:41;  0x84;  359.83;  29.25;  19.17;  17.57; 1578608567; 1578620506;     199;   203;   861;  1063; F3-Meal;\\n',\n",
       " '     2;  10.01.2020; 14:26; 15:48;  0x84;  167.74;  15.08;   8.48;   7.78; 1578655600; 1578660484;      82;    82;  1645;  1726; F3-Meal;\\n',\n",
       " '     3;  10.01.2020; 18:51; 19:58;  0x84;  171.56;  15.31;   8.71;   7.98; 1578671519; 1578675499;      67;    74;  1902;  1975; F3-Meal;\\n',\n",
       " '     4;  10.01.2020; 20:18; 21:31;  0x84;  149.40;  13.58;   7.51;   6.88; 1578676705; 1578681107;      74;    70;  1995;  2064; F3-Meal;\\n',\n",
       " '     5;  10.01.2020; 21:31; 23:07;  0x84;  190.85;  15.36;  10.22;   9.36; 1578681107; 1578686835;      96;   100;  2064;  2163; F3-Meal;\\n',\n",
       " '     6;  10.01.2020; 23:07; 01:16;  0x84;  308.65;  23.68;  16.89;  15.48; 1578686835; 1578694613;     130;   127;  2163;  2289; F3-Meal;\\n',\n",
       " '-----------------------------------------------------\\n',\n",
       " '\\n',\n",
       " '--- All saved meals -------------------------------\\n',\n",
       " \"     there's no per-meal data\\n\",\n",
       " '-----------------------------------------------------\\n',\n",
       " '\\n',\n",
       " '--- Total per-file (0: by summaries, 1: by meals) -\\n',\n",
       " 'Tracking Start;      Last saved;             Idx.; Rec. ID;     Tstamp;     E-IN;  CBH_in;  FAT_in;  PRO_in;    E-OUT; CBH_out; FAT_out;   Steps; Distance; E-LOSS for phy\\n',\n",
       " '10.01.2020 00:00:23; 10.01.2020 23:59:30;       0;       0; 1578700770;  1192.92;  100.71;   62.37;   57.18;     0.00;    0.00;    0.00;       0;        0;           0.00\\n',\n",
       " '10.01.2020 01:22:47; 11.01.2020 01:16:53;       1;       0; 1578705413;  1192.92;  100.71;   62.37;   57.18;     0.00;    0.00;    0.00;       0;        0;           0.00\\n',\n",
       " '-----------------------------------------------------\\n',\n",
       " '\\n',\n",
       " '--- Summary change history --------------------------\\n',\n",
       " 'Tracking Start;      Last saved;             Idx.; Rec. ID;     Tstamp;     E-IN;  CBH_in;  FAT_in;  PRO_in;    E-OUT; CBH_out; FAT_out;   Steps; Distance; E-LOSS for phy\\n',\n",
       " '10.01.2020 00:00:23; 10.01.2020 23:59:30;       0;       0; 1578700770;  1192.92;  100.71;   62.37;   57.18;     0.00;    0.00;    0.00;       0;        0;           0.00\\n',\n",
       " '-----------------------------------------------------\\n',\n",
       " '-------------------------------------------------------\\n',\n",
       " '-------------------------------------------------------\\n',\n",
       " 'Data log format: Descent DB log\\n',\n",
       " '\\n',\n",
       " '    \\n',\n",
       " '  Intake Params check: INTAKE PARAMS DIFFER FROM THEIR DEFAULTS!!!\\n',\n",
       " '  Power cycle emulation: disabled\\n',\n",
       " '\\n',\n",
       " '  Build Mode:   HB_ITS_ONLY\\n',\n",
       " '-------------------------------------------------------\\n',\n",
       " '\\n',\n",
       " '\\n',\n",
       " '--- Non-deleted saved meals -----------------------\\n',\n",
       " ' Meal#;        Date; Start;   End; Flags;    E-IN;    Cbh;    Fat;    Pro;  S. tstamp; End tstamp; Minutes;  Recs; First;  Last;    Type; Frags;\\n',\n",
       " '     0;  10.01.2020; 23:07; 01:16;  0x84;  308.65;  23.68;  16.89;  15.48; 1578686835; 1578694613;     130;   127;  2163;  2289; F3-Meal;\\n',\n",
       " '     1;  11.01.2020; 02:18; 03:00;  0x84;   51.46;   6.83;   1.91;   1.75; 1578698292; 1578700824;      43;    43;  2353;  2395; F3-Meal;\\n',\n",
       " '     2;  11.01.2020; 12:27; 15:10;  0x84;  404.28;  30.04;  22.43;  20.56; 1578734851; 1578744619;     163;   163;  2959;  3121; F3-Meal;\\n',\n",
       " '     3;  11.01.2020; 15:10; 17:57;  0x84;  430.73;  35.89;  22.67;  20.78; 1578744619; 1578754629;     167;   167;  3121;  3287; F3-Meal;\\n',\n",
       " '     4;  11.01.2020; 17:57; 19:24;  0x84;  210.59;  17.07;  11.24;  10.30; 1578754629; 1578759875;      88;    83;  3287;  3369; F3-Meal;\\n',\n",
       " '     5;  11.01.2020; 19:24; 21:14;  0x84;  253.52;  19.21;  13.95;  12.79; 1578759875; 1578766447;     110;    87;  3369;  3455; F3-Meal;\\n',\n",
       " '     6;  11.01.2020; 21:14; 00:13;  0x84;  427.87;  32.43;  23.54;  21.58; 1578766447; 1578777180;     179;   203;  3455;  3657; F3-Meal;\\n',\n",
       " '-----------------------------------------------------\\n',\n",
       " '\\n',\n",
       " '--- All saved meals -------------------------------\\n',\n",
       " \"     there's no per-meal data\\n\",\n",
       " '-----------------------------------------------------\\n',\n",
       " '\\n',\n",
       " '--- Total per-file (0: by summaries, 1: by meals) -\\n',\n",
       " 'Tracking Start;      Last saved;             Idx.; Rec. ID;     Tstamp;     E-IN;  CBH_in;  FAT_in;  PRO_in;    E-OUT; CBH_out; FAT_out;   Steps; Distance; E-LOSS for phy\\n',\n",
       " '11.01.2020 00:00:31; 11.01.2020 23:59:57;       0;       0; 1578787197;  1930.42;  153.15;  104.04;   95.37;     0.00;    0.00;    0.00;       0;        0;           0.00\\n',\n",
       " '11.01.2020 02:18:12; 12.01.2020 00:13:00;       1;       0; 1578787980;  1930.42;  153.15;  104.04;   95.37;     0.00;    0.00;    0.00;       0;        0;           0.00\\n',\n",
       " '-----------------------------------------------------\\n',\n",
       " '\\n',\n",
       " '--- Summary change history --------------------------\\n',\n",
       " 'Tracking Start;      Last saved;             Idx.; Rec. ID;     Tstamp;     E-IN;  CBH_in;  FAT_in;  PRO_in;    E-OUT; CBH_out; FAT_out;   Steps; Distance; E-LOSS for phy\\n',\n",
       " '11.01.2020 00:00:31; 11.01.2020 23:59:57;       0;       0; 1578787197;  1930.42;  153.15;  104.04;   95.37;     0.00;    0.00;    0.00;       0;        0;           0.00\\n',\n",
       " '-----------------------------------------------------\\n']"
      ]
     },
     "execution_count": 9,
     "metadata": {},
     "output_type": "execute_result"
    }
   ],
   "source": [
    "# Смотрим на значение переменной\n",
    "all_data"
   ]
  },
  {
   "cell_type": "code",
   "execution_count": 10,
   "metadata": {},
   "outputs": [],
   "source": [
    "# Решение для тестирования цикла\n",
    "# x = ['1', '2', 'start', '3', '4', 'end', '5', '6', 'start', '7', '8', 'end']\n",
    "# scanning = False\n",
    "# for i in x:\n",
    "#     if i == 'end':\n",
    "#         scanning = False\n",
    "#         continue    \n",
    "    \n",
    "#     if scanning:\n",
    "#         print(i)\n",
    "    \n",
    "    \n",
    "#     if i == 'start':\n",
    "#         scanning = True\n",
    "#         continue"
   ]
  },
  {
   "cell_type": "code",
   "execution_count": 11,
   "metadata": {},
   "outputs": [],
   "source": [
    "# Задаём переменную meal_data\n",
    "meal_data = open(p).readlines()"
   ]
  },
  {
   "cell_type": "code",
   "execution_count": 12,
   "metadata": {},
   "outputs": [],
   "source": [
    "# Создаём пустой список, в который будем собирать датафрейм\n",
    "all_data = []"
   ]
  },
  {
   "cell_type": "code",
   "execution_count": 13,
   "metadata": {},
   "outputs": [],
   "source": [
    "# Запускаем цикл\n",
    "scanning = False\n",
    "for i in meal_data:\n",
    "    if i.startswith('-------------'):\n",
    "        scanning = False\n",
    "        continue    \n",
    "        \n",
    "    if scanning:\n",
    "        if 'Meal#;' in i:\n",
    "            col_name = i\n",
    "            continue\n",
    "        all_data.append([value.strip() for value in i.split(';')])\n",
    "        \n",
    "    \n",
    "    if 'Non-deleted saved meals' in i:\n",
    "        scanning = True\n",
    "        continue\n",
    "        "
   ]
  },
  {
   "cell_type": "code",
   "execution_count": 14,
   "metadata": {},
   "outputs": [],
   "source": [
    "# Формируем финальные названия колонок\n",
    "final_col_names = [col.strip() for col in col_name.split(';')]"
   ]
  },
  {
   "cell_type": "code",
   "execution_count": 15,
   "metadata": {},
   "outputs": [],
   "source": [
    "# Создаём датафрейм с необходимыми названиями колонок\n",
    "meal_df = pd.DataFrame(all_data, columns=final_col_names[0:17])"
   ]
  },
  {
   "cell_type": "code",
   "execution_count": 16,
   "metadata": {},
   "outputs": [
    {
     "data": {
      "text/html": [
       "<div>\n",
       "<style scoped>\n",
       "    .dataframe tbody tr th:only-of-type {\n",
       "        vertical-align: middle;\n",
       "    }\n",
       "\n",
       "    .dataframe tbody tr th {\n",
       "        vertical-align: top;\n",
       "    }\n",
       "\n",
       "    .dataframe thead th {\n",
       "        text-align: right;\n",
       "    }\n",
       "</style>\n",
       "<table border=\"1\" class=\"dataframe\">\n",
       "  <thead>\n",
       "    <tr style=\"text-align: right;\">\n",
       "      <th></th>\n",
       "      <th>Meal#</th>\n",
       "      <th>Date</th>\n",
       "      <th>Start</th>\n",
       "      <th>End</th>\n",
       "      <th>Flags</th>\n",
       "      <th>E-IN</th>\n",
       "      <th>Cbh</th>\n",
       "      <th>Fat</th>\n",
       "      <th>Pro</th>\n",
       "      <th>S. tstamp</th>\n",
       "      <th>End tstamp</th>\n",
       "      <th>Minutes</th>\n",
       "      <th>Recs</th>\n",
       "      <th>First</th>\n",
       "      <th>Last</th>\n",
       "      <th>Type</th>\n",
       "      <th>Frags</th>\n",
       "    </tr>\n",
       "  </thead>\n",
       "  <tbody>\n",
       "    <tr>\n",
       "      <th>0</th>\n",
       "      <td>0</td>\n",
       "      <td>09.01.2020</td>\n",
       "      <td>10:54</td>\n",
       "      <td>12:33</td>\n",
       "      <td>0x84</td>\n",
       "      <td>247.41</td>\n",
       "      <td>18.85</td>\n",
       "      <td>13.58</td>\n",
       "      <td>12.45</td>\n",
       "      <td>1578556469</td>\n",
       "      <td>1578562439</td>\n",
       "      <td>100</td>\n",
       "      <td>100</td>\n",
       "      <td>1</td>\n",
       "      <td>100</td>\n",
       "      <td>F3-Meal</td>\n",
       "      <td></td>\n",
       "    </tr>\n",
       "    <tr>\n",
       "      <th>1</th>\n",
       "      <td>1</td>\n",
       "      <td>09.01.2020</td>\n",
       "      <td>12:42</td>\n",
       "      <td>14:11</td>\n",
       "      <td>0x84</td>\n",
       "      <td>198.60</td>\n",
       "      <td>17.00</td>\n",
       "      <td>10.31</td>\n",
       "      <td>9.45</td>\n",
       "      <td>1578562921</td>\n",
       "      <td>1578568288</td>\n",
       "      <td>90</td>\n",
       "      <td>94</td>\n",
       "      <td>104</td>\n",
       "      <td>197</td>\n",
       "      <td>F3-Meal</td>\n",
       "      <td></td>\n",
       "    </tr>\n",
       "    <tr>\n",
       "      <th>2</th>\n",
       "      <td>2</td>\n",
       "      <td>09.01.2020</td>\n",
       "      <td>14:31</td>\n",
       "      <td>16:41</td>\n",
       "      <td>0x84</td>\n",
       "      <td>320.71</td>\n",
       "      <td>23.09</td>\n",
       "      <td>18.03</td>\n",
       "      <td>16.53</td>\n",
       "      <td>1578569494</td>\n",
       "      <td>1578577272</td>\n",
       "      <td>130</td>\n",
       "      <td>130</td>\n",
       "      <td>217</td>\n",
       "      <td>346</td>\n",
       "      <td>F3-Meal</td>\n",
       "      <td></td>\n",
       "    </tr>\n",
       "    <tr>\n",
       "      <th>3</th>\n",
       "      <td>3</td>\n",
       "      <td>09.01.2020</td>\n",
       "      <td>16:57</td>\n",
       "      <td>18:01</td>\n",
       "      <td>0x84</td>\n",
       "      <td>136.57</td>\n",
       "      <td>12.71</td>\n",
       "      <td>6.77</td>\n",
       "      <td>6.20</td>\n",
       "      <td>1578578237</td>\n",
       "      <td>1578582096</td>\n",
       "      <td>65</td>\n",
       "      <td>65</td>\n",
       "      <td>362</td>\n",
       "      <td>426</td>\n",
       "      <td>F3-Meal</td>\n",
       "      <td></td>\n",
       "    </tr>\n",
       "    <tr>\n",
       "      <th>4</th>\n",
       "      <td>4</td>\n",
       "      <td>09.01.2020</td>\n",
       "      <td>18:09</td>\n",
       "      <td>19:46</td>\n",
       "      <td>0x84</td>\n",
       "      <td>193.10</td>\n",
       "      <td>16.25</td>\n",
       "      <td>10.11</td>\n",
       "      <td>9.27</td>\n",
       "      <td>1578582579</td>\n",
       "      <td>1578588367</td>\n",
       "      <td>97</td>\n",
       "      <td>97</td>\n",
       "      <td>434</td>\n",
       "      <td>530</td>\n",
       "      <td>F3-Meal</td>\n",
       "      <td></td>\n",
       "    </tr>\n",
       "  </tbody>\n",
       "</table>\n",
       "</div>"
      ],
      "text/plain": [
       "  Meal#        Date  Start    End Flags    E-IN    Cbh    Fat    Pro  \\\n",
       "0     0  09.01.2020  10:54  12:33  0x84  247.41  18.85  13.58  12.45   \n",
       "1     1  09.01.2020  12:42  14:11  0x84  198.60  17.00  10.31   9.45   \n",
       "2     2  09.01.2020  14:31  16:41  0x84  320.71  23.09  18.03  16.53   \n",
       "3     3  09.01.2020  16:57  18:01  0x84  136.57  12.71   6.77   6.20   \n",
       "4     4  09.01.2020  18:09  19:46  0x84  193.10  16.25  10.11   9.27   \n",
       "\n",
       "    S. tstamp  End tstamp Minutes Recs First Last     Type Frags  \n",
       "0  1578556469  1578562439     100  100     1  100  F3-Meal        \n",
       "1  1578562921  1578568288      90   94   104  197  F3-Meal        \n",
       "2  1578569494  1578577272     130  130   217  346  F3-Meal        \n",
       "3  1578578237  1578582096      65   65   362  426  F3-Meal        \n",
       "4  1578582579  1578588367      97   97   434  530  F3-Meal        "
      ]
     },
     "execution_count": 16,
     "metadata": {},
     "output_type": "execute_result"
    }
   ],
   "source": [
    "# Смотрим на наши данные\n",
    "meal_df.head()"
   ]
  },
  {
   "cell_type": "code",
   "execution_count": 17,
   "metadata": {},
   "outputs": [
    {
     "data": {
      "text/plain": [
       "Meal#         object\n",
       "Date          object\n",
       "Start         object\n",
       "End           object\n",
       "Flags         object\n",
       "E-IN          object\n",
       "Cbh           object\n",
       "Fat           object\n",
       "Pro           object\n",
       "S. tstamp     object\n",
       "End tstamp    object\n",
       "Minutes       object\n",
       "Recs          object\n",
       "First         object\n",
       "Last          object\n",
       "Type          object\n",
       "Frags         object\n",
       "dtype: object"
      ]
     },
     "execution_count": 17,
     "metadata": {},
     "output_type": "execute_result"
    }
   ],
   "source": [
    "# Узнаём типы данных в таблице\n",
    "meal_df.dtypes"
   ]
  },
  {
   "cell_type": "code",
   "execution_count": 18,
   "metadata": {},
   "outputs": [],
   "source": [
    "# Меняем типы данных колонок Minutes и Pro\n",
    "meal_df = meal_df.astype({'Minutes': 'int', 'Pro': 'float'})"
   ]
  },
  {
   "cell_type": "code",
   "execution_count": 19,
   "metadata": {},
   "outputs": [],
   "source": [
    "# Переводим значения колонки Date в тип datetime\n",
    "meal_df['Date'] = pd.to_datetime(meal_df.Date)"
   ]
  },
  {
   "cell_type": "code",
   "execution_count": 20,
   "metadata": {},
   "outputs": [],
   "source": [
    "# Отбираем нужные колонки\n",
    "user_meal_df = meal_df[['Date', 'Pro', 'Minutes']]"
   ]
  },
  {
   "cell_type": "code",
   "execution_count": 21,
   "metadata": {},
   "outputs": [
    {
     "data": {
      "text/html": [
       "<div>\n",
       "<style scoped>\n",
       "    .dataframe tbody tr th:only-of-type {\n",
       "        vertical-align: middle;\n",
       "    }\n",
       "\n",
       "    .dataframe tbody tr th {\n",
       "        vertical-align: top;\n",
       "    }\n",
       "\n",
       "    .dataframe thead th {\n",
       "        text-align: right;\n",
       "    }\n",
       "</style>\n",
       "<table border=\"1\" class=\"dataframe\">\n",
       "  <thead>\n",
       "    <tr style=\"text-align: right;\">\n",
       "      <th></th>\n",
       "      <th>Date</th>\n",
       "      <th>Pro</th>\n",
       "      <th>Minutes</th>\n",
       "    </tr>\n",
       "  </thead>\n",
       "  <tbody>\n",
       "    <tr>\n",
       "      <th>0</th>\n",
       "      <td>2020-09-01</td>\n",
       "      <td>12.45</td>\n",
       "      <td>100</td>\n",
       "    </tr>\n",
       "    <tr>\n",
       "      <th>1</th>\n",
       "      <td>2020-09-01</td>\n",
       "      <td>9.45</td>\n",
       "      <td>90</td>\n",
       "    </tr>\n",
       "    <tr>\n",
       "      <th>2</th>\n",
       "      <td>2020-09-01</td>\n",
       "      <td>16.53</td>\n",
       "      <td>130</td>\n",
       "    </tr>\n",
       "    <tr>\n",
       "      <th>3</th>\n",
       "      <td>2020-09-01</td>\n",
       "      <td>6.20</td>\n",
       "      <td>65</td>\n",
       "    </tr>\n",
       "    <tr>\n",
       "      <th>4</th>\n",
       "      <td>2020-09-01</td>\n",
       "      <td>9.27</td>\n",
       "      <td>97</td>\n",
       "    </tr>\n",
       "  </tbody>\n",
       "</table>\n",
       "</div>"
      ],
      "text/plain": [
       "        Date    Pro  Minutes\n",
       "0 2020-09-01  12.45      100\n",
       "1 2020-09-01   9.45       90\n",
       "2 2020-09-01  16.53      130\n",
       "3 2020-09-01   6.20       65\n",
       "4 2020-09-01   9.27       97"
      ]
     },
     "execution_count": 21,
     "metadata": {},
     "output_type": "execute_result"
    }
   ],
   "source": [
    "user_meal_df.head()"
   ]
  },
  {
   "cell_type": "code",
   "execution_count": 22,
   "metadata": {},
   "outputs": [],
   "source": [
    "# Производим расчёты\n",
    "df = user_meal_df.groupby('Date', as_index=False) \\\n",
    "    .agg({'Minutes': 'sum'})"
   ]
  },
  {
   "cell_type": "code",
   "execution_count": 23,
   "metadata": {},
   "outputs": [
    {
     "data": {
      "text/html": [
       "<div>\n",
       "<style scoped>\n",
       "    .dataframe tbody tr th:only-of-type {\n",
       "        vertical-align: middle;\n",
       "    }\n",
       "\n",
       "    .dataframe tbody tr th {\n",
       "        vertical-align: top;\n",
       "    }\n",
       "\n",
       "    .dataframe thead th {\n",
       "        text-align: right;\n",
       "    }\n",
       "</style>\n",
       "<table border=\"1\" class=\"dataframe\">\n",
       "  <thead>\n",
       "    <tr style=\"text-align: right;\">\n",
       "      <th></th>\n",
       "      <th>Date</th>\n",
       "      <th>Minutes</th>\n",
       "    </tr>\n",
       "  </thead>\n",
       "  <tbody>\n",
       "    <tr>\n",
       "      <th>0</th>\n",
       "      <td>2020-09-01</td>\n",
       "      <td>783</td>\n",
       "    </tr>\n",
       "    <tr>\n",
       "      <th>1</th>\n",
       "      <td>2020-10-01</td>\n",
       "      <td>778</td>\n",
       "    </tr>\n",
       "    <tr>\n",
       "      <th>2</th>\n",
       "      <td>2020-11-01</td>\n",
       "      <td>750</td>\n",
       "    </tr>\n",
       "  </tbody>\n",
       "</table>\n",
       "</div>"
      ],
      "text/plain": [
       "        Date  Minutes\n",
       "0 2020-09-01      783\n",
       "1 2020-10-01      778\n",
       "2 2020-11-01      750"
      ]
     },
     "execution_count": 23,
     "metadata": {},
     "output_type": "execute_result"
    }
   ],
   "source": [
    "df"
   ]
  },
  {
   "cell_type": "code",
   "execution_count": 30,
   "metadata": {},
   "outputs": [],
   "source": [
    "# Сохраняем датафрейм df в CSV\n",
    "df.to_csv('df_minutes.csv', index=False)"
   ]
  },
  {
   "cell_type": "code",
   "execution_count": null,
   "metadata": {},
   "outputs": [],
   "source": []
  }
 ],
 "metadata": {
  "kernelspec": {
   "display_name": "Python 3",
   "language": "python",
   "name": "python3"
  },
  "language_info": {
   "codemirror_mode": {
    "name": "ipython",
    "version": 3
   },
   "file_extension": ".py",
   "mimetype": "text/x-python",
   "name": "python",
   "nbconvert_exporter": "python",
   "pygments_lexer": "ipython3",
   "version": "3.7.3"
  }
 },
 "nbformat": 4,
 "nbformat_minor": 4
}
