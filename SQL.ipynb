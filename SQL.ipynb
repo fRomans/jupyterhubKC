{
 "cells": [
  {
   "cell_type": "code",
   "execution_count": null,
   "metadata": {},
   "outputs": [],
   "source": [
    "SELECT\n",
    "    AVG(TotalPrice),\n",
    "    Country\n",
    "FROM (\n",
    "    SELECT\n",
    "    InvoiceNo,\n",
    "    Country,\n",
    "    sum(UnitPrice * Quantity) as TotalPrice \n",
    "    FROM default.retail\n",
    "    WHERE Quantity >0\n",
    "    GROUP BY Country,InvoiceNo\n",
    ")\n",
    "GROUP BY Country"
   ]
  },
  {
   "cell_type": "code",
   "execution_count": null,
   "metadata": {},
   "outputs": [],
   "source": []
  },
  {
   "cell_type": "code",
   "execution_count": null,
   "metadata": {},
   "outputs": [],
   "source": [
    "select \n",
    "    sku,\n",
    "    dates,\n",
    "    avg(price) as price,\n",
    "    count(1) as qty\n",
    "from transactions\n",
    "group by sku, dates\n",
    "order by dates"
   ]
  },
  {
   "cell_type": "code",
   "execution_count": null,
   "metadata": {},
   "outputs": [],
   "source": []
  },
  {
   "cell_type": "code",
   "execution_count": null,
   "metadata": {},
   "outputs": [],
   "source": [
    "SELECT exp_group, os, COUNT(id) AS total_users, MAX(age) AS max_age, MIN(age) AS min_age\n",
    "FROM \"user\" \n",
    "GROUP BY exp_group, os\n",
    "\n",
    "\n",
    "SELECT text, COUNT(text)\n",
    "FROM post"
   ]
  },
  {
   "cell_type": "code",
   "execution_count": null,
   "metadata": {},
   "outputs": [],
   "source": []
  },
  {
   "cell_type": "code",
   "execution_count": null,
   "metadata": {},
   "outputs": [],
   "source": [
    "SELECT\n",
    "    region,\n",
    "    date,\n",
    "    type,\n",
    "    total_volume,\n",
    "    total_volume - LAG(total_volume,1) OVER w AS week_diff     \n",
    "FROM \n",
    "    avocado\n",
    "WHERE region = 'NewYork' AND year = '2018'\n",
    "WINDOW w AS\n",
    "    (\n",
    "    PARTITION BY type\n",
    "    \n",
    "    )\n",
    "ORDER BY\n",
    "    date ASC"
   ]
  },
  {
   "cell_type": "code",
   "execution_count": null,
   "metadata": {},
   "outputs": [],
   "source": []
  },
  {
   "cell_type": "code",
   "execution_count": null,
   "metadata": {},
   "outputs": [],
   "source": [
    "SELECT\n",
    "    region,\n",
    "    date,\n",
    "    total_volume,\n",
    "    total_volume - LAG(total_volume,1) OVER w AS week_diff     \n",
    "FROM \n",
    "    avocado\n",
    "WHERE region = 'NewYork' AND type = 'conventional'\n",
    "WINDOW w AS\n",
    "    ()\n",
    "ORDER BY\n",
    "    region desc,\n",
    "    date ASC\n"
   ]
  },
  {
   "cell_type": "code",
   "execution_count": null,
   "metadata": {},
   "outputs": [],
   "source": []
  },
  {
   "cell_type": "code",
   "execution_count": null,
   "metadata": {},
   "outputs": [],
   "source": [
    "SELECT\n",
    "    region,\n",
    "    date,\n",
    "    year,\n",
    "    total_volume,\n",
    "    SUM(total_volume) OVER w AS volume\n",
    "FROM \n",
    "    avocado\n",
    "WHERE region IN ('NewYork', 'LosAngeles') AND type = 'organic'\n",
    "WINDOW w AS\n",
    "    (\n",
    "    PARTITION BY region, year\n",
    "    ORDER BY date ASC\n",
    "    ROWS BETWEEN UNBOUNDED PRECEDING AND CURRENT ROW\n",
    "    )\n",
    "ORDER BY\n",
    "    region desc,\n",
    "    date ASC\n"
   ]
  },
  {
   "cell_type": "code",
   "execution_count": null,
   "metadata": {},
   "outputs": [],
   "source": []
  },
  {
   "cell_type": "code",
   "execution_count": null,
   "metadata": {},
   "outputs": [],
   "source": [
    "SELECT\n",
    "    region,\n",
    "    date,\n",
    "    total_volume,\n",
    "    SUM(total_volume) OVER w AS volume\n",
    "FROM \n",
    "    avocado\n",
    "WHERE region IN ('NewYork', 'LosAngeles') AND type = 'organic' AND date = '01/03/15'\n",
    "WINDOW w AS\n",
    "    (\n",
    "    PARTITION BY region\n",
    "    ORDER BY date ASC\n",
    "    ROWS BETWEEN UNBOUNDED PRECEDING AND CURRENT ROW\n",
    "    )\n",
    "ORDER BY\n",
    "    region desc,\n",
    "    date ASC\n"
   ]
  },
  {
   "cell_type": "code",
   "execution_count": null,
   "metadata": {},
   "outputs": [],
   "source": []
  },
  {
   "cell_type": "code",
   "execution_count": null,
   "metadata": {},
   "outputs": [],
   "source": [
    "SELECT\n",
    "    AVG(SUM_Quantity),\n",
    "    Country \n",
    "FROM\n",
    "    (\n",
    "    SELECT\n",
    "        SUM(Quantity) AS SUM_Quantity,\n",
    "        Country,\n",
    "        InvoiceNo   \n",
    "    FROM default.retail\n",
    "    GROUP BY Country,InvoiceNo  \n",
    "    )\n",
    "WHERE Country = 'Canada'\n",
    "GROUP BY Country  "
   ]
  },
  {
   "cell_type": "code",
   "execution_count": null,
   "metadata": {},
   "outputs": [],
   "source": []
  },
  {
   "cell_type": "code",
   "execution_count": null,
   "metadata": {},
   "outputs": [],
   "source": [
    "SELECT\n",
    "    AVG(TotalPrice),\n",
    "    Country,\n",
    "    toStartOfMonth('InvoiceDate') AS month\n",
    "FROM (\n",
    "    SELECT\n",
    "    InvoiceNo,\n",
    "    Country,\n",
    "    sum(UnitPrice * Quantity) as TotalPrice \n",
    "    FROM default.retail\n",
    "    WHERE Quantity >0\n",
    "    GROUP BY Country,InvoiceNo\n",
    ")\n",
    "WHERE Country IN ('United Kingdom', 'Germany', 'France', 'Spain', 'Netherlands', 'Belgium', 'Switzerland', 'Portugal', 'Australia', 'USA')\n",
    "GROUP BY Country"
   ]
  },
  {
   "cell_type": "code",
   "execution_count": null,
   "metadata": {},
   "outputs": [],
   "source": []
  },
  {
   "cell_type": "code",
   "execution_count": null,
   "metadata": {},
   "outputs": [],
   "source": [
    "SELECT\n",
    "    AVG(TotalPrice),\n",
    "    Country\n",
    "FROM (\n",
    "    SELECT\n",
    "    InvoiceNo,\n",
    "    Country,\n",
    "    sum(UnitPrice * Quantity) as TotalPrice \n",
    "    FROM default.retail\n",
    "    WHERE Quantity >0\n",
    "    GROUP BY Country,InvoiceNo\n",
    ")\n",
    "GROUP BY Country"
   ]
  },
  {
   "cell_type": "code",
   "execution_count": null,
   "metadata": {},
   "outputs": [],
   "source": []
  },
  {
   "cell_type": "code",
   "execution_count": null,
   "metadata": {},
   "outputs": [],
   "source": [
    "SELECT \n",
    "Country,\n",
    "toStartOfMonth(InvoiceDate) AS Month,\n",
    "COUNT(DISTINCT CustomerID) as UniqueCustomer \n",
    "FROM default.retail\n",
    "WHERE Country != 'United Kingdom'\n",
    "GROUP BY Country,Month"
   ]
  },
  {
   "cell_type": "code",
   "execution_count": null,
   "metadata": {},
   "outputs": [],
   "source": []
  },
  {
   "cell_type": "code",
   "execution_count": null,
   "metadata": {},
   "outputs": [],
   "source": [
    "SELECT \n",
    "Country,\n",
    "toStartOfMonth(InvoiceDate) AS Month,\n",
    "COUNT(DISTINCT CustomerID) as UniqueCustomer \n",
    "FROM default.retail\n",
    "WHERE Country IN ('United Kingdom', 'Netherlands', 'Australia')\n",
    "GROUP BY Country,Month"
   ]
  },
  {
   "cell_type": "code",
   "execution_count": null,
   "metadata": {},
   "outputs": [],
   "source": []
  },
  {
   "cell_type": "code",
   "execution_count": null,
   "metadata": {},
   "outputs": [],
   "source": [
    "SELECT \n",
    "Country,\n",
    "COUNT(DISTINCT CustomerID) \n",
    "FROM default.retail\n",
    "GROUP BY Country"
   ]
  },
  {
   "cell_type": "code",
   "execution_count": null,
   "metadata": {},
   "outputs": [],
   "source": []
  },
  {
   "cell_type": "code",
   "execution_count": null,
   "metadata": {},
   "outputs": [],
   "source": [
    "CREATE TABLE IF NOT EXISTS test.retail(\n",
    "InvoiceNo String,\n",
    "StockCode String,\n",
    "Description String,\n",
    "Quantity Int32,\n",
    "InvoiceDate DateTime('Europe/London'),\n",
    "UnitPrice Decimal64(3),\n",
    "CustomerID UInt32,\n",
    "Country String\n",
    ")\n",
    "ENGINE = MergeTree\n",
    "ORDER BY(InvoiceDate, CustomerID)"
   ]
  }
 ],
 "metadata": {
  "kernelspec": {
   "display_name": "Python 3",
   "language": "python",
   "name": "python3"
  },
  "language_info": {
   "codemirror_mode": {
    "name": "ipython",
    "version": 3
   },
   "file_extension": ".py",
   "mimetype": "text/x-python",
   "name": "python",
   "nbconvert_exporter": "python",
   "pygments_lexer": "ipython3",
   "version": "3.7.3"
  }
 },
 "nbformat": 4,
 "nbformat_minor": 4
}
