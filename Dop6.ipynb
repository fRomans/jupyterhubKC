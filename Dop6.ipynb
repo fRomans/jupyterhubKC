{
 "cells": [
  {
   "cell_type": "code",
   "execution_count": null,
   "metadata": {},
   "outputs": [],
   "source": [
    "import pandas as pd"
   ]
  },
  {
   "cell_type": "code",
   "execution_count": null,
   "metadata": {},
   "outputs": [],
   "source": [
    "df = pd.read_csv('/mnt/HC_Volume_18315164/home-jupyter/jupyter-rom-fadeev/shared/homeworks/python_ds_miniprojects/6_gff/gff.tsv', sep=\"\\t\")"
   ]
  },
  {
   "cell_type": "code",
   "execution_count": null,
   "metadata": {},
   "outputs": [],
   "source": [
    "df_parent = df.attributes\n",
    "df_parent\n",
    "# берем нужный чтолбец"
   ]
  },
  {
   "cell_type": "code",
   "execution_count": null,
   "metadata": {},
   "outputs": [],
   "source": [
    "list_parent = df_parent.tolist()\n",
    "lst = []\n",
    "for par in df_parent:\n",
    "\n",
    "    lst.append(par)\n",
    "print(lst)  \n",
    "# перевод df в list"
   ]
  },
  {
   "cell_type": "code",
   "execution_count": null,
   "metadata": {},
   "outputs": [],
   "source": [
    "u_lst = []\n",
    "for i in lst:\n",
    "    u_lst.append(i.split(';'))\n",
    "print(u_lst) \n",
    "\n",
    "# делим по ;"
   ]
  },
  {
   "cell_type": "code",
   "execution_count": null,
   "metadata": {},
   "outputs": [],
   "source": [
    "kkk = [a for b in u_lst for a in b]\n",
    "# переводим многомерный массив в одномерный\n",
    "kkk"
   ]
  },
  {
   "cell_type": "code",
   "execution_count": null,
   "metadata": {},
   "outputs": [],
   "source": [
    "ppp = []\n",
    "for k in kkk:\n",
    "    if 'Parent=' in k:\n",
    "        ppp.append(k)\n",
    "print(len(ppp) )\n",
    "# ищем где есть 'Parent=' и добавляем в массив"
   ]
  },
  {
   "cell_type": "code",
   "execution_count": null,
   "metadata": {},
   "outputs": [],
   "source": [
    "znach = []\n",
    "for p in ppp:\n",
    "    sty = p.split('=')\n",
    "    ddddd = sty[1]\n",
    "    znach.append(ddddd.replace(',',\"\"))\n",
    "print(znach)\n",
    "# делим по = и берем второе знач(после равно). Чуть причипуриваем"
   ]
  },
  {
   "cell_type": "code",
   "execution_count": null,
   "metadata": {},
   "outputs": [],
   "source": [
    "df_end = pd.DataFrame(znach)\n",
    "df_end['ddd'] = pd.DataFrame(znach)\n",
    "df_end\n",
    "# перевод list в df"
   ]
  },
  {
   "cell_type": "code",
   "execution_count": null,
   "metadata": {},
   "outputs": [],
   "source": [
    "df_end.groupby('ddd')\\\n",
    "    .agg({'ddd' : 'count'})\n",
    "# группируем и считаем- все!"
   ]
  },
  {
   "cell_type": "code",
   "execution_count": null,
   "metadata": {},
   "outputs": [],
   "source": []
  },
  {
   "cell_type": "code",
   "execution_count": null,
   "metadata": {},
   "outputs": [],
   "source": []
  },
  {
   "cell_type": "code",
   "execution_count": null,
   "metadata": {},
   "outputs": [],
   "source": [
    "df"
   ]
  },
  {
   "cell_type": "code",
   "execution_count": null,
   "metadata": {},
   "outputs": [],
   "source": [
    "df_ty = df.type\n",
    "df_ty\n",
    "# берем нужный чтолбец"
   ]
  },
  {
   "cell_type": "code",
   "execution_count": null,
   "metadata": {},
   "outputs": [],
   "source": [
    "lst_ty = []\n",
    "for ty in df_ty:\n",
    "\n",
    "    lst_ty.append(ty)\n",
    "print(lst_ty)  \n",
    "# перевод df в list"
   ]
  },
  {
   "cell_type": "code",
   "execution_count": null,
   "metadata": {},
   "outputs": [],
   "source": [
    "df_end_ty = pd.DataFrame(lst_ty)\n",
    "df_end_ty['ty'] = pd.DataFrame(lst_ty)\n",
    "df_end_ty\n",
    "# перевод list в df"
   ]
  },
  {
   "cell_type": "code",
   "execution_count": null,
   "metadata": {},
   "outputs": [],
   "source": [
    "df_end_ty.groupby('ty')\\\n",
    "    .agg({'ty' : 'count'})\n",
    "# группируем и считаем- все!"
   ]
  },
  {
   "cell_type": "code",
   "execution_count": null,
   "metadata": {},
   "outputs": [],
   "source": []
  },
  {
   "cell_type": "code",
   "execution_count": null,
   "metadata": {},
   "outputs": [],
   "source": []
  },
  {
   "cell_type": "code",
   "execution_count": null,
   "metadata": {},
   "outputs": [],
   "source": []
  }
 ],
 "metadata": {
  "kernelspec": {
   "display_name": "Python 3",
   "language": "python",
   "name": "python3"
  },
  "language_info": {
   "codemirror_mode": {
    "name": "ipython",
    "version": 3
   },
   "file_extension": ".py",
   "mimetype": "text/x-python",
   "name": "python",
   "nbconvert_exporter": "python",
   "pygments_lexer": "ipython3",
   "version": "3.7.3"
  }
 },
 "nbformat": 4,
 "nbformat_minor": 4
}
