{
 "cells": [
  {
   "cell_type": "markdown",
   "metadata": {},
   "source": [
    "# Занятие 1: Типы и структуры данных в Python"
   ]
  },
  {
   "cell_type": "markdown",
   "metadata": {},
   "source": [
    "**Утиная типизация** - если это выглядит как утка, плавает как утка и крякает как утка, то это, вероятно, и есть утка."
   ]
  },
  {
   "cell_type": "markdown",
   "metadata": {},
   "source": [
    "Присвоение значения при помощи `=`"
   ]
  },
  {
   "cell_type": "code",
   "execution_count": 1,
   "metadata": {},
   "outputs": [],
   "source": [
    "# так хорошо\n",
    "snake_case_variable = 10000\n",
    "\n",
    "# так лучше не надо\n",
    "camelCase = -10"
   ]
  },
  {
   "cell_type": "markdown",
   "metadata": {},
   "source": [
    "## PEP8: https://pythonworld.ru/osnovy/pep-8-rukovodstvo-po-napisaniyu-koda-na-python.html"
   ]
  },
  {
   "cell_type": "code",
   "execution_count": 2,
   "metadata": {},
   "outputs": [
    {
     "ename": "SyntaxError",
     "evalue": "invalid syntax (<ipython-input-2-e01232b9e138>, line 1)",
     "output_type": "error",
     "traceback": [
      "\u001b[0;36m  File \u001b[0;32m\"<ipython-input-2-e01232b9e138>\"\u001b[0;36m, line \u001b[0;32m1\u001b[0m\n\u001b[0;31m    1st_variable = 'some text'\u001b[0m\n\u001b[0m               ^\u001b[0m\n\u001b[0;31mSyntaxError\u001b[0m\u001b[0;31m:\u001b[0m invalid syntax\n"
     ]
    }
   ],
   "source": [
    "1st_variable = 'some text'"
   ]
  },
  {
   "cell_type": "markdown",
   "metadata": {},
   "source": [
    "## Ошибки при работе с переменными"
   ]
  },
  {
   "cell_type": "code",
   "execution_count": 3,
   "metadata": {},
   "outputs": [
    {
     "ename": "NameError",
     "evalue": "name '_snake_case_variable' is not defined",
     "output_type": "error",
     "traceback": [
      "\u001b[0;31m---------------------------------------------------------------------------\u001b[0m",
      "\u001b[0;31mNameError\u001b[0m                                 Traceback (most recent call last)",
      "\u001b[0;32m<ipython-input-3-558a19c57801>\u001b[0m in \u001b[0;36m<module>\u001b[0;34m\u001b[0m\n\u001b[1;32m      1\u001b[0m \u001b[0;31m# обращение к несуществующей переменной\u001b[0m\u001b[0;34m\u001b[0m\u001b[0;34m\u001b[0m\u001b[0;34m\u001b[0m\u001b[0m\n\u001b[0;32m----> 2\u001b[0;31m \u001b[0m_snake_case_variable\u001b[0m\u001b[0;34m\u001b[0m\u001b[0;34m\u001b[0m\u001b[0m\n\u001b[0m",
      "\u001b[0;31mNameError\u001b[0m: name '_snake_case_variable' is not defined"
     ]
    }
   ],
   "source": [
    "# обращение к несуществующей переменной\n",
    "_snake_case_variable"
   ]
  },
  {
   "cell_type": "markdown",
   "metadata": {},
   "source": [
    "## Плохая практика"
   ]
  },
  {
   "cell_type": "code",
   "execution_count": 4,
   "metadata": {},
   "outputs": [
    {
     "name": "stdout",
     "output_type": "stream",
     "text": [
      "10\n"
     ]
    }
   ],
   "source": [
    "# русская \"а\"\n",
    "а = 10\n",
    "print(а)"
   ]
  },
  {
   "cell_type": "code",
   "execution_count": 5,
   "metadata": {
    "scrolled": true
   },
   "outputs": [
    {
     "ename": "NameError",
     "evalue": "name 'a' is not defined",
     "output_type": "error",
     "traceback": [
      "\u001b[0;31m---------------------------------------------------------------------------\u001b[0m",
      "\u001b[0;31mNameError\u001b[0m                                 Traceback (most recent call last)",
      "\u001b[0;32m<ipython-input-5-c844c2eb0517>\u001b[0m in \u001b[0;36m<module>\u001b[0;34m\u001b[0m\n\u001b[1;32m      1\u001b[0m \u001b[0;31m# латинская \"a\"\u001b[0m\u001b[0;34m\u001b[0m\u001b[0;34m\u001b[0m\u001b[0;34m\u001b[0m\u001b[0m\n\u001b[0;32m----> 2\u001b[0;31m \u001b[0ma\u001b[0m\u001b[0;34m\u001b[0m\u001b[0;34m\u001b[0m\u001b[0m\n\u001b[0m",
      "\u001b[0;31mNameError\u001b[0m: name 'a' is not defined"
     ]
    }
   ],
   "source": [
    "# латинская \"a\"\n",
    "a"
   ]
  },
  {
   "cell_type": "markdown",
   "metadata": {},
   "source": [
    " "
   ]
  },
  {
   "cell_type": "markdown",
   "metadata": {},
   "source": [
    "Как узнать тип переменной?  \n",
    "Функция `type(<var>)`, `<var>` - название переменной."
   ]
  },
  {
   "cell_type": "markdown",
   "metadata": {},
   "source": [
    "В Python есть следующие встроенные типы данных:\n",
    "1. `int` - целые числа\n",
    "2. `float` - числа с плавающей точкой\n",
    "3. `bool` - логический тип\n",
    "4. `str` - строки\n",
    "5. `list` - списки\n",
    "6. `tuple` - кортежи\n",
    "7. `set` - множества \n",
    "8. `frozenset` - неизменяемые множества\n",
    "8. `dict` - словари\n",
    "9. `range` - диапазоны\n",
    "10. `NoneType` - тип `None`"
   ]
  },
  {
   "cell_type": "markdown",
   "metadata": {},
   "source": [
    "## `int`\n",
    "Представляет собой целое число. С ним можно проводить любые арифметические операции.\n",
    "\n",
    "*Примеры:* \n",
    "* количество слов в словаре\n",
    "* количество людей в комнате"
   ]
  },
  {
   "cell_type": "code",
   "execution_count": 6,
   "metadata": {},
   "outputs": [],
   "source": [
    "openspace = 10\n",
    "cabinet = 3"
   ]
  },
  {
   "cell_type": "code",
   "execution_count": 7,
   "metadata": {},
   "outputs": [
    {
     "name": "stdout",
     "output_type": "stream",
     "text": [
      "Тип переменной a <class 'int'>\n"
     ]
    }
   ],
   "source": [
    "print(f'Тип переменной a {type(openspace)}')"
   ]
  },
  {
   "cell_type": "code",
   "execution_count": 8,
   "metadata": {},
   "outputs": [
    {
     "name": "stdout",
     "output_type": "stream",
     "text": [
      "Сложение: 13\n",
      "Вычитание: 7\n"
     ]
    }
   ],
   "source": [
    "print(f\"Сложение: {openspace + cabinet}\")\n",
    "print(f\"Вычитание: {openspace - cabinet}\")"
   ]
  },
  {
   "cell_type": "code",
   "execution_count": 9,
   "metadata": {},
   "outputs": [
    {
     "name": "stdout",
     "output_type": "stream",
     "text": [
      "Умножение: 30\n",
      "Возведение в степень: 27\n"
     ]
    }
   ],
   "source": [
    "print(f\"Умножение: {openspace * cabinet}\")\n",
    "print(f\"Возведение в степень: {cabinet ** 3}\")"
   ]
  },
  {
   "cell_type": "code",
   "execution_count": 10,
   "metadata": {},
   "outputs": [
    {
     "name": "stdout",
     "output_type": "stream",
     "text": [
      "Сравнение чисел: True, результат - bool\n"
     ]
    }
   ],
   "source": [
    "# >, < - больше, меньше\n",
    "# >=, <= - больше или равно, меньше или равно\n",
    "# == - равно, не путать с присваиванием\n",
    "# != - не равно\n",
    "print(f\"Сравнение чисел: {openspace > cabinet}, результат - bool\") "
   ]
  },
  {
   "cell_type": "markdown",
   "metadata": {},
   "source": [
    "**Частая ошибка**: путаница с `==` и `=`  \n",
    "* `==` - сравнение равенства\n",
    "* `=` - присвоение значение"
   ]
  },
  {
   "cell_type": "code",
   "execution_count": 11,
   "metadata": {
    "scrolled": true
   },
   "outputs": [
    {
     "name": "stdout",
     "output_type": "stream",
     "text": [
      "False\n",
      "10\n"
     ]
    }
   ],
   "source": [
    "print(openspace == 5)\n",
    "print(openspace)"
   ]
  },
  {
   "cell_type": "code",
   "execution_count": 12,
   "metadata": {
    "scrolled": true
   },
   "outputs": [
    {
     "name": "stdout",
     "output_type": "stream",
     "text": [
      "5\n"
     ]
    }
   ],
   "source": [
    "openspace = 5\n",
    "print(openspace)"
   ]
  },
  {
   "cell_type": "code",
   "execution_count": 13,
   "metadata": {},
   "outputs": [
    {
     "name": "stdout",
     "output_type": "stream",
     "text": [
      "Целая часть от деления: 1\n",
      "Остаток от деления: 2\n"
     ]
    }
   ],
   "source": [
    "print(f\"Целая часть от деления: {openspace // cabinet}\")\n",
    "print(f\"Остаток от деления: {openspace % cabinet}\")"
   ]
  },
  {
   "cell_type": "code",
   "execution_count": 14,
   "metadata": {
    "scrolled": true
   },
   "outputs": [
    {
     "name": "stdout",
     "output_type": "stream",
     "text": [
      "Деление: 1.6666666666666667, результат - float\n"
     ]
    }
   ],
   "source": [
    "print(f\"Деление: {openspace / cabinet}, результат - float\")"
   ]
  },
  {
   "cell_type": "markdown",
   "metadata": {},
   "source": [
    " "
   ]
  },
  {
   "cell_type": "markdown",
   "metadata": {},
   "source": [
    "## `float`\n",
    "\n",
    "Числа с плавающей точкой. Работать с ними можно аналогично целым.\n",
    "\n",
    "*Примеры:*\n",
    "* стоимость товара в магазине (копейки как сотые рубля)"
   ]
  },
  {
   "cell_type": "code",
   "execution_count": 15,
   "metadata": {},
   "outputs": [],
   "source": [
    "good1 = 149.\n",
    "good2 = 109.99"
   ]
  },
  {
   "cell_type": "code",
   "execution_count": 16,
   "metadata": {},
   "outputs": [
    {
     "data": {
      "text/plain": [
       "149.0"
      ]
     },
     "execution_count": 16,
     "metadata": {},
     "output_type": "execute_result"
    }
   ],
   "source": [
    "good1"
   ]
  },
  {
   "cell_type": "code",
   "execution_count": 17,
   "metadata": {},
   "outputs": [
    {
     "name": "stdout",
     "output_type": "stream",
     "text": [
      "Тип переменной good1 <class 'float'>\n"
     ]
    }
   ],
   "source": [
    "print(f'Тип переменной good1 {type(good1)}')"
   ]
  },
  {
   "cell_type": "code",
   "execution_count": 18,
   "metadata": {},
   "outputs": [
    {
     "name": "stdout",
     "output_type": "stream",
     "text": [
      "Сложение: 258.99\n",
      "Вычитание: 39.010000000000005\n"
     ]
    }
   ],
   "source": [
    "print(f\"Сложение: {good1 + good2}\")\n",
    "print(f\"Вычитание: {good1 - good2}\")"
   ]
  },
  {
   "cell_type": "code",
   "execution_count": 19,
   "metadata": {},
   "outputs": [
    {
     "name": "stdout",
     "output_type": "stream",
     "text": [
      "Сложение с int: 159.0\n"
     ]
    }
   ],
   "source": [
    "print(f\"Сложение с int: {good1 + 10}\")"
   ]
  },
  {
   "cell_type": "code",
   "execution_count": 20,
   "metadata": {},
   "outputs": [
    {
     "name": "stdout",
     "output_type": "stream",
     "text": [
      "Умножение: 16388.51\n",
      "Возведение в степень: 22201.0\n"
     ]
    }
   ],
   "source": [
    "print(f\"Умножение: {good1 * good2}\")\n",
    "print(f\"Возведение в степень: {good1 ** 2}\")"
   ]
  },
  {
   "cell_type": "code",
   "execution_count": 21,
   "metadata": {},
   "outputs": [
    {
     "name": "stdout",
     "output_type": "stream",
     "text": [
      "Деление: 1.3546686062369306\n",
      "Целочисленное деление: 1.0\n",
      "Остаток от деления: 39.010000000000005\n"
     ]
    }
   ],
   "source": [
    "print(f\"Деление: {good1 / good2}\")\n",
    "print(f\"Целочисленное деление: {good1 // good2}\")\n",
    "print(f\"Остаток от деления: {good1 % good2}\")"
   ]
  },
  {
   "cell_type": "code",
   "execution_count": 22,
   "metadata": {},
   "outputs": [
    {
     "name": "stdout",
     "output_type": "stream",
     "text": [
      "Сравнение чисел: True, результат - bool\n"
     ]
    }
   ],
   "source": [
    "print(f\"Сравнение чисел: {good1 > good2}, результат - bool\") "
   ]
  },
  {
   "cell_type": "markdown",
   "metadata": {},
   "source": [
    " "
   ]
  },
  {
   "cell_type": "markdown",
   "metadata": {},
   "source": [
    "## `bool`\n",
    "\n",
    "Используются в условных конструкциях (будут рассмотрены в следующем занятии).  \n",
    "Переменные данного типа принимают только 2 значения: \n",
    "* `True` - когда некоторое выражение истинно\n",
    "* `False` - когда выражение ложно  \n",
    "\n",
    "Логические операторы:\n",
    "* `not` - НЕ\n",
    "* `or` - ИЛИ\n",
    "* `and` - И\n",
    "  \n",
    "Примеры:\n",
    "* болел ли человек гриппом\n",
    "* рассылка на сайте"
   ]
  },
  {
   "cell_type": "code",
   "execution_count": 23,
   "metadata": {},
   "outputs": [],
   "source": [
    "ill = True\n",
    "not_ill = False"
   ]
  },
  {
   "cell_type": "code",
   "execution_count": 24,
   "metadata": {},
   "outputs": [
    {
     "name": "stdout",
     "output_type": "stream",
     "text": [
      "Сравнение значений True == False: False\n"
     ]
    }
   ],
   "source": [
    "print(f'Сравнение значений {ill} == {not_ill}: {ill == not_ill}')"
   ]
  },
  {
   "cell_type": "markdown",
   "metadata": {},
   "source": [
    "## [Таблицы истинности](https://ru.wikipedia.org/wiki/%D0%A2%D0%B0%D0%B1%D0%BB%D0%B8%D1%86%D0%B0_%D0%B8%D1%81%D1%82%D0%B8%D0%BD%D0%BD%D0%BE%D1%81%D1%82%D0%B8)"
   ]
  },
  {
   "cell_type": "code",
   "execution_count": 25,
   "metadata": {},
   "outputs": [
    {
     "name": "stdout",
     "output_type": "stream",
     "text": [
      "Сложение (логическое ИЛИ) логических типов: True\n",
      "Умножение (логическое И) логических типов: False\n",
      "Отрицание (логическое НЕ) логических типов: False\n"
     ]
    }
   ],
   "source": [
    "print(f'Сложение (логическое ИЛИ) логических типов: {ill or not_ill}')\n",
    "print(f'Умножение (логическое И) логических типов: {ill and not_ill}')\n",
    "print(f'Отрицание (логическое НЕ) логических типов: {not ill}')"
   ]
  },
  {
   "cell_type": "markdown",
   "metadata": {},
   "source": [
    " "
   ]
  },
  {
   "cell_type": "markdown",
   "metadata": {},
   "source": [
    "# Индексация в `Python` с `0`!"
   ]
  },
  {
   "cell_type": "markdown",
   "metadata": {},
   "source": [
    "## `list`\n",
    "\n",
    "Один из встроенных типов данных, который используется для хранения нескольких значений в одной переменной.  \n",
    "Свойства:\n",
    "* Упорядоченные изменяемые коллекции объектов\n",
    "* Могут хранить разные типы данных одновременно"
   ]
  },
  {
   "cell_type": "markdown",
   "metadata": {},
   "source": [
    "Создание списка:\n",
    "* При помощи `[ ]`: `l = ['s', 'p', ['isok'], 2]`\n",
    "* Из итерируемого объекта: `list(<последовательность>)`\n",
    "\n",
    "Это изучим позже:\n",
    "* При помощи *генератора* списка"
   ]
  },
  {
   "cell_type": "markdown",
   "metadata": {},
   "source": [
    "Пример использования:\n",
    "* набор оценок студентов\n",
    "* слова предложения"
   ]
  },
  {
   "cell_type": "code",
   "execution_count": 26,
   "metadata": {},
   "outputs": [],
   "source": [
    "colors = ['red', 'green', 'blue', 'yellow', 'white', 'black']"
   ]
  },
  {
   "cell_type": "markdown",
   "metadata": {},
   "source": [
    "Обозначим `<list>` - конкретный объект типа `list` "
   ]
  },
  {
   "cell_type": "markdown",
   "metadata": {},
   "source": [
    "`len(<list>)` - позволяет узнать длину списка"
   ]
  },
  {
   "cell_type": "code",
   "execution_count": 27,
   "metadata": {},
   "outputs": [
    {
     "name": "stdout",
     "output_type": "stream",
     "text": [
      "Длина списка: 6\n"
     ]
    }
   ],
   "source": [
    "print(f\"Длина списка: {len(colors)}\")"
   ]
  },
  {
   "cell_type": "markdown",
   "metadata": {},
   "source": [
    " Списки поддерживают **индексацию**:  \n",
    "\n",
    "`<list>[index]` - получим элемент списка на позиции `index`"
   ]
  },
  {
   "cell_type": "markdown",
   "metadata": {},
   "source": [
    "![title](images/posit_index.png)"
   ]
  },
  {
   "cell_type": "code",
   "execution_count": 28,
   "metadata": {},
   "outputs": [
    {
     "name": "stdout",
     "output_type": "stream",
     "text": [
      "Доступ к элементу, равному green, по индексу 1\n"
     ]
    }
   ],
   "source": [
    "index = 1\n",
    "print(f\"Доступ к элементу, равному {colors[index]}, по индексу {index}\")"
   ]
  },
  {
   "cell_type": "markdown",
   "metadata": {},
   "source": [
    " "
   ]
  },
  {
   "cell_type": "markdown",
   "metadata": {},
   "source": [
    "![title](images/hegativ_index.png)"
   ]
  },
  {
   "cell_type": "code",
   "execution_count": 29,
   "metadata": {},
   "outputs": [
    {
     "name": "stdout",
     "output_type": "stream",
     "text": [
      "Доступ к элементу, равному black, по индексу -1\n"
     ]
    }
   ],
   "source": [
    "index = -1\n",
    "print(f\"Доступ к элементу, равному {colors[index]}, по индексу {index}\")"
   ]
  },
  {
   "cell_type": "code",
   "execution_count": 30,
   "metadata": {},
   "outputs": [
    {
     "ename": "IndexError",
     "evalue": "list index out of range",
     "output_type": "error",
     "traceback": [
      "\u001b[0;31m---------------------------------------------------------------------------\u001b[0m",
      "\u001b[0;31mIndexError\u001b[0m                                Traceback (most recent call last)",
      "\u001b[0;32m<ipython-input-30-7a43aca826be>\u001b[0m in \u001b[0;36m<module>\u001b[0;34m\u001b[0m\n\u001b[1;32m      1\u001b[0m \u001b[0;31m# выход за границы - ошибка\u001b[0m\u001b[0;34m\u001b[0m\u001b[0;34m\u001b[0m\u001b[0;34m\u001b[0m\u001b[0m\n\u001b[1;32m      2\u001b[0m \u001b[0mindex\u001b[0m \u001b[0;34m=\u001b[0m \u001b[0;36m10\u001b[0m\u001b[0;34m\u001b[0m\u001b[0;34m\u001b[0m\u001b[0m\n\u001b[0;32m----> 3\u001b[0;31m \u001b[0mcolors\u001b[0m\u001b[0;34m[\u001b[0m\u001b[0mindex\u001b[0m\u001b[0;34m]\u001b[0m\u001b[0;34m\u001b[0m\u001b[0;34m\u001b[0m\u001b[0m\n\u001b[0m",
      "\u001b[0;31mIndexError\u001b[0m: list index out of range"
     ]
    }
   ],
   "source": [
    "# выход за границы - ошибка\n",
    "index = 10\n",
    "colors[index]"
   ]
  },
  {
   "cell_type": "code",
   "execution_count": 31,
   "metadata": {},
   "outputs": [
    {
     "name": "stdout",
     "output_type": "stream",
     "text": [
      "Исходный список [10, 20, 30, 40, 50, 60, 70, 80, 90]\n"
     ]
    }
   ],
   "source": [
    "age_list = [10, 20, 30, 40, 50, 60, 70, 80, 90]\n",
    "print(f\"Исходный список {age_list}\")"
   ]
  },
  {
   "cell_type": "markdown",
   "metadata": {},
   "source": [
    "и **слайсы**:   \n",
    "\n",
    "`<list>[start:stop:step]` - вырежем кусочек списка, начиная со `start`, заканчивая `stop - 1`, используя шаг `step`\n",
    "1. `start` - начальный индекс. При отстуствии используется 0\n",
    "2. `stop` - конечный индекс. При отсутствии будет `длина`. Важно отметить, что элемент с данным индексом **не будет использован**\n",
    "3. `step` - шаг. При отсутствии равен 1"
   ]
  },
  {
   "cell_type": "markdown",
   "metadata": {},
   "source": [
    "![title](images/slice.png)"
   ]
  },
  {
   "cell_type": "code",
   "execution_count": 32,
   "metadata": {},
   "outputs": [
    {
     "name": "stdout",
     "output_type": "stream",
     "text": [
      "Слайс от начала списка до 2го элемнета [30, 40, 50, 60, 70]\n"
     ]
    }
   ],
   "source": [
    "print(f\"Слайс от начала списка до 2го элемнета {age_list[2:7:1]}\")"
   ]
  },
  {
   "cell_type": "markdown",
   "metadata": {},
   "source": [
    " "
   ]
  },
  {
   "cell_type": "markdown",
   "metadata": {},
   "source": [
    "а также следующие методы (*что такое методы и чем они отличаются от функций изучим в следующих лекциях*):  \n",
    "\n",
    "1. `<list>.append(<объект>)` - добавляет в конец списка последовательность"
   ]
  },
  {
   "cell_type": "code",
   "execution_count": 33,
   "metadata": {},
   "outputs": [
    {
     "name": "stdout",
     "output_type": "stream",
     "text": [
      "Добавление элемента в конец списка: [10, 20, 30, 40, 50, 60, 70, 80, 90, 1]\n"
     ]
    }
   ],
   "source": [
    "age_list.append(1)\n",
    "print(f\"Добавление элемента в конец списка: {age_list}\")"
   ]
  },
  {
   "cell_type": "code",
   "execution_count": 34,
   "metadata": {},
   "outputs": [
    {
     "name": "stdout",
     "output_type": "stream",
     "text": [
      "Добавление списка в конец другого списка: ['a', 'b', ['a_plus', 'c']]\n"
     ]
    }
   ],
   "source": [
    "building_class = ['a', 'b']\n",
    "additional_building_class = ['a_plus', 'c']\n",
    "\n",
    "building_class.append(additional_building_class)\n",
    "print(f\"Добавление списка в конец другого списка: {building_class}\")"
   ]
  },
  {
   "cell_type": "markdown",
   "metadata": {},
   "source": [
    "  \n",
    "2. `<list>.extend(<последовательность>)` - добавляет в конец списка элементы из последовательности"
   ]
  },
  {
   "cell_type": "code",
   "execution_count": 35,
   "metadata": {},
   "outputs": [
    {
     "name": "stdout",
     "output_type": "stream",
     "text": [
      "Добавление элементов другого списка в конец: [10, 20, 30, 40, 50, 60, 70, 80, 90, 1, 6, 7, 'a']\n"
     ]
    }
   ],
   "source": [
    "age_list.extend([6, 7, 'a'])\n",
    "print(f\"Добавление элементов другого списка в конец: {age_list}\")"
   ]
  },
  {
   "cell_type": "markdown",
   "metadata": {},
   "source": [
    "3. `<list>.insert(index, element)` - добавляет элемент `element` на позицию `index`"
   ]
  },
  {
   "cell_type": "code",
   "execution_count": 36,
   "metadata": {
    "scrolled": true
   },
   "outputs": [
    {
     "name": "stdout",
     "output_type": "stream",
     "text": [
      "Вставка элемента на указанную позицию [2, 10, 20, 30, 40, 50, 60, 70, 80, 90, 1, 6, 7, 'a']\n"
     ]
    }
   ],
   "source": [
    "age_list.insert(0, 2)\n",
    "print(f\"Вставка элемента на указанную позицию {age_list}\")"
   ]
  },
  {
   "cell_type": "markdown",
   "metadata": {},
   "source": [
    "4. `<list>.pop(index)` - удаляет элемент с индексом `index` и возвращает его пользователю"
   ]
  },
  {
   "cell_type": "code",
   "execution_count": 37,
   "metadata": {},
   "outputs": [
    {
     "name": "stdout",
     "output_type": "stream",
     "text": [
      "Удаление элемента с заданным индексом: [2, 10, 20, 30, 50, 60, 70, 80, 90, 1, 6, 7, 'a'], popped = 40\n"
     ]
    }
   ],
   "source": [
    "popped = age_list.pop(4)\n",
    "print(f\"Удаление элемента с заданным индексом: {age_list}, popped = {popped}\")"
   ]
  },
  {
   "cell_type": "markdown",
   "metadata": {},
   "source": [
    "5. `<list>.remove(element)` - удаляет заданный элемент `element`. Если таких элементов несколько, то удалит **только первый**"
   ]
  },
  {
   "cell_type": "code",
   "execution_count": 38,
   "metadata": {},
   "outputs": [
    {
     "name": "stdout",
     "output_type": "stream",
     "text": [
      "Удаление элемента с заданным значением: [2, 10, 20, 30, 50, 60, 70, 80, 90, 1, 6, 7]\n"
     ]
    }
   ],
   "source": [
    "age_list.remove('a')\n",
    "print(f\"Удаление элемента с заданным значением: {age_list}\")"
   ]
  },
  {
   "cell_type": "markdown",
   "metadata": {},
   "source": [
    "Работает только если в списке **сравнимые типы данных** (например, можно сравнить `int, float, bool`, но `str` и `int` - нельзя)  \n",
    "6. `max(<list>)` - возвращает максимальный элемент в списке\n",
    "7. `min(<list>)` - возвращает минимальных элемент в списке"
   ]
  },
  {
   "cell_type": "code",
   "execution_count": 39,
   "metadata": {},
   "outputs": [
    {
     "name": "stdout",
     "output_type": "stream",
     "text": [
      "Максимальный элемент: 90\n",
      "Минимальный элемент: 1\n"
     ]
    }
   ],
   "source": [
    "print(f\"Максимальный элемент: {max(age_list)}\")\n",
    "print(f\"Минимальный элемент: {min(age_list)}\")"
   ]
  },
  {
   "cell_type": "markdown",
   "metadata": {},
   "source": [
    "8. `element in <list>` - проверка вхождения в список"
   ]
  },
  {
   "cell_type": "code",
   "execution_count": 40,
   "metadata": {},
   "outputs": [
    {
     "name": "stdout",
     "output_type": "stream",
     "text": [
      "11 in [2, 10, 20, 30, 50, 60, 70, 80, 90, 1, 6, 7]: False\n"
     ]
    }
   ],
   "source": [
    "element = 11\n",
    "print(f'{element} in {age_list}: {element in age_list}')"
   ]
  },
  {
   "cell_type": "markdown",
   "metadata": {},
   "source": [
    "С другими методами и функциями для работы со списками можно ознакомиться: https://www.w3schools.com/python/python_lists_methods.asp"
   ]
  },
  {
   "cell_type": "markdown",
   "metadata": {},
   "source": [
    "## `tuple`\n",
    "\n",
    "Кортеж / тапл / тьюпл очень напоминает списки, с той разницей, что в тапл нельзя добавить элемент или удалить его после создания объекта (**неизменяемый тип данных**). Но к элементам можно обращаться по индексу."
   ]
  },
  {
   "cell_type": "markdown",
   "metadata": {},
   "source": [
    "Зачем нужен кортеж?\n",
    "* более быстрый аналог списка\n",
    "* защищает хранимые данные от непреднамеренных изменений\n",
    "* можно использовать как ключ в словаре"
   ]
  },
  {
   "cell_type": "markdown",
   "metadata": {},
   "source": [
    "Создание:\n",
    "* При помощи `()`: `t = ('t', 'u', ['ple'], 2)`\n",
    "* Из итерируемого объекта: `tuple(iterable_object)`"
   ]
  },
  {
   "cell_type": "code",
   "execution_count": 41,
   "metadata": {},
   "outputs": [
    {
     "name": "stdout",
     "output_type": "stream",
     "text": [
      "Исходный тапл (36.6, 39.0, 37.1, 36.8)\n"
     ]
    }
   ],
   "source": [
    "server_response = (36.6, 39.0, 37.1, 36.8)\n",
    "print(f\"Исходный тапл {server_response}\")"
   ]
  },
  {
   "cell_type": "code",
   "execution_count": 42,
   "metadata": {},
   "outputs": [
    {
     "name": "stdout",
     "output_type": "stream",
     "text": [
      "Доступ к элементу по индексу 39.0\n",
      "Слайс от начала тапла до 2го элемнета (36.6, 39.0)\n"
     ]
    }
   ],
   "source": [
    "print(f\"Доступ к элементу по индексу {server_response[1]}\")\n",
    "print(f\"Слайс от начала тапла до 2го элемнета {server_response[:2]}\")"
   ]
  },
  {
   "cell_type": "code",
   "execution_count": 43,
   "metadata": {
    "scrolled": true
   },
   "outputs": [
    {
     "name": "stdout",
     "output_type": "stream",
     "text": [
      "Длина тапла: 4\n",
      "Максимальный элемент: 39.0\n",
      "Минимальный элемент: 36.6\n"
     ]
    }
   ],
   "source": [
    "print(f\"Длина тапла: {len(server_response)}\")\n",
    "print(f\"Максимальный элемент: {max(server_response)}\")\n",
    "print(f\"Минимальный элемент: {min(server_response)}\")"
   ]
  },
  {
   "cell_type": "markdown",
   "metadata": {},
   "source": [
    "`<tuple>.count(element)` - возвращает кол-во элементов, равных `element`  \n",
    "`<tuple>.index(element)` - возвращает индекс первого вхождения `element` в `<tuple>`"
   ]
  },
  {
   "cell_type": "code",
   "execution_count": 44,
   "metadata": {},
   "outputs": [
    {
     "name": "stdout",
     "output_type": "stream",
     "text": [
      "Кол-во элементов, равных заданному: 0\n",
      "Индекс первого вхождения переданного элемента: 0\n"
     ]
    }
   ],
   "source": [
    "print(f\"Кол-во элементов, равных заданному: {server_response.count(40)}\")\n",
    "print(f\"Индекс первого вхождения переданного элемента: {server_response.index(36.6)}\")"
   ]
  },
  {
   "cell_type": "markdown",
   "metadata": {},
   "source": [
    "## `str`"
   ]
  },
  {
   "cell_type": "markdown",
   "metadata": {},
   "source": [
    "Данный тип может представлять собой любой текст: хоть один символ, хоть весь текст какой-то книги.\n",
    "Интерактивное взаимодействие с пользователем через `input()` - строка. "
   ]
  },
  {
   "cell_type": "markdown",
   "metadata": {},
   "source": [
    "Строки в Python можно задавать как при помощи двойных, так и при помощи одинарных кавычек, а также вызова `str()`."
   ]
  },
  {
   "cell_type": "code",
   "execution_count": 45,
   "metadata": {},
   "outputs": [
    {
     "name": "stdout",
     "output_type": "stream",
     "text": [
      "Hello world\n",
      "Hello world\n"
     ]
    }
   ],
   "source": [
    "print(\"Hello world\")\n",
    "print('Hello world')"
   ]
  },
  {
   "cell_type": "markdown",
   "metadata": {},
   "source": [
    "Если нужно создать строку, которая занимает несколько строк, то необходимо в начале и в конце строки поставить 3 кавычки  "
   ]
  },
  {
   "cell_type": "code",
   "execution_count": 46,
   "metadata": {},
   "outputs": [
    {
     "name": "stdout",
     "output_type": "stream",
     "text": [
      "Lorem ipsum dolor sit amet,\n",
      "consectetur adipiscing elit,\n",
      "sed do eiusmod tempor incididunt\n",
      "ut labore et dolore magna aliqua.\n"
     ]
    }
   ],
   "source": [
    "print(\n",
    "\"\"\"Lorem ipsum dolor sit amet,\n",
    "consectetur adipiscing elit,\n",
    "sed do eiusmod tempor incididunt\n",
    "ut labore et dolore magna aliqua.\"\"\"\n",
    ")"
   ]
  },
  {
   "cell_type": "markdown",
   "metadata": {},
   "source": [
    "Также строки поддерживают индексацию и слайсы. Это позволяет получить конкретный символ или набор символов.\n",
    "Слайс (срезы) - выражение вида `string[start:end:step]`."
   ]
  },
  {
   "cell_type": "markdown",
   "metadata": {},
   "source": [
    "В Python существует форматирование строк (используют f-строки)"
   ]
  },
  {
   "cell_type": "code",
   "execution_count": 47,
   "metadata": {},
   "outputs": [
    {
     "name": "stdout",
     "output_type": "stream",
     "text": [
      "Исходная строка: Hello world\n"
     ]
    }
   ],
   "source": [
    "s = \"Hello world\"\n",
    "print(f\"Исходная строка: {s}\")"
   ]
  },
  {
   "cell_type": "code",
   "execution_count": 48,
   "metadata": {},
   "outputs": [
    {
     "name": "stdout",
     "output_type": "stream",
     "text": [
      "Длина строки 11\n"
     ]
    }
   ],
   "source": [
    "print(f'Длина строки {len(s)}')"
   ]
  },
  {
   "cell_type": "code",
   "execution_count": 49,
   "metadata": {},
   "outputs": [
    {
     "name": "stdout",
     "output_type": "stream",
     "text": [
      "Доступ к элементу по индексу: H\n",
      "Доступ к последнему cимволу: d\n"
     ]
    }
   ],
   "source": [
    "print(f\"Доступ к элементу по индексу: {s[0]}\")\n",
    "print(f\"Доступ к последнему cимволу: {s[-1]}\")"
   ]
  },
  {
   "cell_type": "code",
   "execution_count": 50,
   "metadata": {},
   "outputs": [
    {
     "name": "stdout",
     "output_type": "stream",
     "text": [
      "Слайс строки с 6 по 9 элементы: wor\n",
      "Слайс от начала строки до 9 элемента Hello wor\n",
      "Слайс от 6 элемента до конца строки: world\n",
      "Слайс с каждым четным символом: Hlowrd\n"
     ]
    }
   ],
   "source": [
    "print(f\"Слайс строки с 6 по 9 элементы: {s[6:9]}\")\n",
    "print(f\"Слайс от начала строки до 9 элемента {s[:9]}\")\n",
    "print(f\"Слайс от 6 элемента до конца строки: {s[6:]}\")\n",
    "print(f\"Слайс с каждым четным символом: {s[::2]}\")"
   ]
  },
  {
   "cell_type": "markdown",
   "metadata": {},
   "source": [
    "К строкам можно применять некоторые операции чисел."
   ]
  },
  {
   "cell_type": "markdown",
   "metadata": {},
   "source": [
    "При сравнении строк принимается во внимание символы и их регистр.  \n",
    "* цифровой символ условно меньше, чем любой алфавитный символ\n",
    "* алфавитный символ в верхнем регистре условно меньше, чем алфавитные символы в нижнем регистре"
   ]
  },
  {
   "cell_type": "code",
   "execution_count": 51,
   "metadata": {},
   "outputs": [
    {
     "name": "stdout",
     "output_type": "stream",
     "text": [
      "a == c: False\n",
      "a <= c: True\n",
      "a > 10: True\n"
     ]
    }
   ],
   "source": [
    "str1 = 'a'\n",
    "str2 = 'c'\n",
    "str3 = '10'\n",
    "print(f\"{str1} == {str2}: {str1 == str2}\")\n",
    "print(f\"{str1} <= {str2}: {str1 <= str2}\")\n",
    "print(f\"{str1} > {str3}: {str1 > str3}\")"
   ]
  },
  {
   "cell_type": "code",
   "execution_count": 52,
   "metadata": {},
   "outputs": [
    {
     "name": "stdout",
     "output_type": "stream",
     "text": [
      "a + c: ac\n",
      "a * 10: aaaaaaaaaa\n"
     ]
    }
   ],
   "source": [
    "print(f\"{str1} + {str2}: {str1 + str2}\")\n",
    "\n",
    "multiplier = 10\n",
    "print(f\"{str1} * {multiplier}: {str1 * multiplier}\")"
   ]
  },
  {
   "cell_type": "markdown",
   "metadata": {},
   "source": [
    "Также в ходе работы могут быть полезны некоторые **методы для работы со строками**:"
   ]
  },
  {
   "cell_type": "code",
   "execution_count": 53,
   "metadata": {},
   "outputs": [
    {
     "name": "stdout",
     "output_type": "stream",
     "text": [
      "Исходная строка: ' Hello World_'\n"
     ]
    }
   ],
   "source": [
    "s = \" Hello World_\"\n",
    "print(f\"Исходная строка: '{s}'\")"
   ]
  },
  {
   "cell_type": "markdown",
   "metadata": {},
   "source": [
    "1. `<str>.strip()` - позволяет удалить определенные символы в начале и в конце строки\n",
    "* `<str>.lstrip()` - удаляет символы только в начале строки\n",
    "* `<str>.rstrip()` - удаляет символы только в конце строки"
   ]
  },
  {
   "cell_type": "code",
   "execution_count": 54,
   "metadata": {},
   "outputs": [
    {
     "name": "stdout",
     "output_type": "stream",
     "text": [
      "Обрезка строки по символу '_': ' Hello World'\n",
      "Обрезка строки по символу ' ': 'Hello World_'\n",
      "Обрезка строки справа по символу '_': ' Hello World'\n"
     ]
    }
   ],
   "source": [
    "print(f\"Обрезка строки по символу '_': '{s.strip('_')}'\")\n",
    "print(f\"Обрезка строки по символу ' ': '{s.lstrip()}'\")\n",
    "print(f\"Обрезка строки справа по символу '_': '{s.rstrip('_')}'\")"
   ]
  },
  {
   "cell_type": "code",
   "execution_count": 55,
   "metadata": {},
   "outputs": [
    {
     "data": {
      "text/plain": [
       "' Hello World_'"
      ]
     },
     "execution_count": 55,
     "metadata": {},
     "output_type": "execute_result"
    }
   ],
   "source": [
    "# не меняется\n",
    "s"
   ]
  },
  {
   "cell_type": "markdown",
   "metadata": {},
   "source": [
    "2. `<str>.replace(char_1, char_2)` - позволяет заменить все символы `char_1` в строке на `char_2` "
   ]
  },
  {
   "cell_type": "code",
   "execution_count": 56,
   "metadata": {},
   "outputs": [
    {
     "name": "stdout",
     "output_type": "stream",
     "text": [
      "Замена сиволов в строке  HellO WOrld_\n"
     ]
    }
   ],
   "source": [
    "print(f\"Замена сиволов в строке {s.replace('o', 'O')}\")"
   ]
  },
  {
   "cell_type": "markdown",
   "metadata": {},
   "source": [
    "3. `<str>.split(char)` - позволяет разделить строку на список подстрок, в качестве разделителя будет использован `char`. Если `char` не задан, то строка разбивается по пробелу"
   ]
  },
  {
   "cell_type": "code",
   "execution_count": 57,
   "metadata": {},
   "outputs": [
    {
     "name": "stdout",
     "output_type": "stream",
     "text": [
      "Разделение строки по пробелу ['Hello', 'World_']\n"
     ]
    }
   ],
   "source": [
    "print(f\"Разделение строки по пробелу {s.split()}\")"
   ]
  },
  {
   "cell_type": "markdown",
   "metadata": {},
   "source": [
    "4. `<str>.join(<list of strs>)` - объединяет список элементов в строку. Между каждым элементом будет стоять сторока, для который вызывалась данная функция"
   ]
  },
  {
   "cell_type": "code",
   "execution_count": 58,
   "metadata": {},
   "outputs": [
    {
     "name": "stdout",
     "output_type": "stream",
     "text": [
      "Объеденение списка в строку: Element_1, Element_2\n"
     ]
    }
   ],
   "source": [
    "print(f\"Объеденение списка в строку: {', '.join(['Element_1', 'Element_2'])}\")"
   ]
  },
  {
   "cell_type": "code",
   "execution_count": 59,
   "metadata": {},
   "outputs": [
    {
     "name": "stdout",
     "output_type": "stream",
     "text": [
      "False\n"
     ]
    }
   ],
   "source": [
    "mse_numbers = [300, 690]\n",
    "names = ['mse_1', 'mse_2']\n",
    "result = mse_numbers[0] > mse_numbers[1]\n",
    "print(result)"
   ]
  },
  {
   "cell_type": "code",
   "execution_count": 60,
   "metadata": {},
   "outputs": [
    {
     "name": "stdout",
     "output_type": "stream",
     "text": [
      "mse_1 > mse_2\n"
     ]
    }
   ],
   "source": [
    "nice_division = ' > '.join(names)\n",
    "print(nice_division)"
   ]
  },
  {
   "cell_type": "code",
   "execution_count": 61,
   "metadata": {},
   "outputs": [
    {
     "name": "stdout",
     "output_type": "stream",
     "text": [
      "mse_1 > mse_2 = False\n"
     ]
    }
   ],
   "source": [
    "print(f'{nice_division} = {result}')"
   ]
  },
  {
   "cell_type": "markdown",
   "metadata": {},
   "source": [
    "С другими фукнциями, которые можно применять к строкам, можно ознакомиться тут: https://www.w3schools.com/python/python_ref_string.asp"
   ]
  },
  {
   "cell_type": "markdown",
   "metadata": {},
   "source": [
    "## `set`\n",
    "Сеты (множества) аналогичны математическим множествам.\n",
    "* В сете находятся **только уникальные значения**\n",
    "* Сеты **не поддерживают индексы** - неупорядоченная стуктура  \n",
    "* Может хранить почти любые типы данных (только неизменяемые)"
   ]
  },
  {
   "cell_type": "markdown",
   "metadata": {},
   "source": [
    "Создание:\n",
    "* При помощи `{}`: `s = {'set', 's', True, 2}`\n",
    "** Создать пустое множество так нельзя (литерал принадлежит `dict`)\n",
    "* Из итерируемого объекта: `set(iterable_object)`"
   ]
  },
  {
   "cell_type": "markdown",
   "metadata": {},
   "source": [
    "Пример использования:\n",
    "* обход графов\n",
    "* общие товары с конкурентом"
   ]
  },
  {
   "cell_type": "markdown",
   "metadata": {},
   "source": [
    "Часто, имея список, необходимо выделить из него только уникальные элементы - тут поможет `set`"
   ]
  },
  {
   "cell_type": "code",
   "execution_count": 62,
   "metadata": {},
   "outputs": [],
   "source": [
    "opinions = ['хорошо', 'хорошо', 'отлично', 'можно лучше', 'отлично', 'пас']"
   ]
  },
  {
   "cell_type": "code",
   "execution_count": 63,
   "metadata": {},
   "outputs": [],
   "source": [
    "unique_opinions = set(opinions)"
   ]
  },
  {
   "cell_type": "code",
   "execution_count": 64,
   "metadata": {},
   "outputs": [
    {
     "data": {
      "text/plain": [
       "{'можно лучше', 'отлично', 'пас', 'хорошо'}"
      ]
     },
     "execution_count": 64,
     "metadata": {},
     "output_type": "execute_result"
    }
   ],
   "source": [
    "unique_opinions"
   ]
  },
  {
   "cell_type": "code",
   "execution_count": 65,
   "metadata": {},
   "outputs": [
    {
     "data": {
      "text/plain": [
       "{89159001333, 89859999333, 89999999333}"
      ]
     },
     "execution_count": 65,
     "metadata": {},
     "output_type": "execute_result"
    }
   ],
   "source": [
    "client_group_avito = {8_999_999_93_33, 8_985_999_93_33, 8_915_900_13_33}\n",
    "client_group_avito"
   ]
  },
  {
   "cell_type": "markdown",
   "metadata": {},
   "source": [
    "Для работы с сетами полезны следующие методы:\n",
    "1. `<set>.add(element)` - добавляет элемент `element`"
   ]
  },
  {
   "cell_type": "code",
   "execution_count": 66,
   "metadata": {
    "scrolled": true
   },
   "outputs": [
    {
     "data": {
      "text/plain": [
       "{89159001333, 89859999333, 89999999333, 'нет телефона'}"
      ]
     },
     "execution_count": 66,
     "metadata": {},
     "output_type": "execute_result"
    }
   ],
   "source": [
    "# Добавление нового элемента\n",
    "client_group_avito.add('нет телефона')\n",
    "client_group_avito"
   ]
  },
  {
   "cell_type": "code",
   "execution_count": 67,
   "metadata": {
    "scrolled": true
   },
   "outputs": [
    {
     "data": {
      "text/plain": [
       "{89159001333, 89859999333, 89999999333, 'нет телефона'}"
      ]
     },
     "execution_count": 67,
     "metadata": {},
     "output_type": "execute_result"
    }
   ],
   "source": [
    "# Добавление элемента, который уже есть в сете\n",
    "client_group_avito.add(8_985_999_93_33)\n",
    "client_group_avito"
   ]
  },
  {
   "cell_type": "markdown",
   "metadata": {},
   "source": [
    "2. `<set>.remove(element)` - удаляет заданный элемент `element`"
   ]
  },
  {
   "cell_type": "code",
   "execution_count": 68,
   "metadata": {},
   "outputs": [
    {
     "data": {
      "text/plain": [
       "{89159001333, 89859999333, 89999999333}"
      ]
     },
     "execution_count": 68,
     "metadata": {},
     "output_type": "execute_result"
    }
   ],
   "source": [
    "# Удаление элемента из сета\n",
    "client_group_avito.remove('нет телефона')\n",
    "client_group_avito"
   ]
  },
  {
   "cell_type": "markdown",
   "metadata": {},
   "source": [
    "3. `<set1>.union(<set2>)` - возвращает объединение 2 сетов"
   ]
  },
  {
   "cell_type": "code",
   "execution_count": 69,
   "metadata": {},
   "outputs": [
    {
     "data": {
      "text/plain": [
       "{88005553535, 89159001333, 89859999333, 89999999333}"
      ]
     },
     "execution_count": 69,
     "metadata": {},
     "output_type": "execute_result"
    }
   ],
   "source": [
    "client_group_cian = {8_985_999_93_33, 8_915_900_13_33, 8_800_555_35_35}\n",
    "\n",
    "client_group_avito.union(client_group_cian)"
   ]
  },
  {
   "cell_type": "markdown",
   "metadata": {},
   "source": [
    "4. `<set1>.intersection(<set2>)` - возвращает пересечение 2 сетов"
   ]
  },
  {
   "cell_type": "code",
   "execution_count": 70,
   "metadata": {},
   "outputs": [
    {
     "data": {
      "text/plain": [
       "{89159001333, 89859999333}"
      ]
     },
     "execution_count": 70,
     "metadata": {},
     "output_type": "execute_result"
    }
   ],
   "source": [
    "client_group_avito.intersection(client_group_cian)"
   ]
  },
  {
   "cell_type": "code",
   "execution_count": 71,
   "metadata": {},
   "outputs": [
    {
     "data": {
      "text/plain": [
       "{89159001333, 89859999333, 89999999333}"
      ]
     },
     "execution_count": 71,
     "metadata": {},
     "output_type": "execute_result"
    }
   ],
   "source": [
    "# Состояние не изменилось\n",
    "client_group_avito"
   ]
  },
  {
   "cell_type": "markdown",
   "metadata": {},
   "source": [
    "5. `<set1>.difference(<set2>)` - возвращает разность 2 сетов"
   ]
  },
  {
   "cell_type": "code",
   "execution_count": 72,
   "metadata": {},
   "outputs": [
    {
     "data": {
      "text/plain": [
       "{89999999333}"
      ]
     },
     "execution_count": 72,
     "metadata": {},
     "output_type": "execute_result"
    }
   ],
   "source": [
    "client_group_avito.difference(client_group_cian)"
   ]
  },
  {
   "cell_type": "markdown",
   "metadata": {},
   "source": [
    "6. `len(<set>)` - размер сета\n",
    "7. `max(<set>)` - возвращает максимальный элемент в списке\n",
    "8. `min(<set>)` - возвращает минимальный элемент в списке"
   ]
  },
  {
   "cell_type": "code",
   "execution_count": 73,
   "metadata": {},
   "outputs": [
    {
     "name": "stdout",
     "output_type": "stream",
     "text": [
      "Размер сета: 3\n",
      "Максимальный элемент: 89999999333\n",
      "Минимальный элемент: 89159001333\n"
     ]
    }
   ],
   "source": [
    "print(f\"Размер сета: {len(client_group_avito)}\")\n",
    "print(f\"Максимальный элемент: {max(client_group_avito)}\")\n",
    "print(f\"Минимальный элемент: {min(client_group_avito)}\")"
   ]
  },
  {
   "cell_type": "markdown",
   "metadata": {},
   "source": [
    "9. `element in <set>` - проверка вхождения в set"
   ]
  },
  {
   "cell_type": "code",
   "execution_count": 74,
   "metadata": {},
   "outputs": [
    {
     "name": "stdout",
     "output_type": "stream",
     "text": [
      "88005553535 in {89159001333, 89859999333, 89999999333}: False\n"
     ]
    }
   ],
   "source": [
    "element = 8_800_555_35_35\n",
    "print(f'{element} in {client_group_avito}: {element in client_group_avito}')"
   ]
  },
  {
   "cell_type": "markdown",
   "metadata": {},
   "source": [
    "## `dict`\n",
    "\n",
    "Представляет собой набор пар `ключ: значение`.  \n",
    "* ключ - только **неизменяемые типы данных** (например: `int`, `float`, `decimal`, `complex`, `bool`, `str`, `tuple`, `range`, `frozenset`, `bytes`)\n",
    "* значения - любой тип данных  "
   ]
  },
  {
   "cell_type": "markdown",
   "metadata": {},
   "source": [
    "Аналог ключа в `list` – индекс"
   ]
  },
  {
   "cell_type": "markdown",
   "metadata": {},
   "source": [
    "Создание\n",
    "* При помощи `{}`: `d1 = {\"Russia\": \"Moscow\", \"USA\": \"Washington\"}`\n",
    "* При помощи функции: `dict(Ivan=\"manager\", Mark=\"worker\")`\n",
    "\n",
    "Изучим позже: \n",
    "* При помощи генератора "
   ]
  },
  {
   "cell_type": "markdown",
   "metadata": {},
   "source": [
    "Примеры использования:\n",
    "* ключ - ФИО, значение - возраст\n",
    "* ключ - дата, значение - список уникальных покупателей"
   ]
  },
  {
   "cell_type": "code",
   "execution_count": 75,
   "metadata": {},
   "outputs": [
    {
     "data": {
      "text/plain": [
       "{'user1': 89859999333,\n",
       " 'user2': 89999999333,\n",
       " 'user3': 'нет телефона',\n",
       " 'user4': None}"
      ]
     },
     "execution_count": 75,
     "metadata": {},
     "output_type": "execute_result"
    }
   ],
   "source": [
    "user_phones = {\n",
    "    \"user1\": 89859999333,\n",
    "    \"user2\": 89999999333,\n",
    "    \"user3\": 'нет телефона',\n",
    "    \"user4\": None,\n",
    "}\n",
    "\n",
    "# Исходный словарь\n",
    "user_phones"
   ]
  },
  {
   "cell_type": "markdown",
   "metadata": {},
   "source": [
    "Функции для работы со словарями:\n",
    "1. `<dict>.update(dict)` - Добавляет в словарь новые пары `ключ:значение`. Если один из ключей присутствует в словаре, то значение перезаписывается"
   ]
  },
  {
   "cell_type": "code",
   "execution_count": 76,
   "metadata": {},
   "outputs": [
    {
     "data": {
      "text/plain": [
       "{'user1': 89859999333,\n",
       " 'user2': 89999999333,\n",
       " 'user3': 84862500000,\n",
       " 'user4': None,\n",
       " 'user5': [89000001212, 33452331194]}"
      ]
     },
     "execution_count": 76,
     "metadata": {},
     "output_type": "execute_result"
    }
   ],
   "source": [
    "user_phones.update({\"user3\": 8_486_250_00_00, \n",
    "                   \"user5\": [8_900_000_12_12, 3_345_233_11_94]})\n",
    "\n",
    "# Обновленный словарь\n",
    "user_phones"
   ]
  },
  {
   "cell_type": "markdown",
   "metadata": {},
   "source": [
    "2. `<dict>.items()` - возвращает список таплов вида `(ключ, значение)`"
   ]
  },
  {
   "cell_type": "code",
   "execution_count": 77,
   "metadata": {},
   "outputs": [
    {
     "data": {
      "text/plain": [
       "dict_items([('user1', 89859999333), ('user2', 89999999333), ('user3', 84862500000), ('user4', None), ('user5', [89000001212, 33452331194])])"
      ]
     },
     "execution_count": 77,
     "metadata": {},
     "output_type": "execute_result"
    }
   ],
   "source": [
    "# Элементы словаря\n",
    "user_phones.items()"
   ]
  },
  {
   "cell_type": "markdown",
   "metadata": {},
   "source": [
    "3. `<dict>.keys()` - возвращает список ключей\n",
    "4. `<dict>.values()` - возвращает список значений"
   ]
  },
  {
   "cell_type": "code",
   "execution_count": 78,
   "metadata": {},
   "outputs": [
    {
     "data": {
      "text/plain": [
       "dict_keys(['user1', 'user2', 'user3', 'user4', 'user5'])"
      ]
     },
     "execution_count": 78,
     "metadata": {},
     "output_type": "execute_result"
    }
   ],
   "source": [
    "# Список ключей\n",
    "user_phones.keys()"
   ]
  },
  {
   "cell_type": "code",
   "execution_count": 79,
   "metadata": {},
   "outputs": [
    {
     "data": {
      "text/plain": [
       "dict_values([89859999333, 89999999333, 84862500000, None, [89000001212, 33452331194]])"
      ]
     },
     "execution_count": 79,
     "metadata": {},
     "output_type": "execute_result"
    }
   ],
   "source": [
    "# Список значений\n",
    "user_phones.values()"
   ]
  },
  {
   "cell_type": "markdown",
   "metadata": {},
   "source": [
    "## `range`\n",
    "\n",
    "Представляет собой набор **целых** чисел.\n",
    "\n",
    "`range([start], stop, [step])` - задает набор целых чисел от `start` до `stop` с шагом `step`. По умолчанию `start` равен 0 и `step` равен 1"
   ]
  },
  {
   "cell_type": "markdown",
   "metadata": {},
   "source": [
    "* Полезно для создания прогрессий\n",
    "* Очень часто используется в циклах (изучим в следующей лекции)"
   ]
  },
  {
   "cell_type": "markdown",
   "metadata": {},
   "source": [
    "1. указан только один аргумент - `stop`"
   ]
  },
  {
   "cell_type": "code",
   "execution_count": 80,
   "metadata": {
    "scrolled": true
   },
   "outputs": [
    {
     "name": "stdout",
     "output_type": "stream",
     "text": [
      "range(0, 5) [0, 1, 2, 3, 4]\n"
     ]
    }
   ],
   "source": [
    "marks = range(5)\n",
    "print(marks, list(marks))"
   ]
  },
  {
   "cell_type": "markdown",
   "metadata": {},
   "source": [
    "![range(5)](images/range_5.png)"
   ]
  },
  {
   "cell_type": "markdown",
   "metadata": {},
   "source": [
    "2. указаны два аргумента - `start` и `stop`"
   ]
  },
  {
   "cell_type": "code",
   "execution_count": 81,
   "metadata": {},
   "outputs": [
    {
     "name": "stdout",
     "output_type": "stream",
     "text": [
      "range(1, 5) [1, 2, 3, 4]\n"
     ]
    }
   ],
   "source": [
    "marks = range(1, 5)\n",
    "print(marks, list(marks))"
   ]
  },
  {
   "cell_type": "markdown",
   "metadata": {},
   "source": [
    "![range(1:5)](images/range_1_5.png)"
   ]
  },
  {
   "cell_type": "markdown",
   "metadata": {},
   "source": [
    "3. указаны три аргументы - `start`, `stop` и `step`"
   ]
  },
  {
   "cell_type": "code",
   "execution_count": 82,
   "metadata": {},
   "outputs": [
    {
     "name": "stdout",
     "output_type": "stream",
     "text": [
      "range(1, 5, 2) [1, 3]\n"
     ]
    }
   ],
   "source": [
    "odd = range(1, 5, 2)\n",
    "print(odd, list(odd))"
   ]
  },
  {
   "cell_type": "markdown",
   "metadata": {},
   "source": [
    "![range(step)](images/range_1_2_5.png)"
   ]
  },
  {
   "cell_type": "markdown",
   "metadata": {},
   "source": [
    "4. указаны три аргументы - `start`, `stop` и **отрицательный** `step`\n",
    "* порядок обратный\n",
    "* `start` > `stop`"
   ]
  },
  {
   "cell_type": "code",
   "execution_count": 83,
   "metadata": {},
   "outputs": [
    {
     "name": "stdout",
     "output_type": "stream",
     "text": [
      "range(4, 0, -2) [4, 2]\n"
     ]
    }
   ],
   "source": [
    "even = range(4, 0, -2)\n",
    "print(even, list(even))"
   ]
  },
  {
   "cell_type": "markdown",
   "metadata": {},
   "source": [
    "![range(1, 5)](images/range4_neg.png)"
   ]
  },
  {
   "cell_type": "code",
   "execution_count": null,
   "metadata": {},
   "outputs": [],
   "source": []
  },
  {
   "cell_type": "markdown",
   "metadata": {},
   "source": [
    "## None"
   ]
  },
  {
   "cell_type": "code",
   "execution_count": 84,
   "metadata": {},
   "outputs": [
    {
     "data": {
      "text/plain": [
       "NoneType"
      ]
     },
     "execution_count": 84,
     "metadata": {},
     "output_type": "execute_result"
    }
   ],
   "source": [
    "type(None)"
   ]
  },
  {
   "cell_type": "markdown",
   "metadata": {},
   "source": [
    "## Немного о работе с типами данных\n",
    "\n",
    "Некоторые полезные функции при работе с типами данных:\n",
    "1. `type(variable)` - возвращает тип данных для `variable`"
   ]
  },
  {
   "cell_type": "markdown",
   "metadata": {},
   "source": [
    "2. **явная конвертация** - `<data_type>(variable)` - переводит тип данных `variable` к типу `<data_type>` (например: `int(variable)` - попытка привести `variable` к типу `int`)\n",
    "3. **неявная конвертация** происходит при операциях с разными типами\n",
    "\n",
    "Важно отметить, что **не все типы могут быть сконвертированы друг в друга**."
   ]
  },
  {
   "cell_type": "markdown",
   "metadata": {},
   "source": [
    "![conversion](images/table.png)"
   ]
  },
  {
   "cell_type": "code",
   "execution_count": 85,
   "metadata": {
    "scrolled": true
   },
   "outputs": [
    {
     "name": "stdout",
     "output_type": "stream",
     "text": [
      "Тип данных для openspace == 10: <class 'int'>\n",
      "Тип данных для float(openspace) == 10.0: <class 'float'>\n",
      "Тип данных для str(openspace) == 10: <class 'str'>\n"
     ]
    }
   ],
   "source": [
    "openspace = 10\n",
    "print(f\"Тип данных для openspace == {openspace}: {type(openspace)}\")\n",
    "print(f\"Тип данных для float(openspace) == {float(openspace)}: {type(float(openspace))}\")\n",
    "print(f\"Тип данных для str(openspace) == {str(openspace)}: {type(str(openspace))}\")"
   ]
  },
  {
   "cell_type": "code",
   "execution_count": 86,
   "metadata": {},
   "outputs": [
    {
     "name": "stdout",
     "output_type": "stream",
     "text": [
      "Тип данных для item_price == 149.99: <class 'float'>\n",
      "Тип данных для int(item_price) == 149: <class 'int'>\n"
     ]
    }
   ],
   "source": [
    "item_price = 149.99\n",
    "print(f\"Тип данных для item_price == {item_price}: {type(item_price)}\")\n",
    "\n",
    "# обратите внимание\n",
    "print(f\"Тип данных для int(item_price) == {int(item_price)}: {type(int(item_price))}\")"
   ]
  },
  {
   "cell_type": "code",
   "execution_count": 87,
   "metadata": {},
   "outputs": [
    {
     "name": "stdout",
     "output_type": "stream",
     "text": [
      "Тип данных для username: <class 'str'>\n"
     ]
    }
   ],
   "source": [
    "username = 'Alexandra'\n",
    "print(f\"Тип данных для username: {type(username)}\")"
   ]
  },
  {
   "cell_type": "code",
   "execution_count": 88,
   "metadata": {},
   "outputs": [
    {
     "ename": "ValueError",
     "evalue": "invalid literal for int() with base 10: 'Alexandra'",
     "output_type": "error",
     "traceback": [
      "\u001b[0;31m---------------------------------------------------------------------------\u001b[0m",
      "\u001b[0;31mValueError\u001b[0m                                Traceback (most recent call last)",
      "\u001b[0;32m<ipython-input-88-2a63fdda5cde>\u001b[0m in \u001b[0;36m<module>\u001b[0;34m\u001b[0m\n\u001b[0;32m----> 1\u001b[0;31m \u001b[0mint\u001b[0m\u001b[0;34m(\u001b[0m\u001b[0musername\u001b[0m\u001b[0;34m)\u001b[0m\u001b[0;34m\u001b[0m\u001b[0;34m\u001b[0m\u001b[0m\n\u001b[0m",
      "\u001b[0;31mValueError\u001b[0m: invalid literal for int() with base 10: 'Alexandra'"
     ]
    }
   ],
   "source": [
    "int(username)"
   ]
  },
  {
   "cell_type": "code",
   "execution_count": 89,
   "metadata": {},
   "outputs": [
    {
     "name": "stdout",
     "output_type": "stream",
     "text": [
      "Тип данных для user_input == -0.60: <class 'str'>\n",
      "Тип данных для float(user_input) == -0.6: <class 'float'>\n"
     ]
    }
   ],
   "source": [
    "user_input = '-0.60'\n",
    "print(f\"Тип данных для user_input == {user_input}: {type(user_input)}\")\n",
    "print(f\"Тип данных для float(user_input) == {float(user_input)}: {type(float(user_input))}\")"
   ]
  },
  {
   "cell_type": "code",
   "execution_count": 90,
   "metadata": {},
   "outputs": [
    {
     "name": "stdout",
     "output_type": "stream",
     "text": [
      "Тип данных для item_supply == [10, 2, 0, 10]: <class 'list'>\n",
      "Тип данных для set(item_supply) == {0, 10, 2}: <class 'set'>\n"
     ]
    }
   ],
   "source": [
    "item_supply = [10, 2, 0, 10]\n",
    "print(f\"Тип данных для item_supply == {item_supply}: {type(item_supply)}\")\n",
    "print(f\"Тип данных для set(item_supply) == {set(item_supply)}: {type(set(item_supply))}\")"
   ]
  },
  {
   "cell_type": "code",
   "execution_count": 91,
   "metadata": {},
   "outputs": [
    {
     "name": "stdout",
     "output_type": "stream",
     "text": [
      "Тип данных для country_capital == (('Россия', 'Москва'), ('Польша', 'Варшава')): <class 'tuple'>\n",
      "Тип данных для dict(country_capital) == {'Россия': 'Москва', 'Польша': 'Варшава'}: <class 'dict'>\n"
     ]
    }
   ],
   "source": [
    "country_capital = (('Россия', 'Москва'), \n",
    "                   ('Польша', 'Варшава'))\n",
    "print(f\"Тип данных для country_capital == {country_capital}: {type(country_capital)}\")\n",
    "print(f\"Тип данных для dict(country_capital) == {dict(country_capital)}:\",\n",
    "      f\"{type(dict(country_capital))}\")"
   ]
  },
  {
   "cell_type": "code",
   "execution_count": null,
   "metadata": {},
   "outputs": [],
   "source": []
  },
  {
   "cell_type": "code",
   "execution_count": null,
   "metadata": {},
   "outputs": [],
   "source": []
  }
 ],
 "metadata": {
  "kernelspec": {
   "display_name": "Python 3",
   "language": "python",
   "name": "python3"
  },
  "language_info": {
   "codemirror_mode": {
    "name": "ipython",
    "version": 3
   },
   "file_extension": ".py",
   "mimetype": "text/x-python",
   "name": "python",
   "nbconvert_exporter": "python",
   "pygments_lexer": "ipython3",
   "version": "3.7.3"
  }
 },
 "nbformat": 4,
 "nbformat_minor": 5
}
